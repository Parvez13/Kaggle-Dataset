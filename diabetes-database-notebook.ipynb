{
 "cells": [
  {
   "cell_type": "markdown",
   "id": "otherwise-cardiff",
   "metadata": {
    "papermill": {
     "duration": 0.024001,
     "end_time": "2021-06-14T13:20:44.104758",
     "exception": false,
     "start_time": "2021-06-14T13:20:44.080757",
     "status": "completed"
    },
    "tags": []
   },
   "source": [
    "## Import Python Library"
   ]
  },
  {
   "cell_type": "code",
   "execution_count": 1,
   "id": "complex-equity",
   "metadata": {
    "execution": {
     "iopub.execute_input": "2021-06-14T13:20:44.155380Z",
     "iopub.status.busy": "2021-06-14T13:20:44.154680Z",
     "iopub.status.idle": "2021-06-14T13:20:44.945562Z",
     "shell.execute_reply": "2021-06-14T13:20:44.944893Z",
     "shell.execute_reply.started": "2021-06-14T12:21:00.261471Z"
    },
    "papermill": {
     "duration": 0.818272,
     "end_time": "2021-06-14T13:20:44.945711",
     "exception": false,
     "start_time": "2021-06-14T13:20:44.127439",
     "status": "completed"
    },
    "tags": []
   },
   "outputs": [],
   "source": [
    "import numpy as np\n",
    "import pandas as pd\n",
    "import matplotlib.pyplot as plt\n",
    "import seaborn as sns\n",
    "\n",
    "import warnings\n",
    "warnings.filterwarnings('ignore')"
   ]
  },
  {
   "cell_type": "markdown",
   "id": "private-ancient",
   "metadata": {
    "papermill": {
     "duration": 0.022107,
     "end_time": "2021-06-14T13:20:44.990427",
     "exception": false,
     "start_time": "2021-06-14T13:20:44.968320",
     "status": "completed"
    },
    "tags": []
   },
   "source": [
    "### Import Dataset"
   ]
  },
  {
   "cell_type": "code",
   "execution_count": 2,
   "id": "capital-dispute",
   "metadata": {
    "execution": {
     "iopub.execute_input": "2021-06-14T13:20:45.041617Z",
     "iopub.status.busy": "2021-06-14T13:20:45.040875Z",
     "iopub.status.idle": "2021-06-14T13:20:45.088335Z",
     "shell.execute_reply": "2021-06-14T13:20:45.088815Z",
     "shell.execute_reply.started": "2021-06-14T12:21:44.752061Z"
    },
    "papermill": {
     "duration": 0.076056,
     "end_time": "2021-06-14T13:20:45.088976",
     "exception": false,
     "start_time": "2021-06-14T13:20:45.012920",
     "status": "completed"
    },
    "tags": []
   },
   "outputs": [
    {
     "data": {
      "text/html": [
       "<div>\n",
       "<style scoped>\n",
       "    .dataframe tbody tr th:only-of-type {\n",
       "        vertical-align: middle;\n",
       "    }\n",
       "\n",
       "    .dataframe tbody tr th {\n",
       "        vertical-align: top;\n",
       "    }\n",
       "\n",
       "    .dataframe thead th {\n",
       "        text-align: right;\n",
       "    }\n",
       "</style>\n",
       "<table border=\"1\" class=\"dataframe\">\n",
       "  <thead>\n",
       "    <tr style=\"text-align: right;\">\n",
       "      <th></th>\n",
       "      <th>Pregnancies</th>\n",
       "      <th>Glucose</th>\n",
       "      <th>BloodPressure</th>\n",
       "      <th>SkinThickness</th>\n",
       "      <th>Insulin</th>\n",
       "      <th>BMI</th>\n",
       "      <th>DiabetesPedigreeFunction</th>\n",
       "      <th>Age</th>\n",
       "      <th>Outcome</th>\n",
       "    </tr>\n",
       "  </thead>\n",
       "  <tbody>\n",
       "    <tr>\n",
       "      <th>0</th>\n",
       "      <td>6</td>\n",
       "      <td>148</td>\n",
       "      <td>72</td>\n",
       "      <td>35</td>\n",
       "      <td>0</td>\n",
       "      <td>33.6</td>\n",
       "      <td>0.627</td>\n",
       "      <td>50</td>\n",
       "      <td>1</td>\n",
       "    </tr>\n",
       "    <tr>\n",
       "      <th>1</th>\n",
       "      <td>1</td>\n",
       "      <td>85</td>\n",
       "      <td>66</td>\n",
       "      <td>29</td>\n",
       "      <td>0</td>\n",
       "      <td>26.6</td>\n",
       "      <td>0.351</td>\n",
       "      <td>31</td>\n",
       "      <td>0</td>\n",
       "    </tr>\n",
       "    <tr>\n",
       "      <th>2</th>\n",
       "      <td>8</td>\n",
       "      <td>183</td>\n",
       "      <td>64</td>\n",
       "      <td>0</td>\n",
       "      <td>0</td>\n",
       "      <td>23.3</td>\n",
       "      <td>0.672</td>\n",
       "      <td>32</td>\n",
       "      <td>1</td>\n",
       "    </tr>\n",
       "    <tr>\n",
       "      <th>3</th>\n",
       "      <td>1</td>\n",
       "      <td>89</td>\n",
       "      <td>66</td>\n",
       "      <td>23</td>\n",
       "      <td>94</td>\n",
       "      <td>28.1</td>\n",
       "      <td>0.167</td>\n",
       "      <td>21</td>\n",
       "      <td>0</td>\n",
       "    </tr>\n",
       "    <tr>\n",
       "      <th>4</th>\n",
       "      <td>0</td>\n",
       "      <td>137</td>\n",
       "      <td>40</td>\n",
       "      <td>35</td>\n",
       "      <td>168</td>\n",
       "      <td>43.1</td>\n",
       "      <td>2.288</td>\n",
       "      <td>33</td>\n",
       "      <td>1</td>\n",
       "    </tr>\n",
       "  </tbody>\n",
       "</table>\n",
       "</div>"
      ],
      "text/plain": [
       "   Pregnancies  Glucose  BloodPressure  SkinThickness  Insulin   BMI  \\\n",
       "0            6      148             72             35        0  33.6   \n",
       "1            1       85             66             29        0  26.6   \n",
       "2            8      183             64              0        0  23.3   \n",
       "3            1       89             66             23       94  28.1   \n",
       "4            0      137             40             35      168  43.1   \n",
       "\n",
       "   DiabetesPedigreeFunction  Age  Outcome  \n",
       "0                     0.627   50        1  \n",
       "1                     0.351   31        0  \n",
       "2                     0.672   32        1  \n",
       "3                     0.167   21        0  \n",
       "4                     2.288   33        1  "
      ]
     },
     "execution_count": 2,
     "metadata": {},
     "output_type": "execute_result"
    }
   ],
   "source": [
    "df = pd.read_csv('../input/pima-indians-diabetes-database/diabetes.csv')\n",
    "df.head()"
   ]
  },
  {
   "cell_type": "code",
   "execution_count": 3,
   "id": "inside-lover",
   "metadata": {
    "execution": {
     "iopub.execute_input": "2021-06-14T13:20:45.138894Z",
     "iopub.status.busy": "2021-06-14T13:20:45.138007Z",
     "iopub.status.idle": "2021-06-14T13:20:45.145460Z",
     "shell.execute_reply": "2021-06-14T13:20:45.145924Z",
     "shell.execute_reply.started": "2021-06-14T12:22:10.822080Z"
    },
    "papermill": {
     "duration": 0.033814,
     "end_time": "2021-06-14T13:20:45.146095",
     "exception": false,
     "start_time": "2021-06-14T13:20:45.112281",
     "status": "completed"
    },
    "tags": []
   },
   "outputs": [
    {
     "data": {
      "text/plain": [
       "Pregnancies                 0\n",
       "Glucose                     0\n",
       "BloodPressure               0\n",
       "SkinThickness               0\n",
       "Insulin                     0\n",
       "BMI                         0\n",
       "DiabetesPedigreeFunction    0\n",
       "Age                         0\n",
       "Outcome                     0\n",
       "dtype: int64"
      ]
     },
     "execution_count": 3,
     "metadata": {},
     "output_type": "execute_result"
    }
   ],
   "source": [
    "# Checking missing values\n",
    "df.isna().sum()"
   ]
  },
  {
   "cell_type": "code",
   "execution_count": 4,
   "id": "reverse-flavor",
   "metadata": {
    "execution": {
     "iopub.execute_input": "2021-06-14T13:20:45.196230Z",
     "iopub.status.busy": "2021-06-14T13:20:45.195288Z",
     "iopub.status.idle": "2021-06-14T13:20:45.201786Z",
     "shell.execute_reply": "2021-06-14T13:20:45.202294Z",
     "shell.execute_reply.started": "2021-06-14T12:22:28.171200Z"
    },
    "papermill": {
     "duration": 0.033219,
     "end_time": "2021-06-14T13:20:45.202448",
     "exception": false,
     "start_time": "2021-06-14T13:20:45.169229",
     "status": "completed"
    },
    "tags": []
   },
   "outputs": [
    {
     "data": {
      "text/plain": [
       "Pregnancies                   int64\n",
       "Glucose                       int64\n",
       "BloodPressure                 int64\n",
       "SkinThickness                 int64\n",
       "Insulin                       int64\n",
       "BMI                         float64\n",
       "DiabetesPedigreeFunction    float64\n",
       "Age                           int64\n",
       "Outcome                       int64\n",
       "dtype: object"
      ]
     },
     "execution_count": 4,
     "metadata": {},
     "output_type": "execute_result"
    }
   ],
   "source": [
    "# Checking the dtypes\n",
    "df.dtypes"
   ]
  },
  {
   "cell_type": "markdown",
   "id": "opposite-junction",
   "metadata": {
    "papermill": {
     "duration": 0.02511,
     "end_time": "2021-06-14T13:20:45.251090",
     "exception": false,
     "start_time": "2021-06-14T13:20:45.225980",
     "status": "completed"
    },
    "tags": []
   },
   "source": [
    "## Exploratory Data Analysis"
   ]
  },
  {
   "cell_type": "code",
   "execution_count": 5,
   "id": "intended-cliff",
   "metadata": {
    "execution": {
     "iopub.execute_input": "2021-06-14T13:20:45.303426Z",
     "iopub.status.busy": "2021-06-14T13:20:45.302497Z",
     "iopub.status.idle": "2021-06-14T13:20:45.339888Z",
     "shell.execute_reply": "2021-06-14T13:20:45.340414Z",
     "shell.execute_reply.started": "2021-06-14T12:23:20.059668Z"
    },
    "papermill": {
     "duration": 0.065632,
     "end_time": "2021-06-14T13:20:45.340578",
     "exception": false,
     "start_time": "2021-06-14T13:20:45.274946",
     "status": "completed"
    },
    "tags": []
   },
   "outputs": [
    {
     "data": {
      "text/html": [
       "<div>\n",
       "<style scoped>\n",
       "    .dataframe tbody tr th:only-of-type {\n",
       "        vertical-align: middle;\n",
       "    }\n",
       "\n",
       "    .dataframe tbody tr th {\n",
       "        vertical-align: top;\n",
       "    }\n",
       "\n",
       "    .dataframe thead th {\n",
       "        text-align: right;\n",
       "    }\n",
       "</style>\n",
       "<table border=\"1\" class=\"dataframe\">\n",
       "  <thead>\n",
       "    <tr style=\"text-align: right;\">\n",
       "      <th></th>\n",
       "      <th>Pregnancies</th>\n",
       "      <th>Glucose</th>\n",
       "      <th>BloodPressure</th>\n",
       "      <th>SkinThickness</th>\n",
       "      <th>Insulin</th>\n",
       "      <th>BMI</th>\n",
       "      <th>DiabetesPedigreeFunction</th>\n",
       "      <th>Age</th>\n",
       "      <th>Outcome</th>\n",
       "    </tr>\n",
       "  </thead>\n",
       "  <tbody>\n",
       "    <tr>\n",
       "      <th>count</th>\n",
       "      <td>768.000000</td>\n",
       "      <td>768.000000</td>\n",
       "      <td>768.000000</td>\n",
       "      <td>768.000000</td>\n",
       "      <td>768.000000</td>\n",
       "      <td>768.000000</td>\n",
       "      <td>768.000000</td>\n",
       "      <td>768.000000</td>\n",
       "      <td>768.000000</td>\n",
       "    </tr>\n",
       "    <tr>\n",
       "      <th>mean</th>\n",
       "      <td>3.845052</td>\n",
       "      <td>120.894531</td>\n",
       "      <td>69.105469</td>\n",
       "      <td>20.536458</td>\n",
       "      <td>79.799479</td>\n",
       "      <td>31.992578</td>\n",
       "      <td>0.471876</td>\n",
       "      <td>33.240885</td>\n",
       "      <td>0.348958</td>\n",
       "    </tr>\n",
       "    <tr>\n",
       "      <th>std</th>\n",
       "      <td>3.369578</td>\n",
       "      <td>31.972618</td>\n",
       "      <td>19.355807</td>\n",
       "      <td>15.952218</td>\n",
       "      <td>115.244002</td>\n",
       "      <td>7.884160</td>\n",
       "      <td>0.331329</td>\n",
       "      <td>11.760232</td>\n",
       "      <td>0.476951</td>\n",
       "    </tr>\n",
       "    <tr>\n",
       "      <th>min</th>\n",
       "      <td>0.000000</td>\n",
       "      <td>0.000000</td>\n",
       "      <td>0.000000</td>\n",
       "      <td>0.000000</td>\n",
       "      <td>0.000000</td>\n",
       "      <td>0.000000</td>\n",
       "      <td>0.078000</td>\n",
       "      <td>21.000000</td>\n",
       "      <td>0.000000</td>\n",
       "    </tr>\n",
       "    <tr>\n",
       "      <th>25%</th>\n",
       "      <td>1.000000</td>\n",
       "      <td>99.000000</td>\n",
       "      <td>62.000000</td>\n",
       "      <td>0.000000</td>\n",
       "      <td>0.000000</td>\n",
       "      <td>27.300000</td>\n",
       "      <td>0.243750</td>\n",
       "      <td>24.000000</td>\n",
       "      <td>0.000000</td>\n",
       "    </tr>\n",
       "    <tr>\n",
       "      <th>50%</th>\n",
       "      <td>3.000000</td>\n",
       "      <td>117.000000</td>\n",
       "      <td>72.000000</td>\n",
       "      <td>23.000000</td>\n",
       "      <td>30.500000</td>\n",
       "      <td>32.000000</td>\n",
       "      <td>0.372500</td>\n",
       "      <td>29.000000</td>\n",
       "      <td>0.000000</td>\n",
       "    </tr>\n",
       "    <tr>\n",
       "      <th>75%</th>\n",
       "      <td>6.000000</td>\n",
       "      <td>140.250000</td>\n",
       "      <td>80.000000</td>\n",
       "      <td>32.000000</td>\n",
       "      <td>127.250000</td>\n",
       "      <td>36.600000</td>\n",
       "      <td>0.626250</td>\n",
       "      <td>41.000000</td>\n",
       "      <td>1.000000</td>\n",
       "    </tr>\n",
       "    <tr>\n",
       "      <th>max</th>\n",
       "      <td>17.000000</td>\n",
       "      <td>199.000000</td>\n",
       "      <td>122.000000</td>\n",
       "      <td>99.000000</td>\n",
       "      <td>846.000000</td>\n",
       "      <td>67.100000</td>\n",
       "      <td>2.420000</td>\n",
       "      <td>81.000000</td>\n",
       "      <td>1.000000</td>\n",
       "    </tr>\n",
       "  </tbody>\n",
       "</table>\n",
       "</div>"
      ],
      "text/plain": [
       "       Pregnancies     Glucose  BloodPressure  SkinThickness     Insulin  \\\n",
       "count   768.000000  768.000000     768.000000     768.000000  768.000000   \n",
       "mean      3.845052  120.894531      69.105469      20.536458   79.799479   \n",
       "std       3.369578   31.972618      19.355807      15.952218  115.244002   \n",
       "min       0.000000    0.000000       0.000000       0.000000    0.000000   \n",
       "25%       1.000000   99.000000      62.000000       0.000000    0.000000   \n",
       "50%       3.000000  117.000000      72.000000      23.000000   30.500000   \n",
       "75%       6.000000  140.250000      80.000000      32.000000  127.250000   \n",
       "max      17.000000  199.000000     122.000000      99.000000  846.000000   \n",
       "\n",
       "              BMI  DiabetesPedigreeFunction         Age     Outcome  \n",
       "count  768.000000                768.000000  768.000000  768.000000  \n",
       "mean    31.992578                  0.471876   33.240885    0.348958  \n",
       "std      7.884160                  0.331329   11.760232    0.476951  \n",
       "min      0.000000                  0.078000   21.000000    0.000000  \n",
       "25%     27.300000                  0.243750   24.000000    0.000000  \n",
       "50%     32.000000                  0.372500   29.000000    0.000000  \n",
       "75%     36.600000                  0.626250   41.000000    1.000000  \n",
       "max     67.100000                  2.420000   81.000000    1.000000  "
      ]
     },
     "execution_count": 5,
     "metadata": {},
     "output_type": "execute_result"
    }
   ],
   "source": [
    "#describe\n",
    "df.describe()"
   ]
  },
  {
   "cell_type": "code",
   "execution_count": 6,
   "id": "swedish-economy",
   "metadata": {
    "execution": {
     "iopub.execute_input": "2021-06-14T13:20:45.392039Z",
     "iopub.status.busy": "2021-06-14T13:20:45.391422Z",
     "iopub.status.idle": "2021-06-14T13:20:46.072639Z",
     "shell.execute_reply": "2021-06-14T13:20:46.072045Z",
     "shell.execute_reply.started": "2021-06-14T12:26:39.601510Z"
    },
    "papermill": {
     "duration": 0.707966,
     "end_time": "2021-06-14T13:20:46.072769",
     "exception": false,
     "start_time": "2021-06-14T13:20:45.364803",
     "status": "completed"
    },
    "tags": []
   },
   "outputs": [
    {
     "data": {
      "image/png": "[encoded data removed]",
      "text/plain": [
       "<Figure size 720x720 with 2 Axes>"
      ]
     },
     "metadata": {
      "needs_background": "light"
     },
     "output_type": "display_data"
    }
   ],
   "source": [
    "# Correlation\n",
    "plt.figure(figsize=(10,10))\n",
    "sns.heatmap(df.corr(),\n",
    "           annot=True,\n",
    "           cmap='Pastel1')\n",
    "plt.title('Correlation of Diabetes', fontsize=20);"
   ]
  },
  {
   "cell_type": "code",
   "execution_count": 7,
   "id": "wanted-italian",
   "metadata": {
    "execution": {
     "iopub.execute_input": "2021-06-14T13:20:46.130805Z",
     "iopub.status.busy": "2021-06-14T13:20:46.130188Z",
     "iopub.status.idle": "2021-06-14T13:20:46.134502Z",
     "shell.execute_reply": "2021-06-14T13:20:46.133984Z",
     "shell.execute_reply.started": "2021-06-14T12:27:00.261228Z"
    },
    "papermill": {
     "duration": 0.035221,
     "end_time": "2021-06-14T13:20:46.134648",
     "exception": false,
     "start_time": "2021-06-14T13:20:46.099427",
     "status": "completed"
    },
    "tags": []
   },
   "outputs": [
    {
     "data": {
      "text/plain": [
       "Index(['Pregnancies', 'Glucose', 'BloodPressure', 'SkinThickness', 'Insulin',\n",
       "       'BMI', 'DiabetesPedigreeFunction', 'Age', 'Outcome'],\n",
       "      dtype='object')"
      ]
     },
     "execution_count": 7,
     "metadata": {},
     "output_type": "execute_result"
    }
   ],
   "source": [
    "df.columns"
   ]
  },
  {
   "cell_type": "code",
   "execution_count": 8,
   "id": "current-orlando",
   "metadata": {
    "execution": {
     "iopub.execute_input": "2021-06-14T13:20:46.213555Z",
     "iopub.status.busy": "2021-06-14T13:20:46.212905Z",
     "iopub.status.idle": "2021-06-14T13:20:46.396513Z",
     "shell.execute_reply": "2021-06-14T13:20:46.396032Z",
     "shell.execute_reply.started": "2021-06-14T12:30:59.730068Z"
    },
    "papermill": {
     "duration": 0.235618,
     "end_time": "2021-06-14T13:20:46.396648",
     "exception": false,
     "start_time": "2021-06-14T13:20:46.161030",
     "status": "completed"
    },
    "tags": []
   },
   "outputs": [
    {
     "data": {
      "text/plain": [
       "<AxesSubplot:xlabel='Age', ylabel='Glucose'>"
      ]
     },
     "execution_count": 8,
     "metadata": {},
     "output_type": "execute_result"
    },
    {
     "data": {
      "image/png": "[encoded data removed]",
      "text/plain": [
       "<Figure size 720x360 with 1 Axes>"
      ]
     },
     "metadata": {
      "needs_background": "light"
     },
     "output_type": "display_data"
    }
   ],
   "source": [
    "plt.figure(figsize=(10,5))\n",
    "sns.scatterplot(data=df, x='Age', y='Glucose', color='Black')\n"
   ]
  },
  {
   "cell_type": "code",
   "execution_count": 9,
   "id": "czech-philip",
   "metadata": {
    "execution": {
     "iopub.execute_input": "2021-06-14T13:20:46.461583Z",
     "iopub.status.busy": "2021-06-14T13:20:46.460338Z",
     "iopub.status.idle": "2021-06-14T13:20:47.718415Z",
     "shell.execute_reply": "2021-06-14T13:20:47.718872Z",
     "shell.execute_reply.started": "2021-06-14T12:33:01.858262Z"
    },
    "papermill": {
     "duration": 1.294637,
     "end_time": "2021-06-14T13:20:47.719048",
     "exception": false,
     "start_time": "2021-06-14T13:20:46.424411",
     "status": "completed"
    },
    "tags": []
   },
   "outputs": [
    {
     "data": {
      "text/plain": [
       "<AxesSubplot:xlabel='Age', ylabel='BloodPressure'>"
      ]
     },
     "execution_count": 9,
     "metadata": {},
     "output_type": "execute_result"
    },
    {
     "data": {
      "image/png": "[encoded data removed]",
      "text/plain": [
       "<Figure size 1440x720 with 1 Axes>"
      ]
     },
     "metadata": {
      "needs_background": "light"
     },
     "output_type": "display_data"
    }
   ],
   "source": [
    "plt.figure(figsize=(20,10))\n",
    "sns.boxplot(data=df, x='Age', y='BloodPressure')"
   ]
  },
  {
   "cell_type": "code",
   "execution_count": 10,
   "id": "vanilla-lancaster",
   "metadata": {
    "execution": {
     "iopub.execute_input": "2021-06-14T13:20:47.780113Z",
     "iopub.status.busy": "2021-06-14T13:20:47.779544Z",
     "iopub.status.idle": "2021-06-14T13:20:50.161482Z",
     "shell.execute_reply": "2021-06-14T13:20:50.160951Z",
     "shell.execute_reply.started": "2021-06-14T12:37:52.694437Z"
    },
    "papermill": {
     "duration": 2.413497,
     "end_time": "2021-06-14T13:20:50.161620",
     "exception": false,
     "start_time": "2021-06-14T13:20:47.748123",
     "status": "completed"
    },
    "tags": []
   },
   "outputs": [
    {
     "data": {
      "text/plain": [
       "<AxesSubplot:xlabel='Age', ylabel='Pregnancies'>"
      ]
     },
     "execution_count": 10,
     "metadata": {},
     "output_type": "execute_result"
    },
    {
     "data": {
      "image/png": "[encoded data removed]",
      "text/plain": [
       "<Figure size 1440x720 with 1 Axes>"
      ]
     },
     "metadata": {
      "needs_background": "light"
     },
     "output_type": "display_data"
    }
   ],
   "source": [
    "plt.figure(figsize=(20,10))\n",
    "sns.barplot(data=df, x='Age', y='Pregnancies')"
   ]
  },
  {
   "cell_type": "code",
   "execution_count": 11,
   "id": "blind-romantic",
   "metadata": {
    "execution": {
     "iopub.execute_input": "2021-06-14T13:20:50.230884Z",
     "iopub.status.busy": "2021-06-14T13:20:50.230216Z",
     "iopub.status.idle": "2021-06-14T13:20:53.428386Z",
     "shell.execute_reply": "2021-06-14T13:20:53.427860Z",
     "shell.execute_reply.started": "2021-06-14T12:39:57.446451Z"
    },
    "papermill": {
     "duration": 3.235943,
     "end_time": "2021-06-14T13:20:53.428517",
     "exception": false,
     "start_time": "2021-06-14T13:20:50.192574",
     "status": "completed"
    },
    "tags": []
   },
   "outputs": [
    {
     "data": {
      "text/plain": [
       "<AxesSubplot:xlabel='Glucose', ylabel='Insulin'>"
      ]
     },
     "execution_count": 11,
     "metadata": {},
     "output_type": "execute_result"
    },
    {
     "data": {
      "image/png": "[encoded data removed]",
      "text/plain": [
       "<Figure size 1440x1440 with 1 Axes>"
      ]
     },
     "metadata": {
      "needs_background": "light"
     },
     "output_type": "display_data"
    }
   ],
   "source": [
    "plt.figure(figsize=(20,20))\n",
    "sns.boxplot(data=df, x='Glucose', y='Insulin')"
   ]
  },
  {
   "cell_type": "code",
   "execution_count": 12,
   "id": "inappropriate-touch",
   "metadata": {
    "execution": {
     "iopub.execute_input": "2021-06-14T13:20:53.517628Z",
     "iopub.status.busy": "2021-06-14T13:20:53.500313Z",
     "iopub.status.idle": "2021-06-14T13:20:53.735504Z",
     "shell.execute_reply": "2021-06-14T13:20:53.736030Z",
     "shell.execute_reply.started": "2021-06-14T12:41:34.122551Z"
    },
    "papermill": {
     "duration": 0.275091,
     "end_time": "2021-06-14T13:20:53.736192",
     "exception": false,
     "start_time": "2021-06-14T13:20:53.461101",
     "status": "completed"
    },
    "tags": []
   },
   "outputs": [
    {
     "data": {
      "text/plain": [
       "<seaborn.axisgrid.FacetGrid at 0x7f097ae8c610>"
      ]
     },
     "execution_count": 12,
     "metadata": {},
     "output_type": "execute_result"
    },
    {
     "data": {
      "text/plain": [
       "<Figure size 720x720 with 0 Axes>"
      ]
     },
     "metadata": {},
     "output_type": "display_data"
    },
    {
     "data": {
      "image/png": "[encoded data removed]",
      "text/plain": [
       "<Figure size 360x360 with 1 Axes>"
      ]
     },
     "metadata": {
      "needs_background": "light"
     },
     "output_type": "display_data"
    }
   ],
   "source": [
    "plt.figure(figsize=(10,10))\n",
    "sns.displot(df['Outcome'])"
   ]
  },
  {
   "cell_type": "markdown",
   "id": "exact-novelty",
   "metadata": {
    "papermill": {
     "duration": 0.03279,
     "end_time": "2021-06-14T13:20:53.802626",
     "exception": false,
     "start_time": "2021-06-14T13:20:53.769836",
     "status": "completed"
    },
    "tags": []
   },
   "source": [
    "### Modelling"
   ]
  },
  {
   "cell_type": "markdown",
   "id": "atmospheric-landscape",
   "metadata": {
    "papermill": {
     "duration": 0.033282,
     "end_time": "2021-06-14T13:20:53.868842",
     "exception": false,
     "start_time": "2021-06-14T13:20:53.835560",
     "status": "completed"
    },
    "tags": []
   },
   "source": [
    "#### split the dataset"
   ]
  },
  {
   "cell_type": "code",
   "execution_count": 13,
   "id": "controversial-cabin",
   "metadata": {
    "execution": {
     "iopub.execute_input": "2021-06-14T13:20:53.939716Z",
     "iopub.status.busy": "2021-06-14T13:20:53.939170Z",
     "iopub.status.idle": "2021-06-14T13:20:54.153357Z",
     "shell.execute_reply": "2021-06-14T13:20:54.153900Z",
     "shell.execute_reply.started": "2021-06-14T12:48:42.539968Z"
    },
    "papermill": {
     "duration": 0.250978,
     "end_time": "2021-06-14T13:20:54.154085",
     "exception": false,
     "start_time": "2021-06-14T13:20:53.903107",
     "status": "completed"
    },
    "tags": []
   },
   "outputs": [
    {
     "data": {
      "text/plain": [
       "(614, 154, 614, 154)"
      ]
     },
     "execution_count": 13,
     "metadata": {},
     "output_type": "execute_result"
    }
   ],
   "source": [
    "from sklearn.model_selection import train_test_split\n",
    "\n",
    "X = df.drop('Outcome', axis=1)\n",
    "y = df['Outcome']\n",
    "\n",
    "X_train, X_test, y_train, y_test = train_test_split(X, y, test_size=0.2)\n",
    "len(X_train), len(X_test), len(y_train), len(y_test)"
   ]
  },
  {
   "cell_type": "markdown",
   "id": "single-inspection",
   "metadata": {
    "papermill": {
     "duration": 0.033419,
     "end_time": "2021-06-14T13:20:54.221721",
     "exception": false,
     "start_time": "2021-06-14T13:20:54.188302",
     "status": "completed"
    },
    "tags": []
   },
   "source": [
    "### Logistic Regression"
   ]
  },
  {
   "cell_type": "code",
   "execution_count": 14,
   "id": "tracked-possibility",
   "metadata": {
    "execution": {
     "iopub.execute_input": "2021-06-14T13:20:54.292275Z",
     "iopub.status.busy": "2021-06-14T13:20:54.291644Z",
     "iopub.status.idle": "2021-06-14T13:20:54.662096Z",
     "shell.execute_reply": "2021-06-14T13:20:54.661466Z",
     "shell.execute_reply.started": "2021-06-14T12:58:08.932706Z"
    },
    "papermill": {
     "duration": 0.406785,
     "end_time": "2021-06-14T13:20:54.662248",
     "exception": false,
     "start_time": "2021-06-14T13:20:54.255463",
     "status": "completed"
    },
    "tags": []
   },
   "outputs": [
    {
     "name": "stdout",
     "output_type": "stream",
     "text": [
      " Score : 0.8311688311688312\n",
      "********************\n",
      " Accuracy_score : 83.12%\n",
      " Precision_score : 0.8260869565217391\n",
      " Recall_score : 0.6785714285714286\n",
      " F1_score  : 0.7450980392156864\n",
      "********************\n",
      " Classification_report :               precision    recall  f1-score   support\n",
      "\n",
      "           0       0.83      0.92      0.87        98\n",
      "           1       0.83      0.68      0.75        56\n",
      "\n",
      "    accuracy                           0.83       154\n",
      "   macro avg       0.83      0.80      0.81       154\n",
      "weighted avg       0.83      0.83      0.83       154\n",
      "\n"
     ]
    },
    {
     "data": {
      "image/png": "[encoded data removed]",
      "text/plain": [
       "<Figure size 432x288 with 2 Axes>"
      ]
     },
     "metadata": {
      "needs_background": "light"
     },
     "output_type": "display_data"
    }
   ],
   "source": [
    "from sklearn.linear_model import LogisticRegression\n",
    "from sklearn.metrics import accuracy_score, precision_score, recall_score, f1_score\n",
    "from sklearn.metrics import confusion_matrix, classification_report\n",
    "\n",
    "\n",
    "lr = LogisticRegression(random_state=42)\n",
    "lr.fit(X_train, y_train)\n",
    "y_preds = lr.predict(X_test)\n",
    "\n",
    "print(f\" Score : {lr.score(X_test, y_test)}\")\n",
    "print(\"*\"*20)\n",
    "print(f\" Accuracy_score : {accuracy_score(y_test, y_preds)*100:.2f}%\")\n",
    "print(f\" Precision_score : {precision_score(y_test, y_preds)}\")\n",
    "print(f\" Recall_score : {recall_score(y_test, y_preds)}\")\n",
    "print(f\" F1_score  : {f1_score(y_test, y_preds)}\")\n",
    "print(\"*\" * 20)\n",
    "print(f\" Classification_report : {classification_report(y_test, y_preds)}\")\n",
    "\n",
    "sns.heatmap(confusion_matrix(y_test, y_preds),\n",
    "            annot=True)\n",
    "plt.title(\"Confusion Matrix\");"
   ]
  },
  {
   "cell_type": "markdown",
   "id": "prostate-quarterly",
   "metadata": {
    "papermill": {
     "duration": 0.034906,
     "end_time": "2021-06-14T13:20:54.732300",
     "exception": false,
     "start_time": "2021-06-14T13:20:54.697394",
     "status": "completed"
    },
    "tags": []
   },
   "source": [
    "### RandomForestClassifier"
   ]
  },
  {
   "cell_type": "code",
   "execution_count": 15,
   "id": "acute-satisfaction",
   "metadata": {
    "execution": {
     "iopub.execute_input": "2021-06-14T13:20:54.810861Z",
     "iopub.status.busy": "2021-06-14T13:20:54.810264Z",
     "iopub.status.idle": "2021-06-14T13:20:55.410945Z",
     "shell.execute_reply": "2021-06-14T13:20:55.410355Z",
     "shell.execute_reply.started": "2021-06-14T13:00:28.108892Z"
    },
    "papermill": {
     "duration": 0.642809,
     "end_time": "2021-06-14T13:20:55.411095",
     "exception": false,
     "start_time": "2021-06-14T13:20:54.768286",
     "status": "completed"
    },
    "tags": []
   },
   "outputs": [
    {
     "name": "stdout",
     "output_type": "stream",
     "text": [
      " Score : 0.7987012987012987\n",
      "********************\n",
      " Accuracy_score : 79.87%\n",
      " Precision_score : 0.7272727272727273\n",
      " Recall_score : 0.7142857142857143\n",
      " F1_score  : 0.7207207207207208\n",
      "********************\n",
      " Classification_report :               precision    recall  f1-score   support\n",
      "\n",
      "           0       0.84      0.85      0.84        98\n",
      "           1       0.73      0.71      0.72        56\n",
      "\n",
      "    accuracy                           0.80       154\n",
      "   macro avg       0.78      0.78      0.78       154\n",
      "weighted avg       0.80      0.80      0.80       154\n",
      "\n"
     ]
    },
    {
     "data": {
      "image/png": "[encoded data removed]",
      "text/plain": [
       "<Figure size 432x288 with 2 Axes>"
      ]
     },
     "metadata": {
      "needs_background": "light"
     },
     "output_type": "display_data"
    }
   ],
   "source": [
    "from sklearn.ensemble import RandomForestClassifier\n",
    "\n",
    "rf = RandomForestClassifier(random_state=42)\n",
    "rf.fit(X_train, y_train)\n",
    "y_preds = rf.predict(X_test)\n",
    "\n",
    "print(f\" Score : {rf.score(X_test, y_test)}\")\n",
    "print(\"*\"*20)\n",
    "print(f\" Accuracy_score : {accuracy_score(y_test, y_preds)*100:.2f}%\")\n",
    "print(f\" Precision_score : {precision_score(y_test, y_preds)}\")\n",
    "print(f\" Recall_score : {recall_score(y_test, y_preds)}\")\n",
    "print(f\" F1_score  : {f1_score(y_test, y_preds)}\")\n",
    "print(\"*\" * 20)\n",
    "print(f\" Classification_report : {classification_report(y_test, y_preds)}\")\n",
    "\n",
    "sns.heatmap(confusion_matrix(y_test, y_preds),\n",
    "            annot=True)\n",
    "plt.title(\"Confusion Matrix\");"
   ]
  },
  {
   "cell_type": "markdown",
   "id": "constitutional-injection",
   "metadata": {
    "papermill": {
     "duration": 0.038222,
     "end_time": "2021-06-14T13:20:55.485590",
     "exception": false,
     "start_time": "2021-06-14T13:20:55.447368",
     "status": "completed"
    },
    "tags": []
   },
   "source": [
    "### GradientBoostingClassifier"
   ]
  },
  {
   "cell_type": "code",
   "execution_count": 16,
   "id": "associate-franchise",
   "metadata": {
    "execution": {
     "iopub.execute_input": "2021-06-14T13:20:55.566637Z",
     "iopub.status.busy": "2021-06-14T13:20:55.566028Z",
     "iopub.status.idle": "2021-06-14T13:20:55.941126Z",
     "shell.execute_reply": "2021-06-14T13:20:55.940349Z",
     "shell.execute_reply.started": "2021-06-14T13:02:14.873255Z"
    },
    "papermill": {
     "duration": 0.419515,
     "end_time": "2021-06-14T13:20:55.941268",
     "exception": false,
     "start_time": "2021-06-14T13:20:55.521753",
     "status": "completed"
    },
    "tags": []
   },
   "outputs": [
    {
     "name": "stdout",
     "output_type": "stream",
     "text": [
      " Score : 0.7597402597402597\n",
      "********************\n",
      " Accuracy_score : 75.97%\n",
      " Precision_score : 0.6666666666666666\n",
      " Recall_score : 0.6785714285714286\n",
      " F1_score  : 0.6725663716814159\n",
      "********************\n",
      " Classification_report :               precision    recall  f1-score   support\n",
      "\n",
      "           0       0.81      0.81      0.81        98\n",
      "           1       0.67      0.68      0.67        56\n",
      "\n",
      "    accuracy                           0.76       154\n",
      "   macro avg       0.74      0.74      0.74       154\n",
      "weighted avg       0.76      0.76      0.76       154\n",
      "\n"
     ]
    },
    {
     "data": {
      "image/png": "[encoded data removed]",
      "text/plain": [
       "<Figure size 432x288 with 2 Axes>"
      ]
     },
     "metadata": {
      "needs_background": "light"
     },
     "output_type": "display_data"
    }
   ],
   "source": [
    "from sklearn.ensemble import GradientBoostingClassifier\n",
    "\n",
    "gb = GradientBoostingClassifier(random_state=42)\n",
    "gb.fit(X_train, y_train)\n",
    "y_preds = gb.predict(X_test)\n",
    "\n",
    "print(f\" Score : {gb.score(X_test, y_test)}\")\n",
    "print(\"*\"*20)\n",
    "print(f\" Accuracy_score : {accuracy_score(y_test, y_preds)*100:.2f}%\")\n",
    "print(f\" Precision_score : {precision_score(y_test, y_preds)}\")\n",
    "print(f\" Recall_score : {recall_score(y_test, y_preds)}\")\n",
    "print(f\" F1_score  : {f1_score(y_test, y_preds)}\")\n",
    "print(\"*\" * 20)\n",
    "print(f\" Classification_report : {classification_report(y_test, y_preds)}\")\n",
    "\n",
    "sns.heatmap(confusion_matrix(y_test, y_preds),\n",
    "            annot=True)\n",
    "plt.title(\"Confusion Matrix\");"
   ]
  },
  {
   "cell_type": "markdown",
   "id": "swiss-investor",
   "metadata": {
    "papermill": {
     "duration": 0.036785,
     "end_time": "2021-06-14T13:20:56.015440",
     "exception": false,
     "start_time": "2021-06-14T13:20:55.978655",
     "status": "completed"
    },
    "tags": []
   },
   "source": [
    "### KNN"
   ]
  },
  {
   "cell_type": "code",
   "execution_count": 17,
   "id": "silver-equivalent",
   "metadata": {
    "execution": {
     "iopub.execute_input": "2021-06-14T13:20:56.092845Z",
     "iopub.status.busy": "2021-06-14T13:20:56.092232Z",
     "iopub.status.idle": "2021-06-14T13:20:56.347719Z",
     "shell.execute_reply": "2021-06-14T13:20:56.346956Z",
     "shell.execute_reply.started": "2021-06-14T13:04:17.001029Z"
    },
    "papermill": {
     "duration": 0.295287,
     "end_time": "2021-06-14T13:20:56.347884",
     "exception": false,
     "start_time": "2021-06-14T13:20:56.052597",
     "status": "completed"
    },
    "tags": []
   },
   "outputs": [
    {
     "name": "stdout",
     "output_type": "stream",
     "text": [
      " Score : 0.7337662337662337\n",
      "********************\n",
      " Accuracy_score : 73.38%\n",
      " Precision_score : 0.6666666666666666\n",
      " Recall_score : 0.5357142857142857\n",
      " F1_score  : 0.594059405940594\n",
      "********************\n",
      " Classification_report :               precision    recall  f1-score   support\n",
      "\n",
      "           0       0.76      0.85      0.80        98\n",
      "           1       0.67      0.54      0.59        56\n",
      "\n",
      "    accuracy                           0.73       154\n",
      "   macro avg       0.71      0.69      0.70       154\n",
      "weighted avg       0.73      0.73      0.73       154\n",
      "\n"
     ]
    },
    {
     "data": {
      "image/png": "[encoded data removed]",
      "text/plain": [
       "<Figure size 432x288 with 2 Axes>"
      ]
     },
     "metadata": {
      "needs_background": "light"
     },
     "output_type": "display_data"
    }
   ],
   "source": [
    "from sklearn.neighbors import KNeighborsClassifier\n",
    "\n",
    "np.random.seed(42)\n",
    "knn = KNeighborsClassifier()\n",
    "knn.fit(X_train, y_train)\n",
    "y_preds = knn.predict(X_test)\n",
    "\n",
    "print(f\" Score : {knn.score(X_test, y_test)}\")\n",
    "print(\"*\"*20)\n",
    "print(f\" Accuracy_score : {accuracy_score(y_test, y_preds)*100:.2f}%\")\n",
    "print(f\" Precision_score : {precision_score(y_test, y_preds)}\")\n",
    "print(f\" Recall_score : {recall_score(y_test, y_preds)}\")\n",
    "print(f\" F1_score  : {f1_score(y_test, y_preds)}\")\n",
    "print(\"*\" * 20)\n",
    "print(f\" Classification_report : {classification_report(y_test, y_preds)}\")\n",
    "\n",
    "sns.heatmap(confusion_matrix(y_test, y_preds),\n",
    "            annot=True)\n",
    "plt.title(\"Confusion Matrix\");"
   ]
  },
  {
   "cell_type": "markdown",
   "id": "former-provincial",
   "metadata": {
    "papermill": {
     "duration": 0.037366,
     "end_time": "2021-06-14T13:20:56.423380",
     "exception": false,
     "start_time": "2021-06-14T13:20:56.386014",
     "status": "completed"
    },
    "tags": []
   },
   "source": [
    "### LinearSVC"
   ]
  },
  {
   "cell_type": "code",
   "execution_count": 18,
   "id": "flying-final",
   "metadata": {
    "execution": {
     "iopub.execute_input": "2021-06-14T13:20:56.508821Z",
     "iopub.status.busy": "2021-06-14T13:20:56.507859Z",
     "iopub.status.idle": "2021-06-14T13:20:56.785897Z",
     "shell.execute_reply": "2021-06-14T13:20:56.785273Z",
     "shell.execute_reply.started": "2021-06-14T13:05:59.684585Z"
    },
    "papermill": {
     "duration": 0.324729,
     "end_time": "2021-06-14T13:20:56.786054",
     "exception": false,
     "start_time": "2021-06-14T13:20:56.461325",
     "status": "completed"
    },
    "tags": []
   },
   "outputs": [
    {
     "name": "stdout",
     "output_type": "stream",
     "text": [
      " Score : 0.6493506493506493\n",
      "********************\n",
      " Accuracy_score : 64.94%\n",
      " Precision_score : 0.5161290322580645\n",
      " Recall_score : 0.5714285714285714\n",
      " F1_score  : 0.5423728813559322\n",
      "********************\n",
      " Classification_report :               precision    recall  f1-score   support\n",
      "\n",
      "           0       0.74      0.69      0.72        98\n",
      "           1       0.52      0.57      0.54        56\n",
      "\n",
      "    accuracy                           0.65       154\n",
      "   macro avg       0.63      0.63      0.63       154\n",
      "weighted avg       0.66      0.65      0.65       154\n",
      "\n"
     ]
    },
    {
     "data": {
      "image/png": "[encoded data removed]",
      "text/plain": [
       "<Figure size 432x288 with 2 Axes>"
      ]
     },
     "metadata": {
      "needs_background": "light"
     },
     "output_type": "display_data"
    }
   ],
   "source": [
    "from sklearn.svm import LinearSVC\n",
    "\n",
    "svc = LinearSVC(random_state=42)\n",
    "svc.fit(X_train, y_train)\n",
    "y_preds = svc.predict(X_test)\n",
    "\n",
    "print(f\" Score : {svc.score(X_test, y_test)}\")\n",
    "print(\"*\"*20)\n",
    "print(f\" Accuracy_score : {accuracy_score(y_test, y_preds)*100:.2f}%\")\n",
    "print(f\" Precision_score : {precision_score(y_test, y_preds)}\")\n",
    "print(f\" Recall_score : {recall_score(y_test, y_preds)}\")\n",
    "print(f\" F1_score  : {f1_score(y_test, y_preds)}\")\n",
    "print(\"*\" * 20)\n",
    "print(f\" Classification_report : {classification_report(y_test, y_preds)}\")\n",
    "\n",
    "sns.heatmap(confusion_matrix(y_test, y_preds),\n",
    "            annot=True)\n",
    "plt.title(\"Confusion Matrix\");"
   ]
  },
  {
   "cell_type": "markdown",
   "id": "virgin-sudan",
   "metadata": {
    "papermill": {
     "duration": 0.03858,
     "end_time": "2021-06-14T13:20:56.863209",
     "exception": false,
     "start_time": "2021-06-14T13:20:56.824629",
     "status": "completed"
    },
    "tags": []
   },
   "source": [
    "\n"
   ]
  },
  {
   "cell_type": "code",
   "execution_count": 19,
   "id": "documented-municipality",
   "metadata": {
    "execution": {
     "iopub.execute_input": "2021-06-14T13:20:56.948517Z",
     "iopub.status.busy": "2021-06-14T13:20:56.947883Z",
     "iopub.status.idle": "2021-06-14T13:20:56.952479Z",
     "shell.execute_reply": "2021-06-14T13:20:56.952895Z",
     "shell.execute_reply.started": "2021-06-14T13:12:39.804031Z"
    },
    "papermill": {
     "duration": 0.051211,
     "end_time": "2021-06-14T13:20:56.953065",
     "exception": false,
     "start_time": "2021-06-14T13:20:56.901854",
     "status": "completed"
    },
    "tags": []
   },
   "outputs": [
    {
     "data": {
      "text/plain": [
       "array([0, 1, 0, 1, 1, 0, 0, 0, 0, 0, 0, 0, 1, 1, 0, 0, 0, 1, 0, 1, 1, 0,\n",
       "       0, 0, 1, 1, 1, 0, 0, 0, 0, 1, 0, 0, 1, 1, 0, 0, 1, 0, 0, 0, 0, 0,\n",
       "       0, 0, 0, 0, 0, 0, 1, 1, 0, 0, 0, 0, 1, 0, 0, 0, 0, 1, 0, 0, 0, 0,\n",
       "       0, 0, 1, 1, 1, 0, 0, 0, 1, 0, 0, 0, 0, 1, 0, 0, 1, 0, 0, 0, 0, 0,\n",
       "       0, 1, 1, 0, 0, 0, 0, 0, 1, 0, 0, 1, 0, 0, 0, 0, 0, 0, 1, 1, 1, 0,\n",
       "       1, 0, 0, 1, 1, 0, 0, 0, 1, 0, 0, 1, 1, 0, 0, 0, 0, 1, 0, 1, 0, 0,\n",
       "       0, 0, 0, 1, 0, 0, 0, 1, 1, 0, 0, 1, 0, 0, 1, 0, 0, 0, 1, 0, 0, 0])"
      ]
     },
     "execution_count": 19,
     "metadata": {},
     "output_type": "execute_result"
    }
   ],
   "source": [
    "# logistic regression gave best accuracy\n",
    "y_preds = lr.predict(X_test)\n",
    "y_preds"
   ]
  },
  {
   "cell_type": "markdown",
   "id": "dress-glance",
   "metadata": {
    "papermill": {
     "duration": 0.038643,
     "end_time": "2021-06-14T13:20:57.030493",
     "exception": false,
     "start_time": "2021-06-14T13:20:56.991850",
     "status": "completed"
    },
    "tags": []
   },
   "source": [
    "\n"
   ]
  },
  {
   "cell_type": "code",
   "execution_count": null,
   "id": "crucial-agreement",
   "metadata": {
    "papermill": {
     "duration": 0.039232,
     "end_time": "2021-06-14T13:20:57.108259",
     "exception": false,
     "start_time": "2021-06-14T13:20:57.069027",
     "status": "completed"
    },
    "tags": []
   },
   "outputs": [],
   "source": []
  },
  {
   "cell_type": "code",
   "execution_count": null,
   "id": "smooth-disaster",
   "metadata": {
    "papermill": {
     "duration": 0.03893,
     "end_time": "2021-06-14T13:20:57.186547",
     "exception": false,
     "start_time": "2021-06-14T13:20:57.147617",
     "status": "completed"
    },
    "tags": []
   },
   "outputs": [],
   "source": []
  }
 ],
 "metadata": {
  "kernelspec": {
   "display_name": "Python 3",
   "language": "python",
   "name": "python3"
  },
  "language_info": {
   "codemirror_mode": {
    "name": "ipython",
    "version": 3
   },
   "file_extension": ".py",
   "mimetype": "text/x-python",
   "name": "python",
   "nbconvert_exporter": "python",
   "pygments_lexer": "ipython3",
   "version": "3.7.9"
  },
  "papermill": {
   "default_parameters": {},
   "duration": 19.482161,
   "end_time": "2021-06-14T13:20:58.036426",
   "environment_variables": {},
   "exception": null,
   "input_path": "__notebook__.ipynb",
   "output_path": "__notebook__.ipynb",
   "parameters": {},
   "start_time": "2021-06-14T13:20:38.554265",
   "version": "2.3.2"
  }
 },
 "nbformat": 4,
 "nbformat_minor": 5
}
