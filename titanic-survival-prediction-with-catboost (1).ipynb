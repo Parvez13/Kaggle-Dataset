{
 "cells": [
  {
   "cell_type": "code",
   "execution_count": 1,
   "id": "noticed-satellite",
   "metadata": {
    "_cell_guid": "b1076dfc-b9ad-4769-8c92-a6c4dae69d19",
    "_uuid": "8f2839f25d086af736a60e9eeb907d3b93b6e0e5",
    "execution": {
     "iopub.execute_input": "2021-07-06T02:58:31.647456Z",
     "iopub.status.busy": "2021-07-06T02:58:31.646618Z",
     "iopub.status.idle": "2021-07-06T02:58:32.580414Z",
     "shell.execute_reply": "2021-07-06T02:58:32.578818Z",
     "shell.execute_reply.started": "2021-07-06T02:25:08.706267Z"
    },
    "papermill": {
     "duration": 0.963507,
     "end_time": "2021-07-06T02:58:32.580642",
     "exception": false,
     "start_time": "2021-07-06T02:58:31.617135",
     "status": "completed"
    },
    "tags": []
   },
   "outputs": [],
   "source": [
    "\n",
    "# Import library\n",
    "import numpy as np\n",
    "import pandas as pd\n",
    "import matplotlib.pyplot as plt\n",
    "import seaborn as sns\n",
    "\n",
    "import warnings\n",
    "warnings.filterwarnings('ignore')"
   ]
  },
  {
   "cell_type": "code",
   "execution_count": 2,
   "id": "grave-charlotte",
   "metadata": {
    "execution": {
     "iopub.execute_input": "2021-07-06T02:58:32.664458Z",
     "iopub.status.busy": "2021-07-06T02:58:32.663727Z",
     "iopub.status.idle": "2021-07-06T02:58:32.703913Z",
     "shell.execute_reply": "2021-07-06T02:58:32.704556Z",
     "shell.execute_reply.started": "2021-07-06T02:25:08.714135Z"
    },
    "papermill": {
     "duration": 0.08367,
     "end_time": "2021-07-06T02:58:32.704729",
     "exception": false,
     "start_time": "2021-07-06T02:58:32.621059",
     "status": "completed"
    },
    "tags": []
   },
   "outputs": [
    {
     "data": {
      "text/html": [
       "<div>\n",
       "<style scoped>\n",
       "    .dataframe tbody tr th:only-of-type {\n",
       "        vertical-align: middle;\n",
       "    }\n",
       "\n",
       "    .dataframe tbody tr th {\n",
       "        vertical-align: top;\n",
       "    }\n",
       "\n",
       "    .dataframe thead th {\n",
       "        text-align: right;\n",
       "    }\n",
       "</style>\n",
       "<table border=\"1\" class=\"dataframe\">\n",
       "  <thead>\n",
       "    <tr style=\"text-align: right;\">\n",
       "      <th></th>\n",
       "      <th>PassengerId</th>\n",
       "      <th>Survived</th>\n",
       "      <th>Pclass</th>\n",
       "      <th>Name</th>\n",
       "      <th>Sex</th>\n",
       "      <th>Age</th>\n",
       "      <th>SibSp</th>\n",
       "      <th>Parch</th>\n",
       "      <th>Ticket</th>\n",
       "      <th>Fare</th>\n",
       "      <th>Cabin</th>\n",
       "      <th>Embarked</th>\n",
       "    </tr>\n",
       "  </thead>\n",
       "  <tbody>\n",
       "    <tr>\n",
       "      <th>0</th>\n",
       "      <td>1</td>\n",
       "      <td>0</td>\n",
       "      <td>3</td>\n",
       "      <td>Braund, Mr. Owen Harris</td>\n",
       "      <td>male</td>\n",
       "      <td>22.0</td>\n",
       "      <td>1</td>\n",
       "      <td>0</td>\n",
       "      <td>A/5 21171</td>\n",
       "      <td>7.2500</td>\n",
       "      <td>NaN</td>\n",
       "      <td>S</td>\n",
       "    </tr>\n",
       "    <tr>\n",
       "      <th>1</th>\n",
       "      <td>2</td>\n",
       "      <td>1</td>\n",
       "      <td>1</td>\n",
       "      <td>Cumings, Mrs. John Bradley (Florence Briggs Th...</td>\n",
       "      <td>female</td>\n",
       "      <td>38.0</td>\n",
       "      <td>1</td>\n",
       "      <td>0</td>\n",
       "      <td>PC 17599</td>\n",
       "      <td>71.2833</td>\n",
       "      <td>C85</td>\n",
       "      <td>C</td>\n",
       "    </tr>\n",
       "    <tr>\n",
       "      <th>2</th>\n",
       "      <td>3</td>\n",
       "      <td>1</td>\n",
       "      <td>3</td>\n",
       "      <td>Heikkinen, Miss. Laina</td>\n",
       "      <td>female</td>\n",
       "      <td>26.0</td>\n",
       "      <td>0</td>\n",
       "      <td>0</td>\n",
       "      <td>STON/O2. 3101282</td>\n",
       "      <td>7.9250</td>\n",
       "      <td>NaN</td>\n",
       "      <td>S</td>\n",
       "    </tr>\n",
       "    <tr>\n",
       "      <th>3</th>\n",
       "      <td>4</td>\n",
       "      <td>1</td>\n",
       "      <td>1</td>\n",
       "      <td>Futrelle, Mrs. Jacques Heath (Lily May Peel)</td>\n",
       "      <td>female</td>\n",
       "      <td>35.0</td>\n",
       "      <td>1</td>\n",
       "      <td>0</td>\n",
       "      <td>113803</td>\n",
       "      <td>53.1000</td>\n",
       "      <td>C123</td>\n",
       "      <td>S</td>\n",
       "    </tr>\n",
       "    <tr>\n",
       "      <th>4</th>\n",
       "      <td>5</td>\n",
       "      <td>0</td>\n",
       "      <td>3</td>\n",
       "      <td>Allen, Mr. William Henry</td>\n",
       "      <td>male</td>\n",
       "      <td>35.0</td>\n",
       "      <td>0</td>\n",
       "      <td>0</td>\n",
       "      <td>373450</td>\n",
       "      <td>8.0500</td>\n",
       "      <td>NaN</td>\n",
       "      <td>S</td>\n",
       "    </tr>\n",
       "  </tbody>\n",
       "</table>\n",
       "</div>"
      ],
      "text/plain": [
       "   PassengerId  Survived  Pclass  \\\n",
       "0            1         0       3   \n",
       "1            2         1       1   \n",
       "2            3         1       3   \n",
       "3            4         1       1   \n",
       "4            5         0       3   \n",
       "\n",
       "                                                Name     Sex   Age  SibSp  \\\n",
       "0                            Braund, Mr. Owen Harris    male  22.0      1   \n",
       "1  Cumings, Mrs. John Bradley (Florence Briggs Th...  female  38.0      1   \n",
       "2                             Heikkinen, Miss. Laina  female  26.0      0   \n",
       "3       Futrelle, Mrs. Jacques Heath (Lily May Peel)  female  35.0      1   \n",
       "4                           Allen, Mr. William Henry    male  35.0      0   \n",
       "\n",
       "   Parch            Ticket     Fare Cabin Embarked  \n",
       "0      0         A/5 21171   7.2500   NaN        S  \n",
       "1      0          PC 17599  71.2833   C85        C  \n",
       "2      0  STON/O2. 3101282   7.9250   NaN        S  \n",
       "3      0            113803  53.1000  C123        S  \n",
       "4      0            373450   8.0500   NaN        S  "
      ]
     },
     "execution_count": 2,
     "metadata": {},
     "output_type": "execute_result"
    }
   ],
   "source": [
    "# load the dataset\n",
    "train = pd.read_csv(\"../input/titanic/train.csv\")\n",
    "train.head()"
   ]
  },
  {
   "cell_type": "code",
   "execution_count": 3,
   "id": "impressive-hampton",
   "metadata": {
    "execution": {
     "iopub.execute_input": "2021-07-06T02:58:32.786685Z",
     "iopub.status.busy": "2021-07-06T02:58:32.786107Z",
     "iopub.status.idle": "2021-07-06T02:58:32.804225Z",
     "shell.execute_reply": "2021-07-06T02:58:32.804966Z",
     "shell.execute_reply.started": "2021-07-06T02:25:08.754889Z"
    },
    "papermill": {
     "duration": 0.060797,
     "end_time": "2021-07-06T02:58:32.805162",
     "exception": false,
     "start_time": "2021-07-06T02:58:32.744365",
     "status": "completed"
    },
    "tags": []
   },
   "outputs": [
    {
     "name": "stdout",
     "output_type": "stream",
     "text": [
      "<class 'pandas.core.frame.DataFrame'>\n",
      "RangeIndex: 891 entries, 0 to 890\n",
      "Data columns (total 12 columns):\n",
      " #   Column       Non-Null Count  Dtype  \n",
      "---  ------       --------------  -----  \n",
      " 0   PassengerId  891 non-null    int64  \n",
      " 1   Survived     891 non-null    int64  \n",
      " 2   Pclass       891 non-null    int64  \n",
      " 3   Name         891 non-null    object \n",
      " 4   Sex          891 non-null    object \n",
      " 5   Age          714 non-null    float64\n",
      " 6   SibSp        891 non-null    int64  \n",
      " 7   Parch        891 non-null    int64  \n",
      " 8   Ticket       891 non-null    object \n",
      " 9   Fare         891 non-null    float64\n",
      " 10  Cabin        204 non-null    object \n",
      " 11  Embarked     889 non-null    object \n",
      "dtypes: float64(2), int64(5), object(5)\n",
      "memory usage: 83.7+ KB\n"
     ]
    }
   ],
   "source": [
    "# info\n",
    "train.info()"
   ]
  },
  {
   "cell_type": "code",
   "execution_count": 4,
   "id": "civilian-frontier",
   "metadata": {
    "execution": {
     "iopub.execute_input": "2021-07-06T02:58:32.891683Z",
     "iopub.status.busy": "2021-07-06T02:58:32.890957Z",
     "iopub.status.idle": "2021-07-06T02:58:32.919145Z",
     "shell.execute_reply": "2021-07-06T02:58:32.918535Z",
     "shell.execute_reply.started": "2021-07-06T02:25:08.77668Z"
    },
    "papermill": {
     "duration": 0.072349,
     "end_time": "2021-07-06T02:58:32.919277",
     "exception": false,
     "start_time": "2021-07-06T02:58:32.846928",
     "status": "completed"
    },
    "tags": []
   },
   "outputs": [
    {
     "data": {
      "text/html": [
       "<div>\n",
       "<style scoped>\n",
       "    .dataframe tbody tr th:only-of-type {\n",
       "        vertical-align: middle;\n",
       "    }\n",
       "\n",
       "    .dataframe tbody tr th {\n",
       "        vertical-align: top;\n",
       "    }\n",
       "\n",
       "    .dataframe thead th {\n",
       "        text-align: right;\n",
       "    }\n",
       "</style>\n",
       "<table border=\"1\" class=\"dataframe\">\n",
       "  <thead>\n",
       "    <tr style=\"text-align: right;\">\n",
       "      <th></th>\n",
       "      <th>PassengerId</th>\n",
       "      <th>Survived</th>\n",
       "      <th>Pclass</th>\n",
       "      <th>Age</th>\n",
       "      <th>SibSp</th>\n",
       "      <th>Parch</th>\n",
       "      <th>Fare</th>\n",
       "    </tr>\n",
       "  </thead>\n",
       "  <tbody>\n",
       "    <tr>\n",
       "      <th>count</th>\n",
       "      <td>891.000000</td>\n",
       "      <td>891.000000</td>\n",
       "      <td>891.000000</td>\n",
       "      <td>714.000000</td>\n",
       "      <td>891.000000</td>\n",
       "      <td>891.000000</td>\n",
       "      <td>891.000000</td>\n",
       "    </tr>\n",
       "    <tr>\n",
       "      <th>mean</th>\n",
       "      <td>446.000000</td>\n",
       "      <td>0.383838</td>\n",
       "      <td>2.308642</td>\n",
       "      <td>29.699118</td>\n",
       "      <td>0.523008</td>\n",
       "      <td>0.381594</td>\n",
       "      <td>32.204208</td>\n",
       "    </tr>\n",
       "    <tr>\n",
       "      <th>std</th>\n",
       "      <td>257.353842</td>\n",
       "      <td>0.486592</td>\n",
       "      <td>0.836071</td>\n",
       "      <td>14.526497</td>\n",
       "      <td>1.102743</td>\n",
       "      <td>0.806057</td>\n",
       "      <td>49.693429</td>\n",
       "    </tr>\n",
       "    <tr>\n",
       "      <th>min</th>\n",
       "      <td>1.000000</td>\n",
       "      <td>0.000000</td>\n",
       "      <td>1.000000</td>\n",
       "      <td>0.420000</td>\n",
       "      <td>0.000000</td>\n",
       "      <td>0.000000</td>\n",
       "      <td>0.000000</td>\n",
       "    </tr>\n",
       "    <tr>\n",
       "      <th>25%</th>\n",
       "      <td>223.500000</td>\n",
       "      <td>0.000000</td>\n",
       "      <td>2.000000</td>\n",
       "      <td>20.125000</td>\n",
       "      <td>0.000000</td>\n",
       "      <td>0.000000</td>\n",
       "      <td>7.910400</td>\n",
       "    </tr>\n",
       "    <tr>\n",
       "      <th>50%</th>\n",
       "      <td>446.000000</td>\n",
       "      <td>0.000000</td>\n",
       "      <td>3.000000</td>\n",
       "      <td>28.000000</td>\n",
       "      <td>0.000000</td>\n",
       "      <td>0.000000</td>\n",
       "      <td>14.454200</td>\n",
       "    </tr>\n",
       "    <tr>\n",
       "      <th>75%</th>\n",
       "      <td>668.500000</td>\n",
       "      <td>1.000000</td>\n",
       "      <td>3.000000</td>\n",
       "      <td>38.000000</td>\n",
       "      <td>1.000000</td>\n",
       "      <td>0.000000</td>\n",
       "      <td>31.000000</td>\n",
       "    </tr>\n",
       "    <tr>\n",
       "      <th>max</th>\n",
       "      <td>891.000000</td>\n",
       "      <td>1.000000</td>\n",
       "      <td>3.000000</td>\n",
       "      <td>80.000000</td>\n",
       "      <td>8.000000</td>\n",
       "      <td>6.000000</td>\n",
       "      <td>512.329200</td>\n",
       "    </tr>\n",
       "  </tbody>\n",
       "</table>\n",
       "</div>"
      ],
      "text/plain": [
       "       PassengerId    Survived      Pclass         Age       SibSp  \\\n",
       "count   891.000000  891.000000  891.000000  714.000000  891.000000   \n",
       "mean    446.000000    0.383838    2.308642   29.699118    0.523008   \n",
       "std     257.353842    0.486592    0.836071   14.526497    1.102743   \n",
       "min       1.000000    0.000000    1.000000    0.420000    0.000000   \n",
       "25%     223.500000    0.000000    2.000000   20.125000    0.000000   \n",
       "50%     446.000000    0.000000    3.000000   28.000000    0.000000   \n",
       "75%     668.500000    1.000000    3.000000   38.000000    1.000000   \n",
       "max     891.000000    1.000000    3.000000   80.000000    8.000000   \n",
       "\n",
       "            Parch        Fare  \n",
       "count  891.000000  891.000000  \n",
       "mean     0.381594   32.204208  \n",
       "std      0.806057   49.693429  \n",
       "min      0.000000    0.000000  \n",
       "25%      0.000000    7.910400  \n",
       "50%      0.000000   14.454200  \n",
       "75%      0.000000   31.000000  \n",
       "max      6.000000  512.329200  "
      ]
     },
     "execution_count": 4,
     "metadata": {},
     "output_type": "execute_result"
    }
   ],
   "source": [
    "# describe \n",
    "train.describe()"
   ]
  },
  {
   "cell_type": "code",
   "execution_count": 5,
   "id": "korean-feeding",
   "metadata": {
    "execution": {
     "iopub.execute_input": "2021-07-06T02:58:33.011988Z",
     "iopub.status.busy": "2021-07-06T02:58:33.011306Z",
     "iopub.status.idle": "2021-07-06T02:58:33.221669Z",
     "shell.execute_reply": "2021-07-06T02:58:33.221014Z",
     "shell.execute_reply.started": "2021-07-06T02:25:08.821767Z"
    },
    "papermill": {
     "duration": 0.264489,
     "end_time": "2021-07-06T02:58:33.221816",
     "exception": false,
     "start_time": "2021-07-06T02:58:32.957327",
     "status": "completed"
    },
    "tags": []
   },
   "outputs": [
    {
     "data": {
      "text/plain": [
       "<AxesSubplot:xlabel='Age', ylabel='Density'>"
      ]
     },
     "execution_count": 5,
     "metadata": {},
     "output_type": "execute_result"
    },
    {
     "data": {
      "image/png": "[encoded data removed]",
      "text/plain": [
       "<Figure size 720x360 with 1 Axes>"
      ]
     },
     "metadata": {
      "needs_background": "light"
     },
     "output_type": "display_data"
    }
   ],
   "source": [
    "# \n",
    "plt.figure(figsize=(10,5))\n",
    "sns.distplot(train['Age'])"
   ]
  },
  {
   "cell_type": "markdown",
   "id": "convenient-kelly",
   "metadata": {
    "papermill": {
     "duration": 0.040598,
     "end_time": "2021-07-06T02:58:33.303932",
     "exception": false,
     "start_time": "2021-07-06T02:58:33.263334",
     "status": "completed"
    },
    "tags": []
   },
   "source": [
    "**Most of people who are on the ship are between 20-40 years of age**"
   ]
  },
  {
   "cell_type": "code",
   "execution_count": 6,
   "id": "enclosed-olive",
   "metadata": {
    "execution": {
     "iopub.execute_input": "2021-07-06T02:58:33.396198Z",
     "iopub.status.busy": "2021-07-06T02:58:33.395488Z",
     "iopub.status.idle": "2021-07-06T02:58:33.529767Z",
     "shell.execute_reply": "2021-07-06T02:58:33.529288Z",
     "shell.execute_reply.started": "2021-07-06T02:25:09.047147Z"
    },
    "papermill": {
     "duration": 0.18322,
     "end_time": "2021-07-06T02:58:33.529911",
     "exception": false,
     "start_time": "2021-07-06T02:58:33.346691",
     "status": "completed"
    },
    "tags": []
   },
   "outputs": [
    {
     "name": "stdout",
     "output_type": "stream",
     "text": [
      "0    549\n",
      "1    342\n",
      "Name: Survived, dtype: int64\n"
     ]
    },
    {
     "data": {
      "image/png": "[encoded data removed]",
      "text/plain": [
       "<Figure size 1440x72 with 1 Axes>"
      ]
     },
     "metadata": {},
     "output_type": "display_data"
    }
   ],
   "source": [
    "# How many people survived?\n",
    "with plt.xkcd():\n",
    "    fig = plt.figure(figsize=(20,1))\n",
    "    sns.countplot(y='Survived', data=train);\n",
    "    print(train.Survived.value_counts())\n",
    "    \n",
    "    y = train.Survived.value_counts()\n",
    "\n",
    "    for index, count in enumerate(y):\n",
    "        plt.text(count, index,\n",
    "                 str(count))\n",
    "    plt.title(\"Survived Count\")"
   ]
  },
  {
   "cell_type": "markdown",
   "id": "associate-importance",
   "metadata": {
    "papermill": {
     "duration": 0.028757,
     "end_time": "2021-07-06T02:58:33.588033",
     "exception": false,
     "start_time": "2021-07-06T02:58:33.559276",
     "status": "completed"
    },
    "tags": []
   },
   "source": [
    "**Only 342 people has survived**"
   ]
  },
  {
   "cell_type": "code",
   "execution_count": 7,
   "id": "eastern-backup",
   "metadata": {
    "execution": {
     "iopub.execute_input": "2021-07-06T02:58:33.656030Z",
     "iopub.status.busy": "2021-07-06T02:58:33.655267Z",
     "iopub.status.idle": "2021-07-06T02:58:33.807225Z",
     "shell.execute_reply": "2021-07-06T02:58:33.807656Z",
     "shell.execute_reply.started": "2021-07-06T02:25:09.216164Z"
    },
    "papermill": {
     "duration": 0.190055,
     "end_time": "2021-07-06T02:58:33.807794",
     "exception": false,
     "start_time": "2021-07-06T02:58:33.617739",
     "status": "completed"
    },
    "tags": []
   },
   "outputs": [
    {
     "data": {
      "image/png": "[encoded data removed]",
      "text/plain": [
       "<Figure size 1440x360 with 1 Axes>"
      ]
     },
     "metadata": {},
     "output_type": "display_data"
    }
   ],
   "source": [
    "# Let's view the distribution of Sex\n",
    "with plt.xkcd():\n",
    "    plt.figure(figsize=(20, 5))\n",
    "    sns.countplot(y=\"Sex\", data=train)\n",
    "    \n",
    "     \n",
    "    y = train.Sex.value_counts()\n",
    "\n",
    "    for index, count in enumerate(y):\n",
    "        plt.text(count, index,\n",
    "                 str(count))\n",
    "    \n",
    "    plt.title(\"Sex\")"
   ]
  },
  {
   "cell_type": "code",
   "execution_count": 8,
   "id": "qualified-intervention",
   "metadata": {
    "execution": {
     "iopub.execute_input": "2021-07-06T02:58:33.873120Z",
     "iopub.status.busy": "2021-07-06T02:58:33.872403Z",
     "iopub.status.idle": "2021-07-06T02:58:33.997334Z",
     "shell.execute_reply": "2021-07-06T02:58:33.997769Z",
     "shell.execute_reply.started": "2021-07-06T02:25:09.41453Z"
    },
    "papermill": {
     "duration": 0.159296,
     "end_time": "2021-07-06T02:58:33.997934",
     "exception": false,
     "start_time": "2021-07-06T02:58:33.838638",
     "status": "completed"
    },
    "tags": []
   },
   "outputs": [
    {
     "data": {
      "text/plain": [
       "<AxesSubplot:xlabel='Age', ylabel='Density'>"
      ]
     },
     "execution_count": 8,
     "metadata": {},
     "output_type": "execute_result"
    },
    {
     "data": {
      "image/png": "[encoded data removed]",
      "text/plain": [
       "<Figure size 432x288 with 1 Axes>"
      ]
     },
     "metadata": {
      "needs_background": "light"
     },
     "output_type": "display_data"
    }
   ],
   "source": [
    "sns.kdeplot(data=train['Age'], shade=True)"
   ]
  },
  {
   "cell_type": "code",
   "execution_count": 9,
   "id": "broke-regard",
   "metadata": {
    "execution": {
     "iopub.execute_input": "2021-07-06T02:58:34.064978Z",
     "iopub.status.busy": "2021-07-06T02:58:34.064293Z",
     "iopub.status.idle": "2021-07-06T02:58:34.466869Z",
     "shell.execute_reply": "2021-07-06T02:58:34.467389Z",
     "shell.execute_reply.started": "2021-07-06T02:25:09.574707Z"
    },
    "papermill": {
     "duration": 0.437374,
     "end_time": "2021-07-06T02:58:34.467554",
     "exception": false,
     "start_time": "2021-07-06T02:58:34.030180",
     "status": "completed"
    },
    "tags": []
   },
   "outputs": [
    {
     "data": {
      "image/png": "[encoded data removed]",
      "text/plain": [
       "<Figure size 411.875x360 with 1 Axes>"
      ]
     },
     "metadata": {
      "needs_background": "light"
     },
     "output_type": "display_data"
    }
   ],
   "source": [
    "sns.displot(x='Age', hue='Survived', data=train, alpha=0.6)\n",
    "plt.show()"
   ]
  },
  {
   "cell_type": "markdown",
   "id": "infectious-essence",
   "metadata": {
    "papermill": {
     "duration": 0.049614,
     "end_time": "2021-07-06T02:58:34.564734",
     "exception": false,
     "start_time": "2021-07-06T02:58:34.515120",
     "status": "completed"
    },
    "tags": []
   },
   "source": [
    "## Preprocessing Data"
   ]
  },
  {
   "cell_type": "code",
   "execution_count": 10,
   "id": "universal-fever",
   "metadata": {
    "execution": {
     "iopub.execute_input": "2021-07-06T02:58:34.668373Z",
     "iopub.status.busy": "2021-07-06T02:58:34.667832Z",
     "iopub.status.idle": "2021-07-06T02:58:34.673014Z",
     "shell.execute_reply": "2021-07-06T02:58:34.672459Z",
     "shell.execute_reply.started": "2021-07-06T02:25:10.147614Z"
    },
    "papermill": {
     "duration": 0.060642,
     "end_time": "2021-07-06T02:58:34.673149",
     "exception": false,
     "start_time": "2021-07-06T02:58:34.612507",
     "status": "completed"
    },
    "tags": []
   },
   "outputs": [
    {
     "data": {
      "text/plain": [
       "Age         177\n",
       "Cabin       687\n",
       "Embarked      2\n",
       "dtype: int64"
      ]
     },
     "execution_count": 10,
     "metadata": {},
     "output_type": "execute_result"
    }
   ],
   "source": [
    "null_values = train.isna().sum()\n",
    "null_values[null_values>0]\n"
   ]
  },
  {
   "cell_type": "code",
   "execution_count": 11,
   "id": "boolean-immune",
   "metadata": {
    "execution": {
     "iopub.execute_input": "2021-07-06T02:58:34.744013Z",
     "iopub.status.busy": "2021-07-06T02:58:34.740133Z",
     "iopub.status.idle": "2021-07-06T02:58:34.747904Z",
     "shell.execute_reply": "2021-07-06T02:58:34.747314Z",
     "shell.execute_reply.started": "2021-07-06T02:25:10.163671Z"
    },
    "papermill": {
     "duration": 0.042479,
     "end_time": "2021-07-06T02:58:34.748050",
     "exception": false,
     "start_time": "2021-07-06T02:58:34.705571",
     "status": "completed"
    },
    "tags": []
   },
   "outputs": [],
   "source": [
    "train.drop(\"PassengerId\", axis=1, inplace=True)"
   ]
  },
  {
   "cell_type": "code",
   "execution_count": 12,
   "id": "promising-settle",
   "metadata": {
    "execution": {
     "iopub.execute_input": "2021-07-06T02:58:34.866094Z",
     "iopub.status.busy": "2021-07-06T02:58:34.865142Z",
     "iopub.status.idle": "2021-07-06T02:58:34.872490Z",
     "shell.execute_reply": "2021-07-06T02:58:34.871895Z",
     "shell.execute_reply.started": "2021-07-06T02:25:10.172459Z"
    },
    "papermill": {
     "duration": 0.076371,
     "end_time": "2021-07-06T02:58:34.872648",
     "exception": false,
     "start_time": "2021-07-06T02:58:34.796277",
     "status": "completed"
    },
    "tags": []
   },
   "outputs": [
    {
     "data": {
      "text/html": [
       "<div>\n",
       "<style scoped>\n",
       "    .dataframe tbody tr th:only-of-type {\n",
       "        vertical-align: middle;\n",
       "    }\n",
       "\n",
       "    .dataframe tbody tr th {\n",
       "        vertical-align: top;\n",
       "    }\n",
       "\n",
       "    .dataframe thead th {\n",
       "        text-align: right;\n",
       "    }\n",
       "</style>\n",
       "<table border=\"1\" class=\"dataframe\">\n",
       "  <thead>\n",
       "    <tr style=\"text-align: right;\">\n",
       "      <th></th>\n",
       "      <th>Name</th>\n",
       "      <th>Sex</th>\n",
       "      <th>Ticket</th>\n",
       "      <th>Cabin</th>\n",
       "      <th>Embarked</th>\n",
       "    </tr>\n",
       "  </thead>\n",
       "  <tbody>\n",
       "    <tr>\n",
       "      <th>0</th>\n",
       "      <td>Braund, Mr. Owen Harris</td>\n",
       "      <td>male</td>\n",
       "      <td>A/5 21171</td>\n",
       "      <td>NaN</td>\n",
       "      <td>S</td>\n",
       "    </tr>\n",
       "    <tr>\n",
       "      <th>1</th>\n",
       "      <td>Cumings, Mrs. John Bradley (Florence Briggs Th...</td>\n",
       "      <td>female</td>\n",
       "      <td>PC 17599</td>\n",
       "      <td>C85</td>\n",
       "      <td>C</td>\n",
       "    </tr>\n",
       "    <tr>\n",
       "      <th>2</th>\n",
       "      <td>Heikkinen, Miss. Laina</td>\n",
       "      <td>female</td>\n",
       "      <td>STON/O2. 3101282</td>\n",
       "      <td>NaN</td>\n",
       "      <td>S</td>\n",
       "    </tr>\n",
       "    <tr>\n",
       "      <th>3</th>\n",
       "      <td>Futrelle, Mrs. Jacques Heath (Lily May Peel)</td>\n",
       "      <td>female</td>\n",
       "      <td>113803</td>\n",
       "      <td>C123</td>\n",
       "      <td>S</td>\n",
       "    </tr>\n",
       "    <tr>\n",
       "      <th>4</th>\n",
       "      <td>Allen, Mr. William Henry</td>\n",
       "      <td>male</td>\n",
       "      <td>373450</td>\n",
       "      <td>NaN</td>\n",
       "      <td>S</td>\n",
       "    </tr>\n",
       "    <tr>\n",
       "      <th>...</th>\n",
       "      <td>...</td>\n",
       "      <td>...</td>\n",
       "      <td>...</td>\n",
       "      <td>...</td>\n",
       "      <td>...</td>\n",
       "    </tr>\n",
       "    <tr>\n",
       "      <th>886</th>\n",
       "      <td>Montvila, Rev. Juozas</td>\n",
       "      <td>male</td>\n",
       "      <td>211536</td>\n",
       "      <td>NaN</td>\n",
       "      <td>S</td>\n",
       "    </tr>\n",
       "    <tr>\n",
       "      <th>887</th>\n",
       "      <td>Graham, Miss. Margaret Edith</td>\n",
       "      <td>female</td>\n",
       "      <td>112053</td>\n",
       "      <td>B42</td>\n",
       "      <td>S</td>\n",
       "    </tr>\n",
       "    <tr>\n",
       "      <th>888</th>\n",
       "      <td>Johnston, Miss. Catherine Helen \"Carrie\"</td>\n",
       "      <td>female</td>\n",
       "      <td>W./C. 6607</td>\n",
       "      <td>NaN</td>\n",
       "      <td>S</td>\n",
       "    </tr>\n",
       "    <tr>\n",
       "      <th>889</th>\n",
       "      <td>Behr, Mr. Karl Howell</td>\n",
       "      <td>male</td>\n",
       "      <td>111369</td>\n",
       "      <td>C148</td>\n",
       "      <td>C</td>\n",
       "    </tr>\n",
       "    <tr>\n",
       "      <th>890</th>\n",
       "      <td>Dooley, Mr. Patrick</td>\n",
       "      <td>male</td>\n",
       "      <td>370376</td>\n",
       "      <td>NaN</td>\n",
       "      <td>Q</td>\n",
       "    </tr>\n",
       "  </tbody>\n",
       "</table>\n",
       "<p>891 rows × 5 columns</p>\n",
       "</div>"
      ],
      "text/plain": [
       "                                                  Name     Sex  \\\n",
       "0                              Braund, Mr. Owen Harris    male   \n",
       "1    Cumings, Mrs. John Bradley (Florence Briggs Th...  female   \n",
       "2                               Heikkinen, Miss. Laina  female   \n",
       "3         Futrelle, Mrs. Jacques Heath (Lily May Peel)  female   \n",
       "4                             Allen, Mr. William Henry    male   \n",
       "..                                                 ...     ...   \n",
       "886                              Montvila, Rev. Juozas    male   \n",
       "887                       Graham, Miss. Margaret Edith  female   \n",
       "888           Johnston, Miss. Catherine Helen \"Carrie\"  female   \n",
       "889                              Behr, Mr. Karl Howell    male   \n",
       "890                                Dooley, Mr. Patrick    male   \n",
       "\n",
       "               Ticket Cabin Embarked  \n",
       "0           A/5 21171   NaN        S  \n",
       "1            PC 17599   C85        C  \n",
       "2    STON/O2. 3101282   NaN        S  \n",
       "3              113803  C123        S  \n",
       "4              373450   NaN        S  \n",
       "..                ...   ...      ...  \n",
       "886            211536   NaN        S  \n",
       "887            112053   B42        S  \n",
       "888        W./C. 6607   NaN        S  \n",
       "889            111369  C148        C  \n",
       "890            370376   NaN        Q  \n",
       "\n",
       "[891 rows x 5 columns]"
      ]
     },
     "execution_count": 12,
     "metadata": {},
     "output_type": "execute_result"
    }
   ],
   "source": [
    "train.select_dtypes('object')"
   ]
  },
  {
   "cell_type": "code",
   "execution_count": 13,
   "id": "retired-threat",
   "metadata": {
    "execution": {
     "iopub.execute_input": "2021-07-06T02:58:34.979283Z",
     "iopub.status.busy": "2021-07-06T02:58:34.978354Z",
     "iopub.status.idle": "2021-07-06T02:58:34.981658Z",
     "shell.execute_reply": "2021-07-06T02:58:34.981088Z",
     "shell.execute_reply.started": "2021-07-06T02:25:10.200531Z"
    },
    "papermill": {
     "duration": 0.05939,
     "end_time": "2021-07-06T02:58:34.981794",
     "exception": false,
     "start_time": "2021-07-06T02:58:34.922404",
     "status": "completed"
    },
    "tags": []
   },
   "outputs": [],
   "source": [
    "def preprocessing_data(df):\n",
    "    \n",
    "    for label, content in df.items():\n",
    "        if pd.api.types.is_numeric_dtype(content):\n",
    "            if pd.isnull(content).sum():\n",
    "                df[label] = content.fillna(content.mean())\n",
    "                \n",
    "        if not pd.api.types.is_numeric_dtype(content):\n",
    "            df[label] = pd.Categorical(content).codes+1\n",
    "            \n",
    "    return df"
   ]
  },
  {
   "cell_type": "code",
   "execution_count": 14,
   "id": "animated-rebate",
   "metadata": {
    "execution": {
     "iopub.execute_input": "2021-07-06T02:58:35.086534Z",
     "iopub.status.busy": "2021-07-06T02:58:35.085908Z",
     "iopub.status.idle": "2021-07-06T02:58:35.113289Z",
     "shell.execute_reply": "2021-07-06T02:58:35.112712Z",
     "shell.execute_reply.started": "2021-07-06T02:25:10.215713Z"
    },
    "papermill": {
     "duration": 0.081123,
     "end_time": "2021-07-06T02:58:35.113423",
     "exception": false,
     "start_time": "2021-07-06T02:58:35.032300",
     "status": "completed"
    },
    "tags": []
   },
   "outputs": [
    {
     "data": {
      "text/html": [
       "<div>\n",
       "<style scoped>\n",
       "    .dataframe tbody tr th:only-of-type {\n",
       "        vertical-align: middle;\n",
       "    }\n",
       "\n",
       "    .dataframe tbody tr th {\n",
       "        vertical-align: top;\n",
       "    }\n",
       "\n",
       "    .dataframe thead th {\n",
       "        text-align: right;\n",
       "    }\n",
       "</style>\n",
       "<table border=\"1\" class=\"dataframe\">\n",
       "  <thead>\n",
       "    <tr style=\"text-align: right;\">\n",
       "      <th></th>\n",
       "      <th>Survived</th>\n",
       "      <th>Pclass</th>\n",
       "      <th>Name</th>\n",
       "      <th>Sex</th>\n",
       "      <th>Age</th>\n",
       "      <th>SibSp</th>\n",
       "      <th>Parch</th>\n",
       "      <th>Ticket</th>\n",
       "      <th>Fare</th>\n",
       "      <th>Cabin</th>\n",
       "      <th>Embarked</th>\n",
       "    </tr>\n",
       "  </thead>\n",
       "  <tbody>\n",
       "    <tr>\n",
       "      <th>0</th>\n",
       "      <td>0</td>\n",
       "      <td>3</td>\n",
       "      <td>109</td>\n",
       "      <td>2</td>\n",
       "      <td>22.000000</td>\n",
       "      <td>1</td>\n",
       "      <td>0</td>\n",
       "      <td>524</td>\n",
       "      <td>7.2500</td>\n",
       "      <td>0</td>\n",
       "      <td>3</td>\n",
       "    </tr>\n",
       "    <tr>\n",
       "      <th>1</th>\n",
       "      <td>1</td>\n",
       "      <td>1</td>\n",
       "      <td>191</td>\n",
       "      <td>1</td>\n",
       "      <td>38.000000</td>\n",
       "      <td>1</td>\n",
       "      <td>0</td>\n",
       "      <td>597</td>\n",
       "      <td>71.2833</td>\n",
       "      <td>82</td>\n",
       "      <td>1</td>\n",
       "    </tr>\n",
       "    <tr>\n",
       "      <th>2</th>\n",
       "      <td>1</td>\n",
       "      <td>3</td>\n",
       "      <td>354</td>\n",
       "      <td>1</td>\n",
       "      <td>26.000000</td>\n",
       "      <td>0</td>\n",
       "      <td>0</td>\n",
       "      <td>670</td>\n",
       "      <td>7.9250</td>\n",
       "      <td>0</td>\n",
       "      <td>3</td>\n",
       "    </tr>\n",
       "    <tr>\n",
       "      <th>3</th>\n",
       "      <td>1</td>\n",
       "      <td>1</td>\n",
       "      <td>273</td>\n",
       "      <td>1</td>\n",
       "      <td>35.000000</td>\n",
       "      <td>1</td>\n",
       "      <td>0</td>\n",
       "      <td>50</td>\n",
       "      <td>53.1000</td>\n",
       "      <td>56</td>\n",
       "      <td>3</td>\n",
       "    </tr>\n",
       "    <tr>\n",
       "      <th>4</th>\n",
       "      <td>0</td>\n",
       "      <td>3</td>\n",
       "      <td>16</td>\n",
       "      <td>2</td>\n",
       "      <td>35.000000</td>\n",
       "      <td>0</td>\n",
       "      <td>0</td>\n",
       "      <td>473</td>\n",
       "      <td>8.0500</td>\n",
       "      <td>0</td>\n",
       "      <td>3</td>\n",
       "    </tr>\n",
       "    <tr>\n",
       "      <th>...</th>\n",
       "      <td>...</td>\n",
       "      <td>...</td>\n",
       "      <td>...</td>\n",
       "      <td>...</td>\n",
       "      <td>...</td>\n",
       "      <td>...</td>\n",
       "      <td>...</td>\n",
       "      <td>...</td>\n",
       "      <td>...</td>\n",
       "      <td>...</td>\n",
       "      <td>...</td>\n",
       "    </tr>\n",
       "    <tr>\n",
       "      <th>886</th>\n",
       "      <td>0</td>\n",
       "      <td>2</td>\n",
       "      <td>549</td>\n",
       "      <td>2</td>\n",
       "      <td>27.000000</td>\n",
       "      <td>0</td>\n",
       "      <td>0</td>\n",
       "      <td>102</td>\n",
       "      <td>13.0000</td>\n",
       "      <td>0</td>\n",
       "      <td>3</td>\n",
       "    </tr>\n",
       "    <tr>\n",
       "      <th>887</th>\n",
       "      <td>1</td>\n",
       "      <td>1</td>\n",
       "      <td>304</td>\n",
       "      <td>1</td>\n",
       "      <td>19.000000</td>\n",
       "      <td>0</td>\n",
       "      <td>0</td>\n",
       "      <td>15</td>\n",
       "      <td>30.0000</td>\n",
       "      <td>31</td>\n",
       "      <td>3</td>\n",
       "    </tr>\n",
       "    <tr>\n",
       "      <th>888</th>\n",
       "      <td>0</td>\n",
       "      <td>3</td>\n",
       "      <td>414</td>\n",
       "      <td>1</td>\n",
       "      <td>29.699118</td>\n",
       "      <td>1</td>\n",
       "      <td>2</td>\n",
       "      <td>676</td>\n",
       "      <td>23.4500</td>\n",
       "      <td>0</td>\n",
       "      <td>3</td>\n",
       "    </tr>\n",
       "    <tr>\n",
       "      <th>889</th>\n",
       "      <td>1</td>\n",
       "      <td>1</td>\n",
       "      <td>82</td>\n",
       "      <td>2</td>\n",
       "      <td>26.000000</td>\n",
       "      <td>0</td>\n",
       "      <td>0</td>\n",
       "      <td>9</td>\n",
       "      <td>30.0000</td>\n",
       "      <td>61</td>\n",
       "      <td>1</td>\n",
       "    </tr>\n",
       "    <tr>\n",
       "      <th>890</th>\n",
       "      <td>0</td>\n",
       "      <td>3</td>\n",
       "      <td>221</td>\n",
       "      <td>2</td>\n",
       "      <td>32.000000</td>\n",
       "      <td>0</td>\n",
       "      <td>0</td>\n",
       "      <td>467</td>\n",
       "      <td>7.7500</td>\n",
       "      <td>0</td>\n",
       "      <td>2</td>\n",
       "    </tr>\n",
       "  </tbody>\n",
       "</table>\n",
       "<p>891 rows × 11 columns</p>\n",
       "</div>"
      ],
      "text/plain": [
       "     Survived  Pclass  Name  Sex        Age  SibSp  Parch  Ticket     Fare  \\\n",
       "0           0       3   109    2  22.000000      1      0     524   7.2500   \n",
       "1           1       1   191    1  38.000000      1      0     597  71.2833   \n",
       "2           1       3   354    1  26.000000      0      0     670   7.9250   \n",
       "3           1       1   273    1  35.000000      1      0      50  53.1000   \n",
       "4           0       3    16    2  35.000000      0      0     473   8.0500   \n",
       "..        ...     ...   ...  ...        ...    ...    ...     ...      ...   \n",
       "886         0       2   549    2  27.000000      0      0     102  13.0000   \n",
       "887         1       1   304    1  19.000000      0      0      15  30.0000   \n",
       "888         0       3   414    1  29.699118      1      2     676  23.4500   \n",
       "889         1       1    82    2  26.000000      0      0       9  30.0000   \n",
       "890         0       3   221    2  32.000000      0      0     467   7.7500   \n",
       "\n",
       "     Cabin  Embarked  \n",
       "0        0         3  \n",
       "1       82         1  \n",
       "2        0         3  \n",
       "3       56         3  \n",
       "4        0         3  \n",
       "..     ...       ...  \n",
       "886      0         3  \n",
       "887     31         3  \n",
       "888      0         3  \n",
       "889     61         1  \n",
       "890      0         2  \n",
       "\n",
       "[891 rows x 11 columns]"
      ]
     },
     "execution_count": 14,
     "metadata": {},
     "output_type": "execute_result"
    }
   ],
   "source": [
    "train = preprocessing_data(df=train)\n",
    "train"
   ]
  },
  {
   "cell_type": "code",
   "execution_count": 15,
   "id": "important-lawyer",
   "metadata": {
    "execution": {
     "iopub.execute_input": "2021-07-06T02:58:35.219419Z",
     "iopub.status.busy": "2021-07-06T02:58:35.218725Z",
     "iopub.status.idle": "2021-07-06T02:58:35.221739Z",
     "shell.execute_reply": "2021-07-06T02:58:35.221199Z",
     "shell.execute_reply.started": "2021-07-06T02:25:10.261705Z"
    },
    "papermill": {
     "duration": 0.059196,
     "end_time": "2021-07-06T02:58:35.221898",
     "exception": false,
     "start_time": "2021-07-06T02:58:35.162702",
     "status": "completed"
    },
    "tags": []
   },
   "outputs": [],
   "source": [
    "train.drop(['Name','Ticket'], axis=1, inplace=True)"
   ]
  },
  {
   "cell_type": "code",
   "execution_count": 16,
   "id": "first-marketplace",
   "metadata": {
    "execution": {
     "iopub.execute_input": "2021-07-06T02:58:35.335950Z",
     "iopub.status.busy": "2021-07-06T02:58:35.328815Z",
     "iopub.status.idle": "2021-07-06T02:58:35.340877Z",
     "shell.execute_reply": "2021-07-06T02:58:35.340293Z",
     "shell.execute_reply.started": "2021-07-06T02:25:10.270043Z"
    },
    "papermill": {
     "duration": 0.07033,
     "end_time": "2021-07-06T02:58:35.341021",
     "exception": false,
     "start_time": "2021-07-06T02:58:35.270691",
     "status": "completed"
    },
    "tags": []
   },
   "outputs": [
    {
     "data": {
      "text/html": [
       "<div>\n",
       "<style scoped>\n",
       "    .dataframe tbody tr th:only-of-type {\n",
       "        vertical-align: middle;\n",
       "    }\n",
       "\n",
       "    .dataframe tbody tr th {\n",
       "        vertical-align: top;\n",
       "    }\n",
       "\n",
       "    .dataframe thead th {\n",
       "        text-align: right;\n",
       "    }\n",
       "</style>\n",
       "<table border=\"1\" class=\"dataframe\">\n",
       "  <thead>\n",
       "    <tr style=\"text-align: right;\">\n",
       "      <th></th>\n",
       "      <th>Survived</th>\n",
       "      <th>Pclass</th>\n",
       "      <th>Sex</th>\n",
       "      <th>Age</th>\n",
       "      <th>SibSp</th>\n",
       "      <th>Parch</th>\n",
       "      <th>Fare</th>\n",
       "      <th>Cabin</th>\n",
       "      <th>Embarked</th>\n",
       "    </tr>\n",
       "  </thead>\n",
       "  <tbody>\n",
       "    <tr>\n",
       "      <th>0</th>\n",
       "      <td>0</td>\n",
       "      <td>3</td>\n",
       "      <td>2</td>\n",
       "      <td>22.000000</td>\n",
       "      <td>1</td>\n",
       "      <td>0</td>\n",
       "      <td>7.2500</td>\n",
       "      <td>0</td>\n",
       "      <td>3</td>\n",
       "    </tr>\n",
       "    <tr>\n",
       "      <th>1</th>\n",
       "      <td>1</td>\n",
       "      <td>1</td>\n",
       "      <td>1</td>\n",
       "      <td>38.000000</td>\n",
       "      <td>1</td>\n",
       "      <td>0</td>\n",
       "      <td>71.2833</td>\n",
       "      <td>82</td>\n",
       "      <td>1</td>\n",
       "    </tr>\n",
       "    <tr>\n",
       "      <th>2</th>\n",
       "      <td>1</td>\n",
       "      <td>3</td>\n",
       "      <td>1</td>\n",
       "      <td>26.000000</td>\n",
       "      <td>0</td>\n",
       "      <td>0</td>\n",
       "      <td>7.9250</td>\n",
       "      <td>0</td>\n",
       "      <td>3</td>\n",
       "    </tr>\n",
       "    <tr>\n",
       "      <th>3</th>\n",
       "      <td>1</td>\n",
       "      <td>1</td>\n",
       "      <td>1</td>\n",
       "      <td>35.000000</td>\n",
       "      <td>1</td>\n",
       "      <td>0</td>\n",
       "      <td>53.1000</td>\n",
       "      <td>56</td>\n",
       "      <td>3</td>\n",
       "    </tr>\n",
       "    <tr>\n",
       "      <th>4</th>\n",
       "      <td>0</td>\n",
       "      <td>3</td>\n",
       "      <td>2</td>\n",
       "      <td>35.000000</td>\n",
       "      <td>0</td>\n",
       "      <td>0</td>\n",
       "      <td>8.0500</td>\n",
       "      <td>0</td>\n",
       "      <td>3</td>\n",
       "    </tr>\n",
       "    <tr>\n",
       "      <th>...</th>\n",
       "      <td>...</td>\n",
       "      <td>...</td>\n",
       "      <td>...</td>\n",
       "      <td>...</td>\n",
       "      <td>...</td>\n",
       "      <td>...</td>\n",
       "      <td>...</td>\n",
       "      <td>...</td>\n",
       "      <td>...</td>\n",
       "    </tr>\n",
       "    <tr>\n",
       "      <th>886</th>\n",
       "      <td>0</td>\n",
       "      <td>2</td>\n",
       "      <td>2</td>\n",
       "      <td>27.000000</td>\n",
       "      <td>0</td>\n",
       "      <td>0</td>\n",
       "      <td>13.0000</td>\n",
       "      <td>0</td>\n",
       "      <td>3</td>\n",
       "    </tr>\n",
       "    <tr>\n",
       "      <th>887</th>\n",
       "      <td>1</td>\n",
       "      <td>1</td>\n",
       "      <td>1</td>\n",
       "      <td>19.000000</td>\n",
       "      <td>0</td>\n",
       "      <td>0</td>\n",
       "      <td>30.0000</td>\n",
       "      <td>31</td>\n",
       "      <td>3</td>\n",
       "    </tr>\n",
       "    <tr>\n",
       "      <th>888</th>\n",
       "      <td>0</td>\n",
       "      <td>3</td>\n",
       "      <td>1</td>\n",
       "      <td>29.699118</td>\n",
       "      <td>1</td>\n",
       "      <td>2</td>\n",
       "      <td>23.4500</td>\n",
       "      <td>0</td>\n",
       "      <td>3</td>\n",
       "    </tr>\n",
       "    <tr>\n",
       "      <th>889</th>\n",
       "      <td>1</td>\n",
       "      <td>1</td>\n",
       "      <td>2</td>\n",
       "      <td>26.000000</td>\n",
       "      <td>0</td>\n",
       "      <td>0</td>\n",
       "      <td>30.0000</td>\n",
       "      <td>61</td>\n",
       "      <td>1</td>\n",
       "    </tr>\n",
       "    <tr>\n",
       "      <th>890</th>\n",
       "      <td>0</td>\n",
       "      <td>3</td>\n",
       "      <td>2</td>\n",
       "      <td>32.000000</td>\n",
       "      <td>0</td>\n",
       "      <td>0</td>\n",
       "      <td>7.7500</td>\n",
       "      <td>0</td>\n",
       "      <td>2</td>\n",
       "    </tr>\n",
       "  </tbody>\n",
       "</table>\n",
       "<p>891 rows × 9 columns</p>\n",
       "</div>"
      ],
      "text/plain": [
       "     Survived  Pclass  Sex        Age  SibSp  Parch     Fare  Cabin  Embarked\n",
       "0           0       3    2  22.000000      1      0   7.2500      0         3\n",
       "1           1       1    1  38.000000      1      0  71.2833     82         1\n",
       "2           1       3    1  26.000000      0      0   7.9250      0         3\n",
       "3           1       1    1  35.000000      1      0  53.1000     56         3\n",
       "4           0       3    2  35.000000      0      0   8.0500      0         3\n",
       "..        ...     ...  ...        ...    ...    ...      ...    ...       ...\n",
       "886         0       2    2  27.000000      0      0  13.0000      0         3\n",
       "887         1       1    1  19.000000      0      0  30.0000     31         3\n",
       "888         0       3    1  29.699118      1      2  23.4500      0         3\n",
       "889         1       1    2  26.000000      0      0  30.0000     61         1\n",
       "890         0       3    2  32.000000      0      0   7.7500      0         2\n",
       "\n",
       "[891 rows x 9 columns]"
      ]
     },
     "execution_count": 16,
     "metadata": {},
     "output_type": "execute_result"
    }
   ],
   "source": [
    "train"
   ]
  },
  {
   "cell_type": "markdown",
   "id": "quiet-austria",
   "metadata": {
    "papermill": {
     "duration": 0.049644,
     "end_time": "2021-07-06T02:58:35.440684",
     "exception": false,
     "start_time": "2021-07-06T02:58:35.391040",
     "status": "completed"
    },
    "tags": []
   },
   "source": [
    "## Checking the Outliers"
   ]
  },
  {
   "cell_type": "code",
   "execution_count": 17,
   "id": "attended-candle",
   "metadata": {
    "execution": {
     "iopub.execute_input": "2021-07-06T02:58:35.546787Z",
     "iopub.status.busy": "2021-07-06T02:58:35.546148Z",
     "iopub.status.idle": "2021-07-06T02:58:35.645599Z",
     "shell.execute_reply": "2021-07-06T02:58:35.646131Z",
     "shell.execute_reply.started": "2021-07-06T02:25:10.298425Z"
    },
    "papermill": {
     "duration": 0.156004,
     "end_time": "2021-07-06T02:58:35.646321",
     "exception": false,
     "start_time": "2021-07-06T02:58:35.490317",
     "status": "completed"
    },
    "tags": []
   },
   "outputs": [
    {
     "data": {
      "text/plain": [
       "<AxesSubplot:xlabel='Age'>"
      ]
     },
     "execution_count": 17,
     "metadata": {},
     "output_type": "execute_result"
    },
    {
     "data": {
      "image/png": "[encoded data removed]",
      "text/plain": [
       "<Figure size 432x288 with 1 Axes>"
      ]
     },
     "metadata": {
      "needs_background": "light"
     },
     "output_type": "display_data"
    }
   ],
   "source": [
    "sns.boxplot(train['Age'])"
   ]
  },
  {
   "cell_type": "markdown",
   "id": "above-mercy",
   "metadata": {
    "papermill": {
     "duration": 0.052617,
     "end_time": "2021-07-06T02:58:35.751376",
     "exception": false,
     "start_time": "2021-07-06T02:58:35.698759",
     "status": "completed"
    },
    "tags": []
   },
   "source": [
    "## Modelling"
   ]
  },
  {
   "cell_type": "code",
   "execution_count": 18,
   "id": "disabled-grade",
   "metadata": {
    "execution": {
     "iopub.execute_input": "2021-07-06T02:58:35.862837Z",
     "iopub.status.busy": "2021-07-06T02:58:35.862087Z",
     "iopub.status.idle": "2021-07-06T02:58:36.737455Z",
     "shell.execute_reply": "2021-07-06T02:58:36.736819Z",
     "shell.execute_reply.started": "2021-07-06T02:25:10.432819Z"
    },
    "papermill": {
     "duration": 0.933405,
     "end_time": "2021-07-06T02:58:36.737597",
     "exception": false,
     "start_time": "2021-07-06T02:58:35.804192",
     "status": "completed"
    },
    "tags": []
   },
   "outputs": [],
   "source": [
    "# Import required libraries\n",
    "from collections import Counter\n",
    "from sklearn.model_selection import train_test_split\n",
    "from sklearn.model_selection import cross_val_score\n",
    "from sklearn.model_selection import RepeatedStratifiedKFold\n",
    "from imblearn.over_sampling import SMOTE\n",
    "\n",
    "# Import metrics\n",
    "from sklearn.metrics import accuracy_score, precision_score, recall_score, f1_score\n",
    "from sklearn.metrics import confusion_matrix, classification_report\n",
    "\n",
    "\n"
   ]
  },
  {
   "cell_type": "code",
   "execution_count": 19,
   "id": "dirty-juvenile",
   "metadata": {
    "execution": {
     "iopub.execute_input": "2021-07-06T02:58:36.850497Z",
     "iopub.status.busy": "2021-07-06T02:58:36.849324Z",
     "iopub.status.idle": "2021-07-06T02:58:36.868091Z",
     "shell.execute_reply": "2021-07-06T02:58:36.868546Z",
     "shell.execute_reply.started": "2021-07-06T02:25:10.439792Z"
    },
    "papermill": {
     "duration": 0.078236,
     "end_time": "2021-07-06T02:58:36.868695",
     "exception": false,
     "start_time": "2021-07-06T02:58:36.790459",
     "status": "completed"
    },
    "tags": []
   },
   "outputs": [
    {
     "name": "stdout",
     "output_type": "stream",
     "text": [
      "----Imabalanced Classification-----\n",
      "Counter({0: 549, 1: 342})\n",
      "----Balanced Classification----\n",
      "Counter({0: 549, 1: 549})\n"
     ]
    }
   ],
   "source": [
    "X = train.drop('Survived', axis=1)\n",
    "y = train['Survived']\n",
    "\n",
    "X_train, X_test, y_train, y_test = train_test_split(X,y, test_size=0.2, random_state=42)\n",
    "\n",
    "print(\"----Imabalanced Classification-----\")\n",
    "counter = Counter(y)\n",
    "print(counter)\n",
    "\n",
    "# transform\n",
    "oversample = SMOTE()\n",
    "X, y = oversample.fit_resample(X, y)\n",
    "# summarize the new class distribution\n",
    "print(\"----Balanced Classification----\")\n",
    "counter = Counter(y)\n",
    "print(counter)\n",
    "\n"
   ]
  },
  {
   "cell_type": "code",
   "execution_count": 20,
   "id": "weird-reminder",
   "metadata": {
    "execution": {
     "iopub.execute_input": "2021-07-06T02:58:36.948995Z",
     "iopub.status.busy": "2021-07-06T02:58:36.948253Z",
     "iopub.status.idle": "2021-07-06T02:58:44.260982Z",
     "shell.execute_reply": "2021-07-06T02:58:44.260233Z",
     "shell.execute_reply.started": "2021-07-06T02:25:10.47109Z"
    },
    "papermill": {
     "duration": 7.356846,
     "end_time": "2021-07-06T02:58:44.261125",
     "exception": false,
     "start_time": "2021-07-06T02:58:36.904279",
     "status": "completed"
    },
    "tags": []
   },
   "outputs": [
    {
     "name": "stdout",
     "output_type": "stream",
     "text": [
      "------Cross_validation_scores-----\n",
      "Accuracy Score : 78.21%\n",
      "Precision Score : 0.7536231884057971\n",
      "Recall score : 0.7027027027027027\n",
      "F1 Score : 0.7272727272727273\n",
      "\n",
      "Classification Report :               precision    recall  f1-score   support\n",
      "\n",
      "           0       0.80      0.84      0.82       105\n",
      "           1       0.75      0.70      0.73        74\n",
      "\n",
      "    accuracy                           0.78       179\n",
      "   macro avg       0.78      0.77      0.77       179\n",
      "weighted avg       0.78      0.78      0.78       179\n",
      "\n",
      "\n",
      "\n"
     ]
    },
    {
     "data": {
      "text/plain": [
       "Text(0.5, 1.0, 'Confusion Matrix')"
      ]
     },
     "execution_count": 20,
     "metadata": {},
     "output_type": "execute_result"
    },
    {
     "data": {
      "image/png": "[encoded data removed]",
      "text/plain": [
       "<Figure size 720x360 with 2 Axes>"
      ]
     },
     "metadata": {
      "needs_background": "light"
     },
     "output_type": "display_data"
    }
   ],
   "source": [
    "# RandomForest\n",
    "from sklearn.ensemble import RandomForestClassifier\n",
    "model1 = RandomForestClassifier(n_jobs=-1)\n",
    "model1.fit(X_train, y_train)\n",
    "\n",
    "y_preds = model1.predict(X_test)\n",
    "y_preds\n",
    "\n",
    "model1.score(X_test, y_test)\n",
    "\n",
    "cv = RepeatedStratifiedKFold(n_splits=10, n_repeats=3, random_state=1)\n",
    "scores = cross_val_score(model1, X, y, scoring='roc_auc', cv=cv, n_jobs=-1)\n",
    "score = np.mean(scores)\n",
    "\n",
    "print(\"------Cross_validation_scores-----\")\n",
    "print(f\"Accuracy Score : {accuracy_score(y_test, y_preds)*100:.2f}%\")\n",
    "print(f\"Precision Score : {precision_score(y_test, y_preds)}\")\n",
    "print(f\"Recall score : {recall_score(y_test, y_preds)}\")\n",
    "print(f\"F1 Score : {f1_score(y_test, y_preds)}\")\n",
    "print()\n",
    "print(f\"Classification Report : {classification_report(y_test, y_preds)}\")\n",
    "print()\n",
    "print()\n",
    "plt.figure(figsize=(10,5))\n",
    "sns.heatmap(confusion_matrix(y_test, y_preds), annot=True)\n",
    "plt.xlabel(\"Predicted Label\")\n",
    "plt.ylabel(\"True Label\")\n",
    "plt.title(\"Confusion Matrix\")"
   ]
  },
  {
   "cell_type": "code",
   "execution_count": 21,
   "id": "ancient-harmony",
   "metadata": {
    "execution": {
     "iopub.execute_input": "2021-07-06T02:58:44.377590Z",
     "iopub.status.busy": "2021-07-06T02:58:44.376864Z",
     "iopub.status.idle": "2021-07-06T02:58:44.762968Z",
     "shell.execute_reply": "2021-07-06T02:58:44.763342Z",
     "shell.execute_reply.started": "2021-07-06T02:25:17.9065Z"
    },
    "papermill": {
     "duration": 0.449032,
     "end_time": "2021-07-06T02:58:44.763500",
     "exception": false,
     "start_time": "2021-07-06T02:58:44.314468",
     "status": "completed"
    },
    "tags": []
   },
   "outputs": [
    {
     "name": "stdout",
     "output_type": "stream",
     "text": [
      "------Cross_validation_scores-----\n",
      "Accuracy Score : 78.77%\n",
      "Precision Score : 0.7647058823529411\n",
      "Recall score : 0.7027027027027027\n",
      "F1 Score : 0.7323943661971832\n",
      "\n",
      "Classification Report :               precision    recall  f1-score   support\n",
      "\n",
      "           0       0.80      0.85      0.82       105\n",
      "           1       0.76      0.70      0.73        74\n",
      "\n",
      "    accuracy                           0.79       179\n",
      "   macro avg       0.78      0.78      0.78       179\n",
      "weighted avg       0.79      0.79      0.79       179\n",
      "\n",
      "\n",
      "\n"
     ]
    },
    {
     "data": {
      "text/plain": [
       "Text(0.5, 1.0, 'Confusion Matrix')"
      ]
     },
     "execution_count": 21,
     "metadata": {},
     "output_type": "execute_result"
    },
    {
     "data": {
      "image/png": "[encoded data removed]",
      "text/plain": [
       "<Figure size 720x360 with 2 Axes>"
      ]
     },
     "metadata": {
      "needs_background": "light"
     },
     "output_type": "display_data"
    }
   ],
   "source": [
    "#Decision tree\n",
    "from sklearn.tree import DecisionTreeClassifier\n",
    "np.random.seed(42)\n",
    "model2 = DecisionTreeClassifier()\n",
    "model2.fit(X_train, y_train)\n",
    "\n",
    "y_preds = model2.predict(X_test)\n",
    "y_preds\n",
    "\n",
    "cv = RepeatedStratifiedKFold(n_splits=10, n_repeats=3, random_state=1)\n",
    "scores = cross_val_score(model2, X, y, scoring='roc_auc', cv=cv, n_jobs=-1)\n",
    "score = np.mean(scores)\n",
    "\n",
    "print(\"------Cross_validation_scores-----\")\n",
    "print(f\"Accuracy Score : {accuracy_score(y_test, y_preds)*100:.2f}%\")\n",
    "print(f\"Precision Score : {precision_score(y_test, y_preds)}\")\n",
    "print(f\"Recall score : {recall_score(y_test, y_preds)}\")\n",
    "print(f\"F1 Score : {f1_score(y_test, y_preds)}\")\n",
    "print()\n",
    "print(f\"Classification Report : {classification_report(y_test, y_preds)}\")\n",
    "print()\n",
    "print()\n",
    "plt.figure(figsize=(10,5))\n",
    "sns.heatmap(confusion_matrix(y_test, y_preds), annot=True)\n",
    "plt.xlabel(\"Predicted Label\")\n",
    "plt.ylabel(\"True Label\")\n",
    "plt.title(\"Confusion Matrix\")"
   ]
  },
  {
   "cell_type": "code",
   "execution_count": 22,
   "id": "fresh-nation",
   "metadata": {
    "execution": {
     "iopub.execute_input": "2021-07-06T02:58:44.841419Z",
     "iopub.status.busy": "2021-07-06T02:58:44.840940Z",
     "iopub.status.idle": "2021-07-06T02:58:46.634777Z",
     "shell.execute_reply": "2021-07-06T02:58:46.634333Z",
     "shell.execute_reply.started": "2021-07-06T02:25:18.349117Z"
    },
    "papermill": {
     "duration": 1.834509,
     "end_time": "2021-07-06T02:58:46.634909",
     "exception": false,
     "start_time": "2021-07-06T02:58:44.800400",
     "status": "completed"
    },
    "tags": []
   },
   "outputs": [
    {
     "name": "stdout",
     "output_type": "stream",
     "text": [
      "------Cross_validation_scores-----\n",
      "Accuracy Score : 82.12%\n",
      "Precision Score : 0.8181818181818182\n",
      "Recall score : 0.7297297297297297\n",
      "F1 Score : 0.7714285714285715\n",
      "\n",
      "Classification Report :               precision    recall  f1-score   support\n",
      "\n",
      "           0       0.82      0.89      0.85       105\n",
      "           1       0.82      0.73      0.77        74\n",
      "\n",
      "    accuracy                           0.82       179\n",
      "   macro avg       0.82      0.81      0.81       179\n",
      "weighted avg       0.82      0.82      0.82       179\n",
      "\n",
      "\n",
      "\n"
     ]
    },
    {
     "data": {
      "text/plain": [
       "Text(0.5, 1.0, 'Confusion Matrix')"
      ]
     },
     "execution_count": 22,
     "metadata": {},
     "output_type": "execute_result"
    },
    {
     "data": {
      "image/png": "[encoded data removed]",
      "text/plain": [
       "<Figure size 720x360 with 2 Axes>"
      ]
     },
     "metadata": {
      "needs_background": "light"
     },
     "output_type": "display_data"
    }
   ],
   "source": [
    "## Gradient Boost\n",
    "from sklearn.ensemble import GradientBoostingClassifier\n",
    "\n",
    "np.random.seed(42)\n",
    "model3 = GradientBoostingClassifier()\n",
    "model3.fit(X_train, y_train)\n",
    "\n",
    "y_preds = model3.predict(X_test)\n",
    "\n",
    "cv = RepeatedStratifiedKFold(n_splits=10, n_repeats=3, random_state=1)\n",
    "scores = cross_val_score(model3, X, y, scoring='roc_auc', cv=cv, n_jobs=-1)\n",
    "score = np.mean(scores)\n",
    "\n",
    "print(\"------Cross_validation_scores-----\")\n",
    "print(f\"Accuracy Score : {accuracy_score(y_test, y_preds)*100:.2f}%\")\n",
    "print(f\"Precision Score : {precision_score(y_test, y_preds)}\")\n",
    "print(f\"Recall score : {recall_score(y_test, y_preds)}\")\n",
    "print(f\"F1 Score : {f1_score(y_test, y_preds)}\")\n",
    "print()\n",
    "print(f\"Classification Report : {classification_report(y_test, y_preds)}\")\n",
    "print()\n",
    "print()\n",
    "plt.figure(figsize=(10,5))\n",
    "sns.heatmap(confusion_matrix(y_test, y_preds), annot=True)\n",
    "plt.xlabel(\"Predicted Label\")\n",
    "plt.ylabel(\"True Label\")\n",
    "plt.title(\"Confusion Matrix\")"
   ]
  },
  {
   "cell_type": "code",
   "execution_count": 23,
   "id": "copyrighted-pollution",
   "metadata": {
    "execution": {
     "iopub.execute_input": "2021-07-06T02:58:46.729997Z",
     "iopub.status.busy": "2021-07-06T02:58:46.725158Z",
     "iopub.status.idle": "2021-07-06T02:58:47.119828Z",
     "shell.execute_reply": "2021-07-06T02:58:47.120338Z",
     "shell.execute_reply.started": "2021-07-06T02:25:20.541537Z"
    },
    "papermill": {
     "duration": 0.447102,
     "end_time": "2021-07-06T02:58:47.120515",
     "exception": false,
     "start_time": "2021-07-06T02:58:46.673413",
     "status": "completed"
    },
    "tags": []
   },
   "outputs": [
    {
     "name": "stdout",
     "output_type": "stream",
     "text": [
      "------Cross_validation_scores-----\n",
      "Accuracy Score : 70.95%\n",
      "Precision Score : 0.671875\n",
      "Recall score : 0.581081081081081\n",
      "F1 Score : 0.6231884057971013\n",
      "\n",
      "Classification Report :               precision    recall  f1-score   support\n",
      "\n",
      "           0       0.73      0.80      0.76       105\n",
      "           1       0.67      0.58      0.62        74\n",
      "\n",
      "    accuracy                           0.71       179\n",
      "   macro avg       0.70      0.69      0.69       179\n",
      "weighted avg       0.71      0.71      0.71       179\n",
      "\n",
      "\n",
      "\n"
     ]
    },
    {
     "data": {
      "text/plain": [
       "Text(0.5, 1.0, 'Confusion Matrix')"
      ]
     },
     "execution_count": 23,
     "metadata": {},
     "output_type": "execute_result"
    },
    {
     "data": {
      "image/png": "[encoded data removed]",
      "text/plain": [
       "<Figure size 720x360 with 2 Axes>"
      ]
     },
     "metadata": {
      "needs_background": "light"
     },
     "output_type": "display_data"
    }
   ],
   "source": [
    "# KNN\n",
    "from sklearn.neighbors import KNeighborsClassifier\n",
    "\n",
    "np.random.seed(42)\n",
    "\n",
    "model4 = KNeighborsClassifier()\n",
    "model4.fit(X_train, y_train)\n",
    "\n",
    "y_preds = model4.predict(X_test)\n",
    "\n",
    "cv = RepeatedStratifiedKFold(n_splits=10, n_repeats=3, random_state=1)\n",
    "scores = cross_val_score(model4, X, y, scoring='roc_auc', cv=cv, n_jobs=-1)\n",
    "score = np.mean(scores)\n",
    "\n",
    "print(\"------Cross_validation_scores-----\")\n",
    "print(f\"Accuracy Score : {accuracy_score(y_test, y_preds)*100:.2f}%\")\n",
    "print(f\"Precision Score : {precision_score(y_test, y_preds)}\")\n",
    "print(f\"Recall score : {recall_score(y_test, y_preds)}\")\n",
    "print(f\"F1 Score : {f1_score(y_test, y_preds)}\")\n",
    "print()\n",
    "print(f\"Classification Report : {classification_report(y_test, y_preds)}\")\n",
    "print()\n",
    "print()\n",
    "plt.figure(figsize=(10,5))\n",
    "sns.heatmap(confusion_matrix(y_test, y_preds), annot=True)\n",
    "plt.xlabel(\"Predicted Label\")\n",
    "plt.ylabel(\"True Label\")\n",
    "plt.title(\"Confusion Matrix\")"
   ]
  },
  {
   "cell_type": "code",
   "execution_count": 24,
   "id": "loving-sheffield",
   "metadata": {
    "execution": {
     "iopub.execute_input": "2021-07-06T02:58:47.239479Z",
     "iopub.status.busy": "2021-07-06T02:58:47.238679Z",
     "iopub.status.idle": "2021-07-06T02:58:47.990408Z",
     "shell.execute_reply": "2021-07-06T02:58:47.989528Z",
     "shell.execute_reply.started": "2021-07-06T02:25:21.020443Z"
    },
    "papermill": {
     "duration": 0.811627,
     "end_time": "2021-07-06T02:58:47.990552",
     "exception": false,
     "start_time": "2021-07-06T02:58:47.178925",
     "status": "completed"
    },
    "tags": []
   },
   "outputs": [
    {
     "name": "stdout",
     "output_type": "stream",
     "text": [
      "------Cross_validation_scores-----\n",
      "Accuracy Score : 82.12%\n",
      "Precision Score : 0.8\n",
      "Recall score : 0.7567567567567568\n",
      "F1 Score : 0.7777777777777778\n",
      "\n",
      "Classification Report :               precision    recall  f1-score   support\n",
      "\n",
      "           0       0.83      0.87      0.85       105\n",
      "           1       0.80      0.76      0.78        74\n",
      "\n",
      "    accuracy                           0.82       179\n",
      "   macro avg       0.82      0.81      0.81       179\n",
      "weighted avg       0.82      0.82      0.82       179\n",
      "\n",
      "\n",
      "\n"
     ]
    },
    {
     "data": {
      "text/plain": [
       "Text(0.5, 1.0, 'Confusion Matrix')"
      ]
     },
     "execution_count": 24,
     "metadata": {},
     "output_type": "execute_result"
    },
    {
     "data": {
      "image/png": "[encoded data removed]",
      "text/plain": [
       "<Figure size 720x360 with 2 Axes>"
      ]
     },
     "metadata": {
      "needs_background": "light"
     },
     "output_type": "display_data"
    }
   ],
   "source": [
    "# LogisticRegression \n",
    "from sklearn.linear_model import LogisticRegression\n",
    "\n",
    "np.random.seed(42)\n",
    "model5 = LogisticRegression()\n",
    "model5.fit(X_train, y_train)\n",
    "\n",
    "y_preds = model5.predict(X_test)\n",
    "\n",
    "cv = RepeatedStratifiedKFold(n_splits=10, n_repeats=3, random_state=1)\n",
    "scores = cross_val_score(model5, X, y, scoring='roc_auc', cv=cv, n_jobs=-1)\n",
    "score = np.mean(scores)\n",
    "\n",
    "print(\"------Cross_validation_scores-----\")\n",
    "print(f\"Accuracy Score : {accuracy_score(y_test, y_preds)*100:.2f}%\")\n",
    "print(f\"Precision Score : {precision_score(y_test, y_preds)}\")\n",
    "print(f\"Recall score : {recall_score(y_test, y_preds)}\")\n",
    "print(f\"F1 Score : {f1_score(y_test, y_preds)}\")\n",
    "print()\n",
    "print(f\"Classification Report : {classification_report(y_test, y_preds)}\")\n",
    "print()\n",
    "print()\n",
    "plt.figure(figsize=(10,5))\n",
    "sns.heatmap(confusion_matrix(y_test, y_preds), annot=True)\n",
    "plt.xlabel(\"Predicted Label\")\n",
    "plt.ylabel(\"True Label\")\n",
    "plt.title(\"Confusion Matrix\")"
   ]
  },
  {
   "cell_type": "code",
   "execution_count": 25,
   "id": "spoken-junior",
   "metadata": {
    "execution": {
     "iopub.execute_input": "2021-07-06T02:58:48.117213Z",
     "iopub.status.busy": "2021-07-06T02:58:48.116534Z",
     "iopub.status.idle": "2021-07-06T03:05:17.878661Z",
     "shell.execute_reply": "2021-07-06T03:05:17.877717Z",
     "shell.execute_reply.started": "2021-07-06T02:25:21.913939Z"
    },
    "papermill": {
     "duration": 389.828815,
     "end_time": "2021-07-06T03:05:17.878946",
     "exception": false,
     "start_time": "2021-07-06T02:58:48.050131",
     "status": "completed"
    },
    "tags": []
   },
   "outputs": [
    {
     "name": "stdout",
     "output_type": "stream",
     "text": [
      "[02:58:48] WARNING: ../src/learner.cc:1095: Starting in XGBoost 1.3.0, the default evaluation metric used with the objective 'binary:logistic' was changed from 'error' to 'logloss'. Explicitly set eval_metric if you'd like to restore the old behavior.\n",
      "------Cross_validation_scores-----\n",
      "Accuracy Score : 79.89%\n",
      "Precision Score : 0.7567567567567568\n",
      "Recall score : 0.7567567567567568\n",
      "F1 Score : 0.7567567567567567\n",
      "\n",
      "Classification Report :               precision    recall  f1-score   support\n",
      "\n",
      "           0       0.83      0.83      0.83       105\n",
      "           1       0.76      0.76      0.76        74\n",
      "\n",
      "    accuracy                           0.80       179\n",
      "   macro avg       0.79      0.79      0.79       179\n",
      "weighted avg       0.80      0.80      0.80       179\n",
      "\n",
      "\n",
      "\n"
     ]
    },
    {
     "data": {
      "text/plain": [
       "Text(0.5, 1.0, 'Confusion Matrix')"
      ]
     },
     "execution_count": 25,
     "metadata": {},
     "output_type": "execute_result"
    },
    {
     "data": {
      "image/png": "[encoded data removed]",
      "text/plain": [
       "<Figure size 720x360 with 2 Axes>"
      ]
     },
     "metadata": {
      "needs_background": "light"
     },
     "output_type": "display_data"
    }
   ],
   "source": [
    "## XGB\n",
    "from xgboost import XGBClassifier\n",
    "\n",
    "np.random.seed(42)\n",
    "model6 = XGBClassifier()\n",
    "model6.fit(X_train, y_train)\n",
    "\n",
    "y_preds = model6.predict(X_test)\n",
    "\n",
    "cv = RepeatedStratifiedKFold(n_splits=10, n_repeats=3, random_state=1)\n",
    "scores = cross_val_score(model6, X, y, scoring='roc_auc', cv=cv, n_jobs=-1)\n",
    "score = np.mean(scores)\n",
    "\n",
    "print(\"------Cross_validation_scores-----\")\n",
    "print(f\"Accuracy Score : {accuracy_score(y_test, y_preds)*100:.2f}%\")\n",
    "print(f\"Precision Score : {precision_score(y_test, y_preds)}\")\n",
    "print(f\"Recall score : {recall_score(y_test, y_preds)}\")\n",
    "print(f\"F1 Score : {f1_score(y_test, y_preds)}\")\n",
    "print()\n",
    "print(f\"Classification Report : {classification_report(y_test, y_preds)}\")\n",
    "print()\n",
    "print()\n",
    "plt.figure(figsize=(10,5))\n",
    "sns.heatmap(confusion_matrix(y_test, y_preds), annot=True)\n",
    "plt.xlabel(\"Predicted Label\")\n",
    "plt.ylabel(\"True Label\")\n",
    "plt.title(\"Confusion Matrix\")"
   ]
  },
  {
   "cell_type": "code",
   "execution_count": 26,
   "id": "mighty-cycling",
   "metadata": {
    "execution": {
     "iopub.execute_input": "2021-07-06T03:05:17.987721Z",
     "iopub.status.busy": "2021-07-06T03:05:17.986991Z",
     "iopub.status.idle": "2021-07-06T03:05:24.089102Z",
     "shell.execute_reply": "2021-07-06T03:05:24.089467Z",
     "shell.execute_reply.started": "2021-07-06T02:32:04.477635Z"
    },
    "papermill": {
     "duration": 6.152946,
     "end_time": "2021-07-06T03:05:24.089627",
     "exception": false,
     "start_time": "2021-07-06T03:05:17.936681",
     "status": "completed"
    },
    "tags": []
   },
   "outputs": [
    {
     "name": "stdout",
     "output_type": "stream",
     "text": [
      "------Cross_validation_scores-----\n",
      "Accuracy Score : 82.68%\n",
      "Precision Score : 0.8307692307692308\n",
      "Recall score : 0.7297297297297297\n",
      "F1 Score : 0.7769784172661871\n",
      "\n",
      "Classification Report :               precision    recall  f1-score   support\n",
      "\n",
      "           0       0.82      0.90      0.86       105\n",
      "           1       0.83      0.73      0.78        74\n",
      "\n",
      "    accuracy                           0.83       179\n",
      "   macro avg       0.83      0.81      0.82       179\n",
      "weighted avg       0.83      0.83      0.82       179\n",
      "\n",
      "\n",
      "\n"
     ]
    },
    {
     "data": {
      "text/plain": [
       "Text(0.5, 1.0, 'Confusion Matrix')"
      ]
     },
     "execution_count": 26,
     "metadata": {},
     "output_type": "execute_result"
    },
    {
     "data": {
      "image/png": "[encoded data removed]",
      "text/plain": [
       "<Figure size 720x360 with 2 Axes>"
      ]
     },
     "metadata": {
      "needs_background": "light"
     },
     "output_type": "display_data"
    }
   ],
   "source": [
    "#Catboost\n",
    "from catboost import CatBoostClassifier\n",
    "\n",
    "np.random.seed(42)\n",
    "model7 = CatBoostClassifier(verbose=0)\n",
    "model7.fit(X_train, y_train)\n",
    "\n",
    "y_preds = model7.predict(X_test)\n",
    "\n",
    "cv = RepeatedStratifiedKFold(n_splits=10, n_repeats=3, random_state=1)\n",
    "scores = cross_val_score(model1, X, y, scoring='roc_auc', cv=cv, n_jobs=-1)\n",
    "score = np.mean(scores)\n",
    "\n",
    "print(\"------Cross_validation_scores-----\")\n",
    "print(f\"Accuracy Score : {accuracy_score(y_test, y_preds)*100:.2f}%\")\n",
    "print(f\"Precision Score : {precision_score(y_test, y_preds)}\")\n",
    "print(f\"Recall score : {recall_score(y_test, y_preds)}\")\n",
    "print(f\"F1 Score : {f1_score(y_test, y_preds)}\")\n",
    "print()\n",
    "print(f\"Classification Report : {classification_report(y_test, y_preds)}\")\n",
    "print()\n",
    "print()\n",
    "plt.figure(figsize=(10,5))\n",
    "sns.heatmap(confusion_matrix(y_test, y_preds), annot=True)\n",
    "plt.xlabel(\"Predicted Label\")\n",
    "plt.ylabel(\"True Label\")\n",
    "plt.title(\"Confusion Matrix\")"
   ]
  },
  {
   "cell_type": "code",
   "execution_count": 27,
   "id": "compound-buffer",
   "metadata": {
    "execution": {
     "iopub.execute_input": "2021-07-06T03:05:24.181768Z",
     "iopub.status.busy": "2021-07-06T03:05:24.181259Z",
     "iopub.status.idle": "2021-07-06T03:05:24.189237Z",
     "shell.execute_reply": "2021-07-06T03:05:24.188528Z",
     "shell.execute_reply.started": "2021-07-06T02:32:10.644924Z"
    },
    "papermill": {
     "duration": 0.057037,
     "end_time": "2021-07-06T03:05:24.189382",
     "exception": false,
     "start_time": "2021-07-06T03:05:24.132345",
     "status": "completed"
    },
    "tags": []
   },
   "outputs": [
    {
     "data": {
      "text/plain": [
       "array([0, 0, 0, 1, 1, 1, 1, 0, 1, 1, 0, 0, 0, 0, 0, 1, 0, 1, 0, 0, 0, 0,\n",
       "       0, 0, 0, 0, 0, 0, 0, 1, 0, 1, 0, 1, 0, 0, 0, 1, 1, 0, 0, 0, 0, 0,\n",
       "       0, 0, 0, 0, 0, 1, 1, 1, 0, 1, 0, 1, 0, 1, 1, 1, 0, 1, 1, 0, 0, 1,\n",
       "       0, 0, 0, 1, 1, 1, 0, 1, 0, 0, 1, 1, 1, 0, 0, 1, 1, 0, 0, 0, 1, 1,\n",
       "       0, 0, 0, 0, 0, 0, 0, 0, 0, 0, 1, 0, 0, 0, 1, 0, 0, 0, 1, 0, 0, 0,\n",
       "       1, 0, 1, 1, 0, 0, 0, 1, 1, 0, 0, 1, 1, 1, 0, 0, 1, 0, 0, 0, 1, 0,\n",
       "       0, 1, 0, 0, 1, 0, 0, 0, 0, 1, 0, 0, 0, 1, 0, 0, 1, 0, 0, 0, 0, 1,\n",
       "       0, 0, 0, 1, 1, 1, 0, 0, 0, 1, 0, 0, 0, 1, 0, 0, 1, 1, 1, 1, 0, 0,\n",
       "       0, 1, 1])"
      ]
     },
     "execution_count": 27,
     "metadata": {},
     "output_type": "execute_result"
    }
   ],
   "source": [
    "y_preds = model7.predict(X_test)\n",
    "y_preds\n"
   ]
  },
  {
   "cell_type": "code",
   "execution_count": 28,
   "id": "gentle-source",
   "metadata": {
    "execution": {
     "iopub.execute_input": "2021-07-06T03:05:24.324311Z",
     "iopub.status.busy": "2021-07-06T03:05:24.323425Z",
     "iopub.status.idle": "2021-07-06T03:05:24.333165Z",
     "shell.execute_reply": "2021-07-06T03:05:24.332604Z",
     "shell.execute_reply.started": "2021-07-06T02:32:10.657372Z"
    },
    "papermill": {
     "duration": 0.078847,
     "end_time": "2021-07-06T03:05:24.333303",
     "exception": false,
     "start_time": "2021-07-06T03:05:24.254456",
     "status": "completed"
    },
    "tags": []
   },
   "outputs": [
    {
     "data": {
      "text/plain": [
       "array([0.1609413 , 0.11823407, 0.16476422, 0.96409805, 0.58213955,\n",
       "       0.96948842, 0.69510154, 0.07345818, 0.61844503, 0.97741546,\n",
       "       0.29427857, 0.07463482, 0.17247513, 0.12529519, 0.10646215,\n",
       "       0.97771936, 0.44329726, 0.68839653, 0.1042616 , 0.26211825,\n",
       "       0.10471844, 0.17231182, 0.31463665, 0.10057709, 0.08536913,\n",
       "       0.06696302, 0.16057159, 0.11983948, 0.17566896, 0.55274509,\n",
       "       0.10186105, 0.50862955, 0.24030123, 0.64075404, 0.1217904 ,\n",
       "       0.17698319, 0.25412038, 0.69510154, 0.96479033, 0.09599358,\n",
       "       0.09451045, 0.11561977, 0.09880615, 0.13147376, 0.40619246,\n",
       "       0.112436  , 0.11440195, 0.09033252, 0.14787686, 0.55283342,\n",
       "       0.90025014, 0.98002784, 0.02531364, 0.72520492, 0.04288796,\n",
       "       0.96918301, 0.13143293, 0.97712822, 0.9456559 , 0.58908266,\n",
       "       0.13519269, 0.92036471, 0.9236803 , 0.15097396, 0.13147376,\n",
       "       0.94406045, 0.12245662, 0.14584593, 0.20725804, 0.98429166,\n",
       "       0.92025613, 0.96069205, 0.44398015, 0.98866806, 0.12614631,\n",
       "       0.08933677, 0.68877364, 0.97230603, 0.93783256, 0.42843832,\n",
       "       0.0338649 , 0.94600328, 0.98834716, 0.11719336, 0.40517301,\n",
       "       0.3147988 , 0.99369678, 0.99320368, 0.02497669, 0.08713092,\n",
       "       0.48426159, 0.1004183 , 0.20987915, 0.11036686, 0.09599358,\n",
       "       0.12551663, 0.20067903, 0.06581982, 0.9835006 , 0.15223735,\n",
       "       0.12420539, 0.05167635, 0.98321855, 0.04387223, 0.09925872,\n",
       "       0.15994405, 0.94848088, 0.15888726, 0.10552915, 0.33824088,\n",
       "       0.96368715, 0.11118263, 0.99123873, 0.7858518 , 0.33127114,\n",
       "       0.10129022, 0.41909099, 0.72819894, 0.92150521, 0.16864166,\n",
       "       0.11147237, 0.99291535, 0.97357149, 0.93534539, 0.14031705,\n",
       "       0.15573305, 0.96589818, 0.3826671 , 0.47001186, 0.09040213,\n",
       "       0.68242579, 0.1609413 , 0.03962712, 0.76713975, 0.36582044,\n",
       "       0.34895037, 0.98137838, 0.16140745, 0.04267776, 0.38027273,\n",
       "       0.09078567, 0.94895413, 0.09491098, 0.10961554, 0.14223818,\n",
       "       0.95181909, 0.1042561 , 0.11827191, 0.98122854, 0.07529334,\n",
       "       0.16823743, 0.13448619, 0.10304931, 0.66886254, 0.09880615,\n",
       "       0.08153995, 0.41244353, 0.69206575, 0.95066359, 0.68729177,\n",
       "       0.2454566 , 0.16173176, 0.10712919, 0.9766771 , 0.12405225,\n",
       "       0.37746593, 0.07597986, 0.98662262, 0.10169426, 0.05140432,\n",
       "       0.63042909, 0.93535391, 0.7858518 , 0.80588427, 0.10253565,\n",
       "       0.13010694, 0.04043778, 0.8779091 , 0.5104945 ])"
      ]
     },
     "execution_count": 28,
     "metadata": {},
     "output_type": "execute_result"
    }
   ],
   "source": [
    "y_pred_proba = model7.predict_proba(X_test)\n",
    "y_pred_proba = y_pred_proba[:,1]\n",
    "y_pred_proba"
   ]
  },
  {
   "cell_type": "code",
   "execution_count": 29,
   "id": "certain-morocco",
   "metadata": {
    "execution": {
     "iopub.execute_input": "2021-07-06T03:05:24.437769Z",
     "iopub.status.busy": "2021-07-06T03:05:24.427291Z",
     "iopub.status.idle": "2021-07-06T03:05:24.547371Z",
     "shell.execute_reply": "2021-07-06T03:05:24.546682Z",
     "shell.execute_reply.started": "2021-07-06T02:32:10.678415Z"
    },
    "papermill": {
     "duration": 0.170258,
     "end_time": "2021-07-06T03:05:24.547514",
     "exception": false,
     "start_time": "2021-07-06T03:05:24.377256",
     "status": "completed"
    },
    "tags": []
   },
   "outputs": [
    {
     "data": {
      "image/png": "[encoded data removed]",
      "text/plain": [
       "<Figure size 432x288 with 1 Axes>"
      ]
     },
     "metadata": {
      "needs_background": "light"
     },
     "output_type": "display_data"
    }
   ],
   "source": [
    "#ROC Curve\n",
    "# Calculate the roc curve\n",
    "from sklearn.metrics import roc_curve\n",
    "fpr, tpr, thresholds  = roc_curve(y_test, y_pred_proba)\n",
    "plt.plot(fpr, tpr, marker='*', label='roc_curve')\n",
    "plt.legend()\n",
    "plt.show()"
   ]
  },
  {
   "cell_type": "markdown",
   "id": "removed-blair",
   "metadata": {
    "papermill": {
     "duration": 0.065003,
     "end_time": "2021-07-06T03:05:24.677732",
     "exception": false,
     "start_time": "2021-07-06T03:05:24.612729",
     "status": "completed"
    },
    "tags": []
   },
   "source": [
    "## Import Test Set"
   ]
  },
  {
   "cell_type": "code",
   "execution_count": 30,
   "id": "exotic-delta",
   "metadata": {
    "execution": {
     "iopub.execute_input": "2021-07-06T03:05:24.812481Z",
     "iopub.status.busy": "2021-07-06T03:05:24.811928Z",
     "iopub.status.idle": "2021-07-06T03:05:24.834815Z",
     "shell.execute_reply": "2021-07-06T03:05:24.834150Z",
     "shell.execute_reply.started": "2021-07-06T02:39:30.276789Z"
    },
    "papermill": {
     "duration": 0.092059,
     "end_time": "2021-07-06T03:05:24.834975",
     "exception": false,
     "start_time": "2021-07-06T03:05:24.742916",
     "status": "completed"
    },
    "tags": []
   },
   "outputs": [
    {
     "data": {
      "text/html": [
       "<div>\n",
       "<style scoped>\n",
       "    .dataframe tbody tr th:only-of-type {\n",
       "        vertical-align: middle;\n",
       "    }\n",
       "\n",
       "    .dataframe tbody tr th {\n",
       "        vertical-align: top;\n",
       "    }\n",
       "\n",
       "    .dataframe thead th {\n",
       "        text-align: right;\n",
       "    }\n",
       "</style>\n",
       "<table border=\"1\" class=\"dataframe\">\n",
       "  <thead>\n",
       "    <tr style=\"text-align: right;\">\n",
       "      <th></th>\n",
       "      <th>PassengerId</th>\n",
       "      <th>Pclass</th>\n",
       "      <th>Name</th>\n",
       "      <th>Sex</th>\n",
       "      <th>Age</th>\n",
       "      <th>SibSp</th>\n",
       "      <th>Parch</th>\n",
       "      <th>Ticket</th>\n",
       "      <th>Fare</th>\n",
       "      <th>Cabin</th>\n",
       "      <th>Embarked</th>\n",
       "    </tr>\n",
       "  </thead>\n",
       "  <tbody>\n",
       "    <tr>\n",
       "      <th>0</th>\n",
       "      <td>892</td>\n",
       "      <td>3</td>\n",
       "      <td>Kelly, Mr. James</td>\n",
       "      <td>male</td>\n",
       "      <td>34.5</td>\n",
       "      <td>0</td>\n",
       "      <td>0</td>\n",
       "      <td>330911</td>\n",
       "      <td>7.8292</td>\n",
       "      <td>NaN</td>\n",
       "      <td>Q</td>\n",
       "    </tr>\n",
       "    <tr>\n",
       "      <th>1</th>\n",
       "      <td>893</td>\n",
       "      <td>3</td>\n",
       "      <td>Wilkes, Mrs. James (Ellen Needs)</td>\n",
       "      <td>female</td>\n",
       "      <td>47.0</td>\n",
       "      <td>1</td>\n",
       "      <td>0</td>\n",
       "      <td>363272</td>\n",
       "      <td>7.0000</td>\n",
       "      <td>NaN</td>\n",
       "      <td>S</td>\n",
       "    </tr>\n",
       "    <tr>\n",
       "      <th>2</th>\n",
       "      <td>894</td>\n",
       "      <td>2</td>\n",
       "      <td>Myles, Mr. Thomas Francis</td>\n",
       "      <td>male</td>\n",
       "      <td>62.0</td>\n",
       "      <td>0</td>\n",
       "      <td>0</td>\n",
       "      <td>240276</td>\n",
       "      <td>9.6875</td>\n",
       "      <td>NaN</td>\n",
       "      <td>Q</td>\n",
       "    </tr>\n",
       "    <tr>\n",
       "      <th>3</th>\n",
       "      <td>895</td>\n",
       "      <td>3</td>\n",
       "      <td>Wirz, Mr. Albert</td>\n",
       "      <td>male</td>\n",
       "      <td>27.0</td>\n",
       "      <td>0</td>\n",
       "      <td>0</td>\n",
       "      <td>315154</td>\n",
       "      <td>8.6625</td>\n",
       "      <td>NaN</td>\n",
       "      <td>S</td>\n",
       "    </tr>\n",
       "    <tr>\n",
       "      <th>4</th>\n",
       "      <td>896</td>\n",
       "      <td>3</td>\n",
       "      <td>Hirvonen, Mrs. Alexander (Helga E Lindqvist)</td>\n",
       "      <td>female</td>\n",
       "      <td>22.0</td>\n",
       "      <td>1</td>\n",
       "      <td>1</td>\n",
       "      <td>3101298</td>\n",
       "      <td>12.2875</td>\n",
       "      <td>NaN</td>\n",
       "      <td>S</td>\n",
       "    </tr>\n",
       "  </tbody>\n",
       "</table>\n",
       "</div>"
      ],
      "text/plain": [
       "   PassengerId  Pclass                                          Name     Sex  \\\n",
       "0          892       3                              Kelly, Mr. James    male   \n",
       "1          893       3              Wilkes, Mrs. James (Ellen Needs)  female   \n",
       "2          894       2                     Myles, Mr. Thomas Francis    male   \n",
       "3          895       3                              Wirz, Mr. Albert    male   \n",
       "4          896       3  Hirvonen, Mrs. Alexander (Helga E Lindqvist)  female   \n",
       "\n",
       "    Age  SibSp  Parch   Ticket     Fare Cabin Embarked  \n",
       "0  34.5      0      0   330911   7.8292   NaN        Q  \n",
       "1  47.0      1      0   363272   7.0000   NaN        S  \n",
       "2  62.0      0      0   240276   9.6875   NaN        Q  \n",
       "3  27.0      0      0   315154   8.6625   NaN        S  \n",
       "4  22.0      1      1  3101298  12.2875   NaN        S  "
      ]
     },
     "execution_count": 30,
     "metadata": {},
     "output_type": "execute_result"
    }
   ],
   "source": [
    "test = pd.read_csv(\"../input/titanic/test.csv\")\n",
    "test.head()\n"
   ]
  },
  {
   "cell_type": "code",
   "execution_count": 31,
   "id": "nominated-ocean",
   "metadata": {
    "execution": {
     "iopub.execute_input": "2021-07-06T03:05:24.972095Z",
     "iopub.status.busy": "2021-07-06T03:05:24.971355Z",
     "iopub.status.idle": "2021-07-06T03:05:24.974739Z",
     "shell.execute_reply": "2021-07-06T03:05:24.975244Z",
     "shell.execute_reply.started": "2021-07-06T02:40:56.096474Z"
    },
    "papermill": {
     "duration": 0.07505,
     "end_time": "2021-07-06T03:05:24.975427",
     "exception": false,
     "start_time": "2021-07-06T03:05:24.900377",
     "status": "completed"
    },
    "tags": []
   },
   "outputs": [],
   "source": [
    "test = test.drop(['Name', 'Ticket'], axis=1)"
   ]
  },
  {
   "cell_type": "code",
   "execution_count": 32,
   "id": "surprised-status",
   "metadata": {
    "execution": {
     "iopub.execute_input": "2021-07-06T03:05:25.126455Z",
     "iopub.status.busy": "2021-07-06T03:05:25.116325Z",
     "iopub.status.idle": "2021-07-06T03:05:25.129263Z",
     "shell.execute_reply": "2021-07-06T03:05:25.129709Z",
     "shell.execute_reply.started": "2021-07-06T02:40:59.736159Z"
    },
    "papermill": {
     "duration": 0.084281,
     "end_time": "2021-07-06T03:05:25.129865",
     "exception": false,
     "start_time": "2021-07-06T03:05:25.045584",
     "status": "completed"
    },
    "tags": []
   },
   "outputs": [
    {
     "data": {
      "text/html": [
       "<div>\n",
       "<style scoped>\n",
       "    .dataframe tbody tr th:only-of-type {\n",
       "        vertical-align: middle;\n",
       "    }\n",
       "\n",
       "    .dataframe tbody tr th {\n",
       "        vertical-align: top;\n",
       "    }\n",
       "\n",
       "    .dataframe thead th {\n",
       "        text-align: right;\n",
       "    }\n",
       "</style>\n",
       "<table border=\"1\" class=\"dataframe\">\n",
       "  <thead>\n",
       "    <tr style=\"text-align: right;\">\n",
       "      <th></th>\n",
       "      <th>PassengerId</th>\n",
       "      <th>Pclass</th>\n",
       "      <th>Sex</th>\n",
       "      <th>Age</th>\n",
       "      <th>SibSp</th>\n",
       "      <th>Parch</th>\n",
       "      <th>Fare</th>\n",
       "      <th>Cabin</th>\n",
       "      <th>Embarked</th>\n",
       "    </tr>\n",
       "  </thead>\n",
       "  <tbody>\n",
       "    <tr>\n",
       "      <th>0</th>\n",
       "      <td>892</td>\n",
       "      <td>3</td>\n",
       "      <td>2</td>\n",
       "      <td>34.5</td>\n",
       "      <td>0</td>\n",
       "      <td>0</td>\n",
       "      <td>7.8292</td>\n",
       "      <td>0</td>\n",
       "      <td>2</td>\n",
       "    </tr>\n",
       "    <tr>\n",
       "      <th>1</th>\n",
       "      <td>893</td>\n",
       "      <td>3</td>\n",
       "      <td>1</td>\n",
       "      <td>47.0</td>\n",
       "      <td>1</td>\n",
       "      <td>0</td>\n",
       "      <td>7.0000</td>\n",
       "      <td>0</td>\n",
       "      <td>3</td>\n",
       "    </tr>\n",
       "    <tr>\n",
       "      <th>2</th>\n",
       "      <td>894</td>\n",
       "      <td>2</td>\n",
       "      <td>2</td>\n",
       "      <td>62.0</td>\n",
       "      <td>0</td>\n",
       "      <td>0</td>\n",
       "      <td>9.6875</td>\n",
       "      <td>0</td>\n",
       "      <td>2</td>\n",
       "    </tr>\n",
       "    <tr>\n",
       "      <th>3</th>\n",
       "      <td>895</td>\n",
       "      <td>3</td>\n",
       "      <td>2</td>\n",
       "      <td>27.0</td>\n",
       "      <td>0</td>\n",
       "      <td>0</td>\n",
       "      <td>8.6625</td>\n",
       "      <td>0</td>\n",
       "      <td>3</td>\n",
       "    </tr>\n",
       "    <tr>\n",
       "      <th>4</th>\n",
       "      <td>896</td>\n",
       "      <td>3</td>\n",
       "      <td>1</td>\n",
       "      <td>22.0</td>\n",
       "      <td>1</td>\n",
       "      <td>1</td>\n",
       "      <td>12.2875</td>\n",
       "      <td>0</td>\n",
       "      <td>3</td>\n",
       "    </tr>\n",
       "  </tbody>\n",
       "</table>\n",
       "</div>"
      ],
      "text/plain": [
       "   PassengerId  Pclass  Sex   Age  SibSp  Parch     Fare  Cabin  Embarked\n",
       "0          892       3    2  34.5      0      0   7.8292      0         2\n",
       "1          893       3    1  47.0      1      0   7.0000      0         3\n",
       "2          894       2    2  62.0      0      0   9.6875      0         2\n",
       "3          895       3    2  27.0      0      0   8.6625      0         3\n",
       "4          896       3    1  22.0      1      1  12.2875      0         3"
      ]
     },
     "execution_count": 32,
     "metadata": {},
     "output_type": "execute_result"
    }
   ],
   "source": [
    "test = preprocessing_data(df=test)\n",
    "test.head()"
   ]
  },
  {
   "cell_type": "code",
   "execution_count": 33,
   "id": "overhead-atlantic",
   "metadata": {
    "execution": {
     "iopub.execute_input": "2021-07-06T03:05:25.224042Z",
     "iopub.status.busy": "2021-07-06T03:05:25.223484Z",
     "iopub.status.idle": "2021-07-06T03:05:26.456724Z",
     "shell.execute_reply": "2021-07-06T03:05:26.456006Z",
     "shell.execute_reply.started": "2021-07-06T02:42:23.846834Z"
    },
    "papermill": {
     "duration": 1.282013,
     "end_time": "2021-07-06T03:05:26.456899",
     "exception": false,
     "start_time": "2021-07-06T03:05:25.174886",
     "status": "completed"
    },
    "tags": []
   },
   "outputs": [
    {
     "data": {
      "text/plain": [
       "array([0, 0, 0, 0, 0, 0, 1, 0, 1, 0, 0, 0, 1, 0, 1, 1, 0, 0, 0, 1, 0, 0,\n",
       "       1, 0, 1, 0, 1, 0, 0, 0, 0, 0, 0, 0, 0, 0, 0, 0, 0, 0, 0, 0, 0, 1,\n",
       "       1, 0, 0, 0, 1, 0, 0, 0, 1, 1, 0, 0, 0, 0, 0, 1, 0, 0, 0, 1, 0, 1,\n",
       "       1, 0, 0, 1, 1, 0, 1, 0, 1, 0, 0, 1, 0, 1, 1, 0, 0, 0, 0, 0, 1, 0,\n",
       "       1, 1, 0, 0, 1, 0, 0, 0, 1, 0, 0, 0, 1, 0, 0, 0, 1, 0, 0, 0, 0, 0,\n",
       "       0, 1, 1, 1, 1, 0, 0, 1, 0, 1, 1, 0, 1, 0, 0, 1, 0, 1, 0, 0, 0, 0,\n",
       "       0, 0, 0, 0, 0, 0, 0, 0, 0, 1, 1, 0, 0, 0, 0, 0, 0, 0, 1, 0, 0, 0,\n",
       "       0, 0, 1, 0, 0, 1, 1, 1, 1, 0, 0, 0, 0, 0, 1, 0, 0, 0, 0, 0, 0, 1,\n",
       "       1, 0, 1, 1, 0, 0, 1, 0, 1, 0, 1, 0, 0, 0, 0, 0, 0, 0, 1, 0, 1, 0,\n",
       "       0, 0, 1, 1, 0, 1, 0, 0, 1, 0, 1, 0, 0, 0, 0, 1, 0, 0, 1, 0, 1, 0,\n",
       "       1, 0, 1, 0, 1, 1, 0, 1, 0, 0, 0, 1, 0, 0, 0, 0, 0, 0, 1, 1, 1, 1,\n",
       "       0, 0, 0, 0, 1, 0, 1, 0, 1, 0, 0, 0, 0, 0, 0, 0, 1, 0, 0, 0, 1, 1,\n",
       "       0, 0, 0, 0, 0, 0, 0, 0, 1, 1, 0, 1, 0, 0, 0, 0, 0, 1, 1, 1, 1, 0,\n",
       "       0, 0, 0, 0, 0, 1, 0, 0, 0, 0, 1, 0, 0, 0, 0, 0, 0, 0, 1, 1, 0, 1,\n",
       "       0, 0, 0, 0, 0, 1, 1, 1, 1, 0, 0, 0, 0, 0, 0, 0, 1, 0, 1, 0, 0, 0,\n",
       "       1, 0, 0, 1, 0, 0, 0, 0, 0, 0, 0, 0, 0, 1, 0, 1, 0, 1, 0, 1, 1, 0,\n",
       "       0, 0, 1, 0, 1, 0, 0, 1, 0, 1, 1, 0, 1, 0, 0, 0, 1, 0, 0, 1, 0, 0,\n",
       "       1, 1, 0, 0, 0, 0, 0, 0, 0, 0, 0, 1, 0, 0, 0, 0, 0, 1, 0, 0, 0, 1,\n",
       "       0, 1, 0, 0, 1, 0, 1, 0, 0, 0, 0, 0, 1, 1, 1, 1, 1, 0, 1, 0, 0, 0])"
      ]
     },
     "execution_count": 33,
     "metadata": {},
     "output_type": "execute_result"
    }
   ],
   "source": [
    "# MOdelling\n",
    "np.random.seed(42)\n",
    "model = CatBoostClassifier(verbose=0)\n",
    "model.fit(X_train, y_train)\n",
    "\n",
    "y_preds = model.predict(test)\n",
    "y_preds"
   ]
  },
  {
   "cell_type": "code",
   "execution_count": 34,
   "id": "premium-vancouver",
   "metadata": {
    "execution": {
     "iopub.execute_input": "2021-07-06T03:05:26.602905Z",
     "iopub.status.busy": "2021-07-06T03:05:26.597719Z",
     "iopub.status.idle": "2021-07-06T03:05:26.609553Z",
     "shell.execute_reply": "2021-07-06T03:05:26.608801Z",
     "shell.execute_reply.started": "2021-07-06T02:43:38.385809Z"
    },
    "papermill": {
     "duration": 0.086146,
     "end_time": "2021-07-06T03:05:26.609701",
     "exception": false,
     "start_time": "2021-07-06T03:05:26.523555",
     "status": "completed"
    },
    "tags": []
   },
   "outputs": [
    {
     "data": {
      "text/html": [
       "<div>\n",
       "<style scoped>\n",
       "    .dataframe tbody tr th:only-of-type {\n",
       "        vertical-align: middle;\n",
       "    }\n",
       "\n",
       "    .dataframe tbody tr th {\n",
       "        vertical-align: top;\n",
       "    }\n",
       "\n",
       "    .dataframe thead th {\n",
       "        text-align: right;\n",
       "    }\n",
       "</style>\n",
       "<table border=\"1\" class=\"dataframe\">\n",
       "  <thead>\n",
       "    <tr style=\"text-align: right;\">\n",
       "      <th></th>\n",
       "      <th>PassengerId</th>\n",
       "      <th>Survived</th>\n",
       "    </tr>\n",
       "  </thead>\n",
       "  <tbody>\n",
       "    <tr>\n",
       "      <th>0</th>\n",
       "      <td>892</td>\n",
       "      <td>0</td>\n",
       "    </tr>\n",
       "    <tr>\n",
       "      <th>1</th>\n",
       "      <td>893</td>\n",
       "      <td>0</td>\n",
       "    </tr>\n",
       "    <tr>\n",
       "      <th>2</th>\n",
       "      <td>894</td>\n",
       "      <td>0</td>\n",
       "    </tr>\n",
       "    <tr>\n",
       "      <th>3</th>\n",
       "      <td>895</td>\n",
       "      <td>0</td>\n",
       "    </tr>\n",
       "    <tr>\n",
       "      <th>4</th>\n",
       "      <td>896</td>\n",
       "      <td>0</td>\n",
       "    </tr>\n",
       "  </tbody>\n",
       "</table>\n",
       "</div>"
      ],
      "text/plain": [
       "   PassengerId  Survived\n",
       "0          892         0\n",
       "1          893         0\n",
       "2          894         0\n",
       "3          895         0\n",
       "4          896         0"
      ]
     },
     "execution_count": 34,
     "metadata": {},
     "output_type": "execute_result"
    }
   ],
   "source": [
    "data = pd.DataFrame()\n",
    "data['PassengerId'] = test['PassengerId']\n",
    "data['Survived'] = y_preds\n",
    "data.head()"
   ]
  },
  {
   "cell_type": "code",
   "execution_count": 35,
   "id": "color-chuck",
   "metadata": {
    "execution": {
     "iopub.execute_input": "2021-07-06T03:05:26.750167Z",
     "iopub.status.busy": "2021-07-06T03:05:26.749472Z",
     "iopub.status.idle": "2021-07-06T03:05:26.894019Z",
     "shell.execute_reply": "2021-07-06T03:05:26.893225Z",
     "shell.execute_reply.started": "2021-07-06T02:44:12.246707Z"
    },
    "papermill": {
     "duration": 0.217138,
     "end_time": "2021-07-06T03:05:26.894144",
     "exception": false,
     "start_time": "2021-07-06T03:05:26.677006",
     "status": "completed"
    },
    "tags": []
   },
   "outputs": [],
   "source": [
    "data.to_csv('submission', index=False)"
   ]
  },
  {
   "cell_type": "code",
   "execution_count": null,
   "id": "diagnostic-intranet",
   "metadata": {
    "papermill": {
     "duration": 0.047926,
     "end_time": "2021-07-06T03:05:26.990196",
     "exception": false,
     "start_time": "2021-07-06T03:05:26.942270",
     "status": "completed"
    },
    "tags": []
   },
   "outputs": [],
   "source": []
  }
 ],
 "metadata": {
  "kernelspec": {
   "display_name": "Python 3",
   "language": "python",
   "name": "python3"
  },
  "language_info": {
   "codemirror_mode": {
    "name": "ipython",
    "version": 3
   },
   "file_extension": ".py",
   "mimetype": "text/x-python",
   "name": "python",
   "nbconvert_exporter": "python",
   "pygments_lexer": "ipython3",
   "version": "3.7.10"
  },
  "papermill": {
   "default_parameters": {},
   "duration": 425.113378,
   "end_time": "2021-07-06T03:05:28.990383",
   "environment_variables": {},
   "exception": null,
   "input_path": "__notebook__.ipynb",
   "output_path": "__notebook__.ipynb",
   "parameters": {},
   "start_time": "2021-07-06T02:58:23.877005",
   "version": "2.3.3"
  }
 },
 "nbformat": 4,
 "nbformat_minor": 5
}
