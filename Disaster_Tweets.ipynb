{
  "nbformat": 4,
  "nbformat_minor": 0,
  "metadata": {
    "colab": {
      "name": "Disaster_Tweets.ipynb",
      "provenance": [],
      "collapsed_sections": [],
      "authorship_tag": "ABX9TyMrXVVMTqBhb/lKUc8wXeJd",
      "include_colab_link": true
    },
    "kernelspec": {
      "name": "python3",
      "display_name": "Python 3"
    },
    "language_info": {
      "name": "python"
    },
    "accelerator": "GPU"
  },
  "cells": [
    {
      "cell_type": "markdown",
      "metadata": {
        "id": "view-in-github",
        "colab_type": "text"
      },
      "source": [
        "<a href=\"https://colab.research.google.com/github/Parvez13/Kaggle-Dataset/blob/master/Disaster_Tweets.ipynb\" target=\"_parent\"><img src=\"https://colab.research.google.com/assets/colab-badge.svg\" alt=\"Open In Colab\"/></a>"
      ]
    },
    {
      "cell_type": "markdown",
      "metadata": {
        "id": "Sb2SvHGqhnjI"
      },
      "source": [
        "## 1. Load Dataset"
      ]
    },
    {
      "cell_type": "code",
      "metadata": {
        "id": "Bz1SHEiphYLU"
      },
      "source": [
        "import tensorflow as tf\n",
        "import pandas as pd\n",
        "import numpy as np\n"
      ],
      "execution_count": 1,
      "outputs": []
    },
    {
      "cell_type": "code",
      "metadata": {
        "colab": {
          "base_uri": "https://localhost:8080/",
          "height": 417
        },
        "id": "AxUB2kLshkdE",
        "outputId": "10359e6f-3c72-4173-eefa-b8ca653a2557"
      },
      "source": [
        "# read dataset\n",
        "df = pd.read_csv(\"tweets.csv\")\n",
        "df"
      ],
      "execution_count": 3,
      "outputs": [
        {
          "output_type": "execute_result",
          "data": {
            "text/html": [
              "<div>\n",
              "<style scoped>\n",
              "    .dataframe tbody tr th:only-of-type {\n",
              "        vertical-align: middle;\n",
              "    }\n",
              "\n",
              "    .dataframe tbody tr th {\n",
              "        vertical-align: top;\n",
              "    }\n",
              "\n",
              "    .dataframe thead th {\n",
              "        text-align: right;\n",
              "    }\n",
              "</style>\n",
              "<table border=\"1\" class=\"dataframe\">\n",
              "  <thead>\n",
              "    <tr style=\"text-align: right;\">\n",
              "      <th></th>\n",
              "      <th>id</th>\n",
              "      <th>keyword</th>\n",
              "      <th>location</th>\n",
              "      <th>text</th>\n",
              "      <th>target</th>\n",
              "    </tr>\n",
              "  </thead>\n",
              "  <tbody>\n",
              "    <tr>\n",
              "      <th>0</th>\n",
              "      <td>0</td>\n",
              "      <td>ablaze</td>\n",
              "      <td>NaN</td>\n",
              "      <td>Communal violence in Bhainsa, Telangana. \"Ston...</td>\n",
              "      <td>1</td>\n",
              "    </tr>\n",
              "    <tr>\n",
              "      <th>1</th>\n",
              "      <td>1</td>\n",
              "      <td>ablaze</td>\n",
              "      <td>NaN</td>\n",
              "      <td>Telangana: Section 144 has been imposed in Bha...</td>\n",
              "      <td>1</td>\n",
              "    </tr>\n",
              "    <tr>\n",
              "      <th>2</th>\n",
              "      <td>2</td>\n",
              "      <td>ablaze</td>\n",
              "      <td>New York City</td>\n",
              "      <td>Arsonist sets cars ablaze at dealership https:...</td>\n",
              "      <td>1</td>\n",
              "    </tr>\n",
              "    <tr>\n",
              "      <th>3</th>\n",
              "      <td>3</td>\n",
              "      <td>ablaze</td>\n",
              "      <td>Morgantown, WV</td>\n",
              "      <td>Arsonist sets cars ablaze at dealership https:...</td>\n",
              "      <td>1</td>\n",
              "    </tr>\n",
              "    <tr>\n",
              "      <th>4</th>\n",
              "      <td>4</td>\n",
              "      <td>ablaze</td>\n",
              "      <td>NaN</td>\n",
              "      <td>\"Lord Jesus, your love brings freedom and pard...</td>\n",
              "      <td>0</td>\n",
              "    </tr>\n",
              "    <tr>\n",
              "      <th>...</th>\n",
              "      <td>...</td>\n",
              "      <td>...</td>\n",
              "      <td>...</td>\n",
              "      <td>...</td>\n",
              "      <td>...</td>\n",
              "    </tr>\n",
              "    <tr>\n",
              "      <th>11365</th>\n",
              "      <td>11365</td>\n",
              "      <td>wrecked</td>\n",
              "      <td>Blue State in a red sea</td>\n",
              "      <td>Media should have warned us well in advance. T...</td>\n",
              "      <td>0</td>\n",
              "    </tr>\n",
              "    <tr>\n",
              "      <th>11366</th>\n",
              "      <td>11366</td>\n",
              "      <td>wrecked</td>\n",
              "      <td>arohaonces</td>\n",
              "      <td>i feel directly attacked 💀 i consider moonbin ...</td>\n",
              "      <td>0</td>\n",
              "    </tr>\n",
              "    <tr>\n",
              "      <th>11367</th>\n",
              "      <td>11367</td>\n",
              "      <td>wrecked</td>\n",
              "      <td>🇵🇭</td>\n",
              "      <td>i feel directly attacked 💀 i consider moonbin ...</td>\n",
              "      <td>0</td>\n",
              "    </tr>\n",
              "    <tr>\n",
              "      <th>11368</th>\n",
              "      <td>11368</td>\n",
              "      <td>wrecked</td>\n",
              "      <td>auroraborealis</td>\n",
              "      <td>ok who remember \"outcast\" nd the \"dora\" au?? T...</td>\n",
              "      <td>0</td>\n",
              "    </tr>\n",
              "    <tr>\n",
              "      <th>11369</th>\n",
              "      <td>11369</td>\n",
              "      <td>wrecked</td>\n",
              "      <td>NaN</td>\n",
              "      <td>Jake Corway wrecked while running 14th at IRP.</td>\n",
              "      <td>1</td>\n",
              "    </tr>\n",
              "  </tbody>\n",
              "</table>\n",
              "<p>11370 rows × 5 columns</p>\n",
              "</div>"
            ],
            "text/plain": [
              "          id  ... target\n",
              "0          0  ...      1\n",
              "1          1  ...      1\n",
              "2          2  ...      1\n",
              "3          3  ...      1\n",
              "4          4  ...      0\n",
              "...      ...  ...    ...\n",
              "11365  11365  ...      0\n",
              "11366  11366  ...      0\n",
              "11367  11367  ...      0\n",
              "11368  11368  ...      0\n",
              "11369  11369  ...      1\n",
              "\n",
              "[11370 rows x 5 columns]"
            ]
          },
          "metadata": {
            "tags": []
          },
          "execution_count": 3
        }
      ]
    },
    {
      "cell_type": "code",
      "metadata": {
        "colab": {
          "base_uri": "https://localhost:8080/",
          "height": 417
        },
        "id": "urmsHNlLhyQ-",
        "outputId": "407f68d7-3145-4d40-8308-9003dcc4a055"
      },
      "source": [
        "# Shuffle the datast\n",
        "df_shuffle = df.sample(frac=1, random_state=42)\n",
        "df_shuffle"
      ],
      "execution_count": 4,
      "outputs": [
        {
          "output_type": "execute_result",
          "data": {
            "text/html": [
              "<div>\n",
              "<style scoped>\n",
              "    .dataframe tbody tr th:only-of-type {\n",
              "        vertical-align: middle;\n",
              "    }\n",
              "\n",
              "    .dataframe tbody tr th {\n",
              "        vertical-align: top;\n",
              "    }\n",
              "\n",
              "    .dataframe thead th {\n",
              "        text-align: right;\n",
              "    }\n",
              "</style>\n",
              "<table border=\"1\" class=\"dataframe\">\n",
              "  <thead>\n",
              "    <tr style=\"text-align: right;\">\n",
              "      <th></th>\n",
              "      <th>id</th>\n",
              "      <th>keyword</th>\n",
              "      <th>location</th>\n",
              "      <th>text</th>\n",
              "      <th>target</th>\n",
              "    </tr>\n",
              "  </thead>\n",
              "  <tbody>\n",
              "    <tr>\n",
              "      <th>3495</th>\n",
              "      <td>3495</td>\n",
              "      <td>demolished</td>\n",
              "      <td>Observation drone</td>\n",
              "      <td>How many illegal buildings should be demolishe...</td>\n",
              "      <td>0</td>\n",
              "    </tr>\n",
              "    <tr>\n",
              "      <th>5461</th>\n",
              "      <td>5461</td>\n",
              "      <td>fatality</td>\n",
              "      <td>NaN</td>\n",
              "      <td>Who’s fatality is this tho ????</td>\n",
              "      <td>0</td>\n",
              "    </tr>\n",
              "    <tr>\n",
              "      <th>9794</th>\n",
              "      <td>9794</td>\n",
              "      <td>sunk</td>\n",
              "      <td>London</td>\n",
              "      <td>#OnThisDay 2018 Chinese state media confirmed ...</td>\n",
              "      <td>1</td>\n",
              "    </tr>\n",
              "    <tr>\n",
              "      <th>11105</th>\n",
              "      <td>11105</td>\n",
              "      <td>windstorm</td>\n",
              "      <td>London, UK</td>\n",
              "      <td>With any luck you will miss the windstorm on e...</td>\n",
              "      <td>0</td>\n",
              "    </tr>\n",
              "    <tr>\n",
              "      <th>1803</th>\n",
              "      <td>1803</td>\n",
              "      <td>buildings%20on%20fire</td>\n",
              "      <td>NaN</td>\n",
              "      <td>Inferno on Black Friday 1939: 71 deaths, 3,700...</td>\n",
              "      <td>1</td>\n",
              "    </tr>\n",
              "    <tr>\n",
              "      <th>...</th>\n",
              "      <td>...</td>\n",
              "      <td>...</td>\n",
              "      <td>...</td>\n",
              "      <td>...</td>\n",
              "      <td>...</td>\n",
              "    </tr>\n",
              "    <tr>\n",
              "      <th>11284</th>\n",
              "      <td>11284</td>\n",
              "      <td>wreck</td>\n",
              "      <td>NaN</td>\n",
              "      <td>After causing the wreck, they're like..... htt...</td>\n",
              "      <td>0</td>\n",
              "    </tr>\n",
              "    <tr>\n",
              "      <th>5191</th>\n",
              "      <td>5191</td>\n",
              "      <td>explosion</td>\n",
              "      <td>Lagos, Nigeria</td>\n",
              "      <td>Let’s get the Starboy to 15k subscribers Befor...</td>\n",
              "      <td>0</td>\n",
              "    </tr>\n",
              "    <tr>\n",
              "      <th>5390</th>\n",
              "      <td>5390</td>\n",
              "      <td>fatalities</td>\n",
              "      <td>SE NC</td>\n",
              "      <td>Been a long day of storm surveys and one of ou...</td>\n",
              "      <td>0</td>\n",
              "    </tr>\n",
              "    <tr>\n",
              "      <th>860</th>\n",
              "      <td>860</td>\n",
              "      <td>blaze</td>\n",
              "      <td>Kampala, Uganda</td>\n",
              "      <td>As we work on the next one, this was what lead...</td>\n",
              "      <td>0</td>\n",
              "    </tr>\n",
              "    <tr>\n",
              "      <th>7270</th>\n",
              "      <td>7270</td>\n",
              "      <td>mass%20murder</td>\n",
              "      <td>Edinburgh</td>\n",
              "      <td>I'm not supporting the colony narrative but it...</td>\n",
              "      <td>0</td>\n",
              "    </tr>\n",
              "  </tbody>\n",
              "</table>\n",
              "<p>11370 rows × 5 columns</p>\n",
              "</div>"
            ],
            "text/plain": [
              "          id  ... target\n",
              "3495    3495  ...      0\n",
              "5461    5461  ...      0\n",
              "9794    9794  ...      1\n",
              "11105  11105  ...      0\n",
              "1803    1803  ...      1\n",
              "...      ...  ...    ...\n",
              "11284  11284  ...      0\n",
              "5191    5191  ...      0\n",
              "5390    5390  ...      0\n",
              "860      860  ...      0\n",
              "7270    7270  ...      0\n",
              "\n",
              "[11370 rows x 5 columns]"
            ]
          },
          "metadata": {
            "tags": []
          },
          "execution_count": 4
        }
      ]
    },
    {
      "cell_type": "code",
      "metadata": {
        "colab": {
          "base_uri": "https://localhost:8080/",
          "height": 330
        },
        "id": "_QJtBRTFiGaz",
        "outputId": "96d89f39-acc7-4ab0-8456-c1ed5d439eec"
      },
      "source": [
        "# Check whether  our dataset is balanced or imbalanced\n",
        "print(df_shuffle['target'].value_counts())\n",
        "\n",
        "import seaborn as sns\n",
        "sns.countplot(x='target', data=df_shuffle);"
      ],
      "execution_count": 5,
      "outputs": [
        {
          "output_type": "stream",
          "text": [
            "0    9256\n",
            "1    2114\n",
            "Name: target, dtype: int64\n"
          ],
          "name": "stdout"
        },
        {
          "output_type": "display_data",
          "data": {
            "image/png": "[encoded data removed]",
            "text/plain": [
              "<Figure size 432x288 with 1 Axes>"
            ]
          },
          "metadata": {
            "tags": [],
            "needs_background": "light"
          }
        }
      ]
    },
    {
      "cell_type": "markdown",
      "metadata": {
        "id": "o9G7nhBVikgs"
      },
      "source": [
        "**Our Dataset is Imabalanced**"
      ]
    },
    {
      "cell_type": "code",
      "metadata": {
        "id": "osU3NU5qiTqE",
        "colab": {
          "base_uri": "https://localhost:8080/"
        },
        "outputId": "cd958aa5-5b18-46cd-8d30-595816d023ad"
      },
      "source": [
        "# Import libraries, which are used to balance our dataset\n",
        "from collections import Counter\n",
        "from imblearn.over_sampling import RandomOverSampler\n",
        "\n",
        "# # Features and Labels\n",
        "features= df_shuffle.drop(['id', 'keyword', 'location', 'target'], axis=1)\n",
        "labels = df_shuffle['target']\n",
        "\n",
        "# Count the Number Labels \n",
        "print(\"----Imbalanced Dataset----\")\n",
        "print(Counter(labels))\n",
        "\n",
        "# Define the oversampling\n",
        "over_sampling = RandomOverSampler(sampling_strategy='minority')\n",
        "\n",
        "# Fit the over_sampling to features and labels\n",
        "features, labels = over_sampling.fit_resample(features, labels)\n",
        "\n",
        "# Count the Number of labels\n",
        "print(\"---Balanced Dataset------\")\n",
        "print(Counter(labels))"
      ],
      "execution_count": 9,
      "outputs": [
        {
          "output_type": "stream",
          "text": [
            "----Imbalanced Dataset----\n",
            "Counter({0: 9256, 1: 2114})\n",
            "---Balanced Dataset------\n",
            "Counter({0: 9256, 1: 9256})\n"
          ],
          "name": "stdout"
        },
        {
          "output_type": "stream",
          "text": [
            "/usr/local/lib/python3.7/dist-packages/sklearn/utils/deprecation.py:87: FutureWarning: Function safe_indexing is deprecated; safe_indexing is deprecated in version 0.22 and will be removed in version 0.24.\n",
            "  warnings.warn(msg, category=FutureWarning)\n"
          ],
          "name": "stderr"
        }
      ]
    },
    {
      "cell_type": "markdown",
      "metadata": {
        "id": "Vb15s030mO1T"
      },
      "source": [
        "## Split the Dataset into Training And Validation"
      ]
    },
    {
      "cell_type": "code",
      "metadata": {
        "colab": {
          "base_uri": "https://localhost:8080/"
        },
        "id": "Nv7e7aO3jBXG",
        "outputId": "37d43136-4467-42d2-8da0-161ef98e06bc"
      },
      "source": [
        "# import train_test_split library\n",
        "from sklearn.model_selection import train_test_split\n",
        "\n",
        "# Initialize \n",
        "train_sentences,val_sentences, train_labels, val_labels = train_test_split(df_shuffle['text'].to_numpy(),\n",
        "                                                                           df_shuffle['target'].to_numpy(),\n",
        "                                                                           test_size=0.2,\n",
        "                                                                           random_state=42)\n",
        "\n",
        "# Checking the lengths \n",
        "len(train_sentences), len(val_sentences), len(train_labels), len(val_labels)"
      ],
      "execution_count": 12,
      "outputs": [
        {
          "output_type": "execute_result",
          "data": {
            "text/plain": [
              "(9096, 2274, 9096, 2274)"
            ]
          },
          "metadata": {
            "tags": []
          },
          "execution_count": 12
        }
      ]
    },
    {
      "cell_type": "code",
      "metadata": {
        "colab": {
          "base_uri": "https://localhost:8080/"
        },
        "id": "y2XASQhunIkq",
        "outputId": "2c3b3bf4-3e04-43a1-c62d-120844c93ce2"
      },
      "source": [
        "train_sentences[:10], train_labels[:10]"
      ],
      "execution_count": 13,
      "outputs": [
        {
          "output_type": "execute_result",
          "data": {
            "text/plain": [
              "(array(['This is exactly why women loathe being reviewed. What a way to really break down a womans body &amp; highlight our insecuritie…',\n",
              "        'Fanyus waiting for the next #YuzuruHanyu sighting in this long, endless drought',\n",
              "        \"Prime Minister 's statement on the death of His Majesty Sultan Qaboos bin Said al Said, Sultan of Oman. h…\",\n",
              "        'Emergency meeting for her millionaire grandson. How regal. Hee-haw concern about the millions of families drowning under aus…',\n",
              "        'Honouring the sacrifices of the protectors of our motherland, Modi govt has increased monetary assistance to Next of K…',\n",
              "        'How to recognize real bmc approved parking contractor from.fake ones who collect money for parking on unobstructed roads…',\n",
              "        'i honestly wish i was hot enough to be randomly given a writing fellowship/stipend while living in a penthouse in N… https://t.co/nctSN05trV',\n",
              "        'Thier is an apparent derailment at #Hitchin this morning but or do not seem to know anything ab… https://t.co/Nf78TPO38d',\n",
              "        ', gets the last laugh! Your boy and are about to fuck Ame… https://t.co/9lsqRNT8wR',\n",
              "        'IM DEVASTATED https://t.co/ynVGOzdjuS'], dtype=object),\n",
              " array([0, 0, 0, 0, 0, 0, 0, 1, 0, 0]))"
            ]
          },
          "metadata": {
            "tags": []
          },
          "execution_count": 13
        }
      ]
    },
    {
      "cell_type": "code",
      "metadata": {
        "colab": {
          "base_uri": "https://localhost:8080/"
        },
        "id": "XUjO0Bsvn_MP",
        "outputId": "babcc059-e7b5-493c-b3f7-1fb37f5d40f9"
      },
      "source": [
        "# Average no of tokens\n",
        "round(sum([len(i.split()) for i in train_sentences])/len(train_sentences))"
      ],
      "execution_count": 14,
      "outputs": [
        {
          "output_type": "execute_result",
          "data": {
            "text/plain": [
              "17"
            ]
          },
          "metadata": {
            "tags": []
          },
          "execution_count": 14
        }
      ]
    },
    {
      "cell_type": "markdown",
      "metadata": {
        "id": "9_xHZC3dnsfk"
      },
      "source": [
        "### Convert Text Into Numbers\n",
        "\n",
        "* Create `TextVectorization` layer\n",
        "* Create `Embedding` layer"
      ]
    },
    {
      "cell_type": "code",
      "metadata": {
        "id": "hIauYSYYnp7k"
      },
      "source": [
        "# Import TextVectorization\n",
        "from tensorflow.keras.layers.experimental.preprocessing import TextVectorization\n",
        "\n",
        "max_tokens = 10000\n",
        "max_length = 17\n",
        "\n",
        "# Initialize it\n",
        "text_vectorization = TextVectorization(max_tokens=max_tokens,\n",
        "                                       output_mode='int',\n",
        "                                       output_sequence_length=max_length)"
      ],
      "execution_count": 15,
      "outputs": []
    },
    {
      "cell_type": "code",
      "metadata": {
        "colab": {
          "base_uri": "https://localhost:8080/"
        },
        "id": "fAQBsEJ3onMN",
        "outputId": "46a7934a-a53a-49e6-ffdb-4cd48e37d4b2"
      },
      "source": [
        "# Adapt `train_sentences` to text_vectorization\n",
        "%%time\n",
        "text_vectorization.adapt(train_sentences)"
      ],
      "execution_count": 16,
      "outputs": [
        {
          "output_type": "stream",
          "text": [
            "CPU times: user 2.39 s, sys: 14.4 ms, total: 2.41 s\n",
            "Wall time: 2.65 s\n"
          ],
          "name": "stdout"
        }
      ]
    },
    {
      "cell_type": "code",
      "metadata": {
        "colab": {
          "base_uri": "https://localhost:8080/"
        },
        "id": "PN026RDpo065",
        "outputId": "b939fa57-2a6a-40ed-e9a7-56a0b729c92f"
      },
      "source": [
        "# Check the sample sentences\n",
        "sample_sentences = \"Love Me Like You Do! La La Love Me Like You Do. Touch Me Like Do!! More\"\n",
        "text_vectorization([sample_sentences])"
      ],
      "execution_count": 17,
      "outputs": [
        {
          "output_type": "execute_result",
          "data": {
            "text/plain": [
              "<tf.Tensor: shape=(1, 17), dtype=int64, numpy=\n",
              "array([[ 147,   39,   38,   12,   63, 3290, 3290,  147,   39,   38,   12,\n",
              "          63, 1456,   39,   38,   63,   62]])>"
            ]
          },
          "metadata": {
            "tags": []
          },
          "execution_count": 17
        }
      ]
    },
    {
      "cell_type": "code",
      "metadata": {
        "colab": {
          "base_uri": "https://localhost:8080/"
        },
        "id": "-L-fHwcmqCFa",
        "outputId": "d1fe933d-c0c6-4e70-e1de-8f92c28f7093"
      },
      "source": [
        "# Check\n",
        "import random\n",
        "random_sentences = random.choice(train_sentences)\n",
        "print(f\"Original Sentences: \\n{random_sentences}\\n\"\n",
        "      \"\\nText vectorizer: \")\n",
        "text_vectorization([random_sentences])"
      ],
      "execution_count": 18,
      "outputs": [
        {
          "output_type": "stream",
          "text": [
            "Original Sentences: \n",
            "Changes to our lives and our bodies as we get old can mean drinking increases or could cause harm without having made any ch…\n",
            "\n",
            "Text vectorizer: \n"
          ],
          "name": "stdout"
        },
        {
          "output_type": "execute_result",
          "data": {
            "text/plain": [
              "<tf.Tensor: shape=(1, 17), dtype=int64, numpy=\n",
              "array([[3482,    3,   56,  906,    7,   56, 1641,   27,   25,   66,  263,\n",
              "          48,  406, 2905, 4056,   58,  128]])>"
            ]
          },
          "metadata": {
            "tags": []
          },
          "execution_count": 18
        }
      ]
    },
    {
      "cell_type": "code",
      "metadata": {
        "colab": {
          "base_uri": "https://localhost:8080/"
        },
        "id": "fincJ23mpiVY",
        "outputId": "7369162a-f156-47c7-8b8c-7f2e2992d6b4"
      },
      "source": [
        "# Import Embeddings\n",
        "from tensorflow.keras import layers\n",
        "\n",
        "embeddings = layers.Embedding(input_dim=max_tokens,\n",
        "                              output_dim=128,\n",
        "                              embeddings_initializer='uniform',\n",
        "                              input_length=max_length)\n",
        "embeddings"
      ],
      "execution_count": 19,
      "outputs": [
        {
          "output_type": "execute_result",
          "data": {
            "text/plain": [
              "<tensorflow.python.keras.layers.embeddings.Embedding at 0x7f3600062810>"
            ]
          },
          "metadata": {
            "tags": []
          },
          "execution_count": 19
        }
      ]
    },
    {
      "cell_type": "code",
      "metadata": {
        "colab": {
          "base_uri": "https://localhost:8080/"
        },
        "id": "9q5JU1r0rUhI",
        "outputId": "b627c8cf-fe08-453d-c457-d4334bb99151"
      },
      "source": [
        "# Check\n",
        "random_sentences = random.choice(train_sentences)\n",
        "print(f\"Original sentences: \\n{random_sentences}\\n\"\n",
        "     \"\\nEmbedding: \")\n",
        "embeddings(text_vectorization([random_sentences]))"
      ],
      "execution_count": 20,
      "outputs": [
        {
          "output_type": "stream",
          "text": [
            "Original sentences: \n",
            "Is it bad that I’ve watched it a dozen times &amp; I can’t definitively say if that’s a boy or girl? But al… https://t.co/vRdWnHju55\n",
            "\n",
            "Embedding: \n"
          ],
          "name": "stdout"
        },
        {
          "output_type": "execute_result",
          "data": {
            "text/plain": [
              "<tf.Tensor: shape=(1, 17, 128), dtype=float32, numpy=\n",
              "array([[[-0.00930713,  0.04316373,  0.02514463, ..., -0.04604704,\n",
              "         -0.03619727,  0.03993678],\n",
              "        [-0.00976915,  0.021355  ,  0.0339242 , ...,  0.04133016,\n",
              "          0.03339913, -0.02191767],\n",
              "        [ 0.02743581,  0.03776253,  0.03043314, ..., -0.04923495,\n",
              "          0.03596358, -0.01385107],\n",
              "        ...,\n",
              "        [ 0.00169299, -0.0240082 ,  0.00714636, ..., -0.00028876,\n",
              "          0.04796017, -0.0115922 ],\n",
              "        [-0.02238435, -0.03040955,  0.01522825, ..., -0.00421857,\n",
              "          0.04259619, -0.04743748],\n",
              "        [ 0.04982703, -0.03452644, -0.01007296, ..., -0.04516785,\n",
              "         -0.00494   , -0.02552888]]], dtype=float32)>"
            ]
          },
          "metadata": {
            "tags": []
          },
          "execution_count": 20
        }
      ]
    },
    {
      "cell_type": "code",
      "metadata": {
        "colab": {
          "base_uri": "https://localhost:8080/"
        },
        "id": "24iENgzFkKWs",
        "outputId": "de01f1e3-801a-42c2-ba8a-9b88767abbbd"
      },
      "source": [
        "# Set helper functions\n",
        "!wget https://raw.githubusercontent.com/mrdbourke/tensorflow-deep-learning/main/extras/helper_functions.py\n",
        "\n",
        "# Import series of helper functions for the notebook\n",
        "from helper_functions import create_tensorboard_callback, plot_loss_curves,  compare_historys"
      ],
      "execution_count": 21,
      "outputs": [
        {
          "output_type": "stream",
          "text": [
            "--2021-08-12 04:13:52--  https://raw.githubusercontent.com/mrdbourke/tensorflow-deep-learning/main/extras/helper_functions.py\n",
            "Resolving raw.githubusercontent.com (raw.githubusercontent.com)... 185.199.108.133, 185.199.109.133, 185.199.110.133, ...\n",
            "Connecting to raw.githubusercontent.com (raw.githubusercontent.com)|185.199.108.133|:443... connected.\n",
            "HTTP request sent, awaiting response... 200 OK\n",
            "Length: 10246 (10K) [text/plain]\n",
            "Saving to: ‘helper_functions.py’\n",
            "\n",
            "helper_functions.py 100%[===================>]  10.01K  --.-KB/s    in 0s      \n",
            "\n",
            "2021-08-12 04:13:52 (69.3 MB/s) - ‘helper_functions.py’ saved [10246/10246]\n",
            "\n"
          ],
          "name": "stdout"
        }
      ]
    },
    {
      "cell_type": "code",
      "metadata": {
        "colab": {
          "base_uri": "https://localhost:8080/"
        },
        "id": "BlSJWCN9leN9",
        "outputId": "e5ab0298-3d23-4b1b-a377-7c285a6be429"
      },
      "source": [
        "words_in_vocab = text_vectorization.get_vocabulary()\n",
        "len(words_in_vocab)"
      ],
      "execution_count": 28,
      "outputs": [
        {
          "output_type": "execute_result",
          "data": {
            "text/plain": [
              "10000"
            ]
          },
          "metadata": {
            "tags": []
          },
          "execution_count": 28
        }
      ]
    },
    {
      "cell_type": "markdown",
      "metadata": {
        "id": "UzqYd9qJiWW1"
      },
      "source": [
        "## Build Model"
      ]
    },
    {
      "cell_type": "code",
      "metadata": {
        "id": "wFQ32t48rnOv",
        "colab": {
          "base_uri": "https://localhost:8080/"
        },
        "outputId": "2072df25-33f9-462e-f2a7-60c96b5f830c"
      },
      "source": [
        "# baseline model with LSTM\n",
        "from tensorflow.keras import layers\n",
        "\n",
        "# Pass the input shape\n",
        "inputs = layers.Input(shape=(1,), dtype='string', name='input_layer')\n",
        "\n",
        "# Convert our text into numbers\n",
        "x = text_vectorization(inputs) \n",
        "\n",
        "# Vectorize the numbers\n",
        "x = embeddings(x)\n",
        "\n",
        "# Pass the ouputs\n",
        "outputs = layers.Dense(1, activation='sigmoid', name='output_layer')(x)\n",
        "\n",
        "# Build model\n",
        "model_1 = tf.keras.Model(inputs,outputs, name=\"model_1\")\n",
        "\n",
        "# Compile the model\n",
        "model_1.compile(loss='binary_crossentropy',\n",
        "                optimizer='adam',\n",
        "                metrics=['accuracy'])\n",
        "\n",
        "# Fit the model\n",
        "history_1 = model_1.fit(train_sentences,\n",
        "                        train_labels,\n",
        "                        epochs=5,\n",
        "                        validation_data=(val_sentences, val_labels),\n",
        "                        callbacks=[create_tensorboard_callback(dir_name=\"Logs\",\n",
        "                                                               experiment_name=\"model_1\")])"
      ],
      "execution_count": 26,
      "outputs": [
        {
          "output_type": "stream",
          "text": [
            "Saving TensorBoard log files to: Logs/model_1/20210812-041705\n",
            "Epoch 1/5\n",
            "285/285 [==============================] - 8s 16ms/step - loss: 0.5039 - accuracy: 0.8110 - val_loss: 0.4596 - val_accuracy: 0.8160\n",
            "Epoch 2/5\n",
            "285/285 [==============================] - 4s 13ms/step - loss: 0.4252 - accuracy: 0.8357 - val_loss: 0.4522 - val_accuracy: 0.8167\n",
            "Epoch 3/5\n",
            "285/285 [==============================] - 4s 13ms/step - loss: 0.4094 - accuracy: 0.8364 - val_loss: 0.4549 - val_accuracy: 0.8165\n",
            "Epoch 4/5\n",
            "285/285 [==============================] - 4s 13ms/step - loss: 0.4036 - accuracy: 0.8364 - val_loss: 0.4554 - val_accuracy: 0.8158\n",
            "Epoch 5/5\n",
            "285/285 [==============================] - 4s 13ms/step - loss: 0.4005 - accuracy: 0.8362 - val_loss: 0.4586 - val_accuracy: 0.8151\n"
          ],
          "name": "stdout"
        }
      ]
    },
    {
      "cell_type": "code",
      "metadata": {
        "colab": {
          "base_uri": "https://localhost:8080/"
        },
        "id": "tQM0wxp7kcTU",
        "outputId": "f7d3baa4-ba12-4dcc-fa79-2941d9ac2392"
      },
      "source": [
        "# Evaluate our model\n",
        "model_1.evaluate(val_sentences, val_labels)"
      ],
      "execution_count": 29,
      "outputs": [
        {
          "output_type": "stream",
          "text": [
            "72/72 [==============================] - 0s 3ms/step - loss: 0.4586 - accuracy: 0.8151\n"
          ],
          "name": "stdout"
        },
        {
          "output_type": "execute_result",
          "data": {
            "text/plain": [
              "[0.45857831835746765, 0.8150965571403503]"
            ]
          },
          "metadata": {
            "tags": []
          },
          "execution_count": 29
        }
      ]
    },
    {
      "cell_type": "code",
      "metadata": {
        "colab": {
          "base_uri": "https://localhost:8080/"
        },
        "id": "YY13M0h_l_fh",
        "outputId": "0aaa6994-e9d5-4fea-8bdb-8f97c765ef52"
      },
      "source": [
        "# Make prediction_probabilities\n",
        "model_1_pred_probs = model_1.predict(val_sentences)\n",
        "model_1_pred_probs[:2]"
      ],
      "execution_count": 33,
      "outputs": [
        {
          "output_type": "execute_result",
          "data": {
            "text/plain": [
              "array([[[0.09094307],\n",
              "        [0.0929566 ],\n",
              "        [0.6877231 ],\n",
              "        [0.42307425],\n",
              "        [0.19891286],\n",
              "        [0.05133724],\n",
              "        [0.5834994 ],\n",
              "        [0.45467997],\n",
              "        [0.45723245],\n",
              "        [0.09173094],\n",
              "        [0.03764794],\n",
              "        [0.13912293],\n",
              "        [0.30294177],\n",
              "        [0.2878128 ],\n",
              "        [0.25300258],\n",
              "        [0.18567787],\n",
              "        [0.12508266]],\n",
              "\n",
              "       [[0.18567787],\n",
              "        [0.18567787],\n",
              "        [0.05383417],\n",
              "        [0.14066565],\n",
              "        [0.24047661],\n",
              "        [0.09173094],\n",
              "        [0.33943796],\n",
              "        [0.2778852 ],\n",
              "        [0.04275393],\n",
              "        [0.13126908],\n",
              "        [0.03666497],\n",
              "        [0.18567787],\n",
              "        [0.0439235 ],\n",
              "        [0.13912293],\n",
              "        [0.18567787],\n",
              "        [0.05383417],\n",
              "        [0.14279887]]], dtype=float32)"
            ]
          },
          "metadata": {
            "tags": []
          },
          "execution_count": 33
        }
      ]
    },
    {
      "cell_type": "code",
      "metadata": {
        "colab": {
          "base_uri": "https://localhost:8080/"
        },
        "id": "SvbbTg-rmHug",
        "outputId": "a5b67ff8-5f19-4f3d-bcdc-da81fc8dd26e"
      },
      "source": [
        "# Make Predictions\n",
        "model_1_preds = tf.squeeze(tf.round(model_1_pred_probs))\n",
        "model_1_preds"
      ],
      "execution_count": 34,
      "outputs": [
        {
          "output_type": "execute_result",
          "data": {
            "text/plain": [
              "<tf.Tensor: shape=(2274, 17), dtype=float32, numpy=\n",
              "array([[0., 0., 1., ..., 0., 0., 0.],\n",
              "       [0., 0., 0., ..., 0., 0., 0.],\n",
              "       [0., 0., 0., ..., 0., 0., 0.],\n",
              "       ...,\n",
              "       [1., 0., 0., ..., 0., 0., 0.],\n",
              "       [0., 1., 0., ..., 0., 0., 0.],\n",
              "       [0., 0., 0., ..., 0., 0., 0.]], dtype=float32)>"
            ]
          },
          "metadata": {
            "tags": []
          },
          "execution_count": 34
        }
      ]
    },
    {
      "cell_type": "code",
      "metadata": {
        "colab": {
          "base_uri": "https://localhost:8080/"
        },
        "id": "c9gKqGOMmb0P",
        "outputId": "a7c96e3a-705a-4731-dcb7-0c104c405f53"
      },
      "source": [
        "# Get the embed weights\n",
        "embed_weights = model_1.get_layer('embedding').get_weights()[0]\n",
        "print(embed_weights.shape)"
      ],
      "execution_count": 42,
      "outputs": [
        {
          "output_type": "stream",
          "text": [
            "(10000, 128)\n"
          ],
          "name": "stdout"
        }
      ]
    },
    {
      "cell_type": "code",
      "metadata": {
        "id": "8TDgc0lemprx"
      },
      "source": [
        "# # Create embeddings files\n",
        "# import io\n",
        "\n",
        "# out_v = io.open(\"vectors.tsv\", \"w\", encoding=\"utf-8\")\n",
        "# out_m = io.open(\"metadata.tsv\", \"w\", encoding=\"utf-8\")\n",
        "\n",
        "# for word, index in enumerate(words_in_vocab):\n",
        "#   if index == 0:\n",
        "#     continue  # skip 0, it's padding.\n",
        "#   vec = embed_weights[index]\n",
        "#   out_v.write('\\t'.join([str(x) for x in vec]) + \"\\n\")\n",
        "#   out_m.write(word + \"\\n\")\n",
        "# out_v.close()\n",
        "# out_m.close()\n"
      ],
      "execution_count": 46,
      "outputs": []
    },
    {
      "cell_type": "code",
      "metadata": {
        "id": "snC0J7ALntu5"
      },
      "source": [
        "# Calculate results using evaluation metrics\n",
        "# from sklearn.metrics import accuracy_score, precision_recall_fscore_support\n",
        "\n",
        "# def calculate_results(y_true, y_pred):\n",
        "#   \"\"\"\n",
        "\n",
        "#   Calculates model accuracy, precision, recall and f1 score of a binary classification model.\n",
        "#   \"\"\"\n",
        "\n",
        "#   # Calculate model accuracy\n",
        "#   model_accuracy = accuracy_score(y_true, y_pred) * 100\n",
        "#   # Calculate model precision, recall and f1-score using 'weighted' average\n",
        "#   model_precision, model_recall, model_f1, _ = precision_recall_fscore_support(y_true, y_pred, average='weighted')\n",
        "#   model_results = {\"accuracy\" : model_accuracy,\n",
        "#                    \"precison\" : model_precision,\n",
        "#                    \"recall\"  : model_recall,\n",
        "#                    \"f1\" : model_f1}\n",
        "#   return model_results"
      ],
      "execution_count": 51,
      "outputs": []
    },
    {
      "cell_type": "code",
      "metadata": {
        "colab": {
          "base_uri": "https://localhost:8080/",
          "height": 303
        },
        "id": "8is9EY4Jo7pD",
        "outputId": "eab12a5b-106a-4745-9d6f-e8bcd3c7a53c"
      },
      "source": [
        "# calculate_results(val_labels, model_1_preds)"
      ],
      "execution_count": 53,
      "outputs": [
        {
          "output_type": "error",
          "ename": "ValueError",
          "evalue": "ignored",
          "traceback": [
            "\u001b[0;31m---------------------------------------------------------------------------\u001b[0m",
            "\u001b[0;31mValueError\u001b[0m                                Traceback (most recent call last)",
            "\u001b[0;32m<ipython-input-53-cf06dd23dec1>\u001b[0m in \u001b[0;36m<module>\u001b[0;34m()\u001b[0m\n\u001b[0;32m----> 1\u001b[0;31m \u001b[0mcalculate_results\u001b[0m\u001b[0;34m(\u001b[0m\u001b[0mval_labels\u001b[0m\u001b[0;34m,\u001b[0m \u001b[0mmodel_1_preds\u001b[0m\u001b[0;34m)\u001b[0m\u001b[0;34m\u001b[0m\u001b[0;34m\u001b[0m\u001b[0m\n\u001b[0m",
            "\u001b[0;32m<ipython-input-51-7682b86a3075>\u001b[0m in \u001b[0;36mcalculate_results\u001b[0;34m(y_true, y_pred)\u001b[0m\n\u001b[1;32m      9\u001b[0m \u001b[0;34m\u001b[0m\u001b[0m\n\u001b[1;32m     10\u001b[0m   \u001b[0;31m# Calculate model accuracy\u001b[0m\u001b[0;34m\u001b[0m\u001b[0;34m\u001b[0m\u001b[0;34m\u001b[0m\u001b[0m\n\u001b[0;32m---> 11\u001b[0;31m   \u001b[0mmodel_accuracy\u001b[0m \u001b[0;34m=\u001b[0m \u001b[0maccuracy_score\u001b[0m\u001b[0;34m(\u001b[0m\u001b[0my_true\u001b[0m\u001b[0;34m,\u001b[0m \u001b[0my_pred\u001b[0m\u001b[0;34m)\u001b[0m \u001b[0;34m*\u001b[0m \u001b[0;36m100\u001b[0m\u001b[0;34m\u001b[0m\u001b[0;34m\u001b[0m\u001b[0m\n\u001b[0m\u001b[1;32m     12\u001b[0m   \u001b[0;31m# Calculate model precision, recall and f1-score using 'weighted' average\u001b[0m\u001b[0;34m\u001b[0m\u001b[0;34m\u001b[0m\u001b[0;34m\u001b[0m\u001b[0m\n\u001b[1;32m     13\u001b[0m   \u001b[0mmodel_precision\u001b[0m\u001b[0;34m,\u001b[0m \u001b[0mmodel_recall\u001b[0m\u001b[0;34m,\u001b[0m \u001b[0mmodel_f1\u001b[0m\u001b[0;34m,\u001b[0m \u001b[0m_\u001b[0m \u001b[0;34m=\u001b[0m \u001b[0mprecision_recall_fscore_support\u001b[0m\u001b[0;34m(\u001b[0m\u001b[0my_true\u001b[0m\u001b[0;34m,\u001b[0m \u001b[0my_pred\u001b[0m\u001b[0;34m,\u001b[0m \u001b[0maverage\u001b[0m\u001b[0;34m=\u001b[0m\u001b[0;34m'weighted'\u001b[0m\u001b[0;34m)\u001b[0m\u001b[0;34m\u001b[0m\u001b[0;34m\u001b[0m\u001b[0m\n",
            "\u001b[0;32m/usr/local/lib/python3.7/dist-packages/sklearn/metrics/_classification.py\u001b[0m in \u001b[0;36maccuracy_score\u001b[0;34m(y_true, y_pred, normalize, sample_weight)\u001b[0m\n\u001b[1;32m    183\u001b[0m \u001b[0;34m\u001b[0m\u001b[0m\n\u001b[1;32m    184\u001b[0m     \u001b[0;31m# Compute accuracy for each possible representation\u001b[0m\u001b[0;34m\u001b[0m\u001b[0;34m\u001b[0m\u001b[0;34m\u001b[0m\u001b[0m\n\u001b[0;32m--> 185\u001b[0;31m     \u001b[0my_type\u001b[0m\u001b[0;34m,\u001b[0m \u001b[0my_true\u001b[0m\u001b[0;34m,\u001b[0m \u001b[0my_pred\u001b[0m \u001b[0;34m=\u001b[0m \u001b[0m_check_targets\u001b[0m\u001b[0;34m(\u001b[0m\u001b[0my_true\u001b[0m\u001b[0;34m,\u001b[0m \u001b[0my_pred\u001b[0m\u001b[0;34m)\u001b[0m\u001b[0;34m\u001b[0m\u001b[0;34m\u001b[0m\u001b[0m\n\u001b[0m\u001b[1;32m    186\u001b[0m     \u001b[0mcheck_consistent_length\u001b[0m\u001b[0;34m(\u001b[0m\u001b[0my_true\u001b[0m\u001b[0;34m,\u001b[0m \u001b[0my_pred\u001b[0m\u001b[0;34m,\u001b[0m \u001b[0msample_weight\u001b[0m\u001b[0;34m)\u001b[0m\u001b[0;34m\u001b[0m\u001b[0;34m\u001b[0m\u001b[0m\n\u001b[1;32m    187\u001b[0m     \u001b[0;32mif\u001b[0m \u001b[0my_type\u001b[0m\u001b[0;34m.\u001b[0m\u001b[0mstartswith\u001b[0m\u001b[0;34m(\u001b[0m\u001b[0;34m'multilabel'\u001b[0m\u001b[0;34m)\u001b[0m\u001b[0;34m:\u001b[0m\u001b[0;34m\u001b[0m\u001b[0;34m\u001b[0m\u001b[0m\n",
            "\u001b[0;32m/usr/local/lib/python3.7/dist-packages/sklearn/metrics/_classification.py\u001b[0m in \u001b[0;36m_check_targets\u001b[0;34m(y_true, y_pred)\u001b[0m\n\u001b[1;32m     88\u001b[0m     \u001b[0;32mif\u001b[0m \u001b[0mlen\u001b[0m\u001b[0;34m(\u001b[0m\u001b[0my_type\u001b[0m\u001b[0;34m)\u001b[0m \u001b[0;34m>\u001b[0m \u001b[0;36m1\u001b[0m\u001b[0;34m:\u001b[0m\u001b[0;34m\u001b[0m\u001b[0;34m\u001b[0m\u001b[0m\n\u001b[1;32m     89\u001b[0m         raise ValueError(\"Classification metrics can't handle a mix of {0} \"\n\u001b[0;32m---> 90\u001b[0;31m                          \"and {1} targets\".format(type_true, type_pred))\n\u001b[0m\u001b[1;32m     91\u001b[0m \u001b[0;34m\u001b[0m\u001b[0m\n\u001b[1;32m     92\u001b[0m     \u001b[0;31m# We can't have more than one value on y_type => The set is no more needed\u001b[0m\u001b[0;34m\u001b[0m\u001b[0;34m\u001b[0m\u001b[0;34m\u001b[0m\u001b[0m\n",
            "\u001b[0;31mValueError\u001b[0m: Classification metrics can't handle a mix of binary and multilabel-indicator targets"
          ]
        }
      ]
    },
    {
      "cell_type": "code",
      "metadata": {
        "id": "Sm-xgg-EpAdu"
      },
      "source": [
        ""
      ],
      "execution_count": null,
      "outputs": []
    }
  ]
}